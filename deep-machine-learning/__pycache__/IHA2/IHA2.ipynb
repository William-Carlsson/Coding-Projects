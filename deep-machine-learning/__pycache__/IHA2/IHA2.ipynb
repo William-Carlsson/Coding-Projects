{
 "cells": [
  {
   "cell_type": "markdown",
   "metadata": {
    "deletable": false,
    "editable": false,
    "nbgrader": {
     "cell_type": "markdown",
     "checksum": "ad8b0feffaddac686389c323e8f7b862",
     "grade": false,
     "grade_id": "cell-5690119ead85e67e",
     "locked": true,
     "schema_version": 3,
     "solution": false,
     "task": false
    }
   },
   "source": [
    "### Checklist for submission\n",
    "\n",
    "It is extremely important to make sure that:\n",
    "\n",
    "1. Everything runs as expected (no bugs when running cells);\n",
    "2. The output from each cell corresponds to its code (don't change any cell's contents without rerunning it afterwards);\n",
    "3. All outputs are present (don't delete any of the outputs);\n",
    "4. Fill in all the places that say `# YOUR CODE HERE`, or \"**Your answer:** (fill in here)\".\n",
    "5. Never copy/paste any notebook cells. Inserting new cells is allowed, but it should not be necessary.\n",
    "6. The notebook contains some hidden metadata which is important during our grading process. **Make sure not to corrupt any of this metadata!** The metadata may for example be corrupted if you copy/paste any notebook cells, or if you perform an unsuccessful git merge / git pull. It may also be pruned completely if using Google Colab, so watch out for this. Searching for \"nbgrader\" when opening the notebook in a text editor should take you to the important metadata entries.\n",
    "7. Although we will try our very best to avoid this, it may happen that bugs are found after an assignment is released, and that we will push an updated version of the assignment to GitHub. If this happens, it is important that you update to the new version, while making sure the notebook metadata is properly updated as well. The safest way to make sure nothing gets messed up is to start from scratch on a clean updated version of the notebook, copy/pasting your code from the cells of the previous version into the cells of the new version.\n",
    "8. If you need to have multiple parallel versions of this notebook, make sure not to move them to another directory.\n",
    "9. Although not forced to work exclusively in the course `conda` environment, you need to make sure that the notebook will run in that environment, i.e. that you have not added any additional dependencies.\n",
    "\n",
    "**FOR HA1, HA2 ONLY:** Failing to meet any of these requirements might lead to either a subtraction of points (at best) or a request for resubmission (at worst).\n",
    "\n",
    "We advise you to perform the following steps before submission to ensure that requirements 1, 2, and 3 are always met: **Restart the kernel** (in the menubar, select Kernel$\\rightarrow$Restart) and then **run all cells** (in the menubar, select Cell$\\rightarrow$Run All). This might require a bit of time, so plan ahead for this (and possibly use a cloud GPU in HA1 and HA2 for this step). Finally press the \"Save and Checkout\" button before handing in, to make sure that all your changes are saved to this .ipynb file."
   ]
  },
  {
   "cell_type": "markdown",
   "metadata": {
    "deletable": false,
    "editable": false,
    "nbgrader": {
     "cell_type": "markdown",
     "checksum": "a6bb874a16c1ff767ac0f37ce0491265",
     "grade": false,
     "grade_id": "cell-774c93bf6433de68",
     "locked": true,
     "schema_version": 3,
     "solution": false,
     "task": false
    }
   },
   "source": [
    "### Fill in name of notebook file\n",
    "This might seem silly, but the version check below needs to know the filename of the current notebook, which is not trivial to find out programmatically.\n",
    "\n",
    "You might want to have several parallel versions of the notebook, and it is fine to rename the notebook as long as it stays in the same directory. **However**, if you do rename it, you also need to update its own filename below:"
   ]
  },
  {
   "cell_type": "code",
   "execution_count": 1,
   "metadata": {},
   "outputs": [],
   "source": [
    "nb_fname = \"IHA2.ipynb\""
   ]
  },
  {
   "cell_type": "markdown",
   "metadata": {
    "deletable": false,
    "editable": false,
    "nbgrader": {
     "cell_type": "markdown",
     "checksum": "270e43e75da54d7fb8afbda64083f4e3",
     "grade": false,
     "grade_id": "cell-5676bcf768a7f9be",
     "locked": true,
     "schema_version": 3,
     "solution": false,
     "task": false
    }
   },
   "source": [
    "### Fill in group number and member names (use NAME2 and GROUP only for HA1 and HA2):"
   ]
  },
  {
   "cell_type": "code",
   "execution_count": 2,
   "metadata": {},
   "outputs": [],
   "source": [
    "NAME1 = \"William Carlsson\"\n",
    "NAME2 = \"\"\n",
    "GROUP = \"\""
   ]
  },
  {
   "cell_type": "markdown",
   "metadata": {
    "deletable": false,
    "editable": false,
    "nbgrader": {
     "cell_type": "markdown",
     "checksum": "42f960a95815e1aa3ce8132fcec59cd9",
     "grade": false,
     "grade_id": "cell-a15fe781533d9590",
     "locked": true,
     "schema_version": 3,
     "solution": false,
     "task": false
    }
   },
   "source": [
    "### Check Python version"
   ]
  },
  {
   "cell_type": "code",
   "execution_count": 3,
   "metadata": {
    "deletable": false,
    "editable": false,
    "nbgrader": {
     "cell_type": "code",
     "checksum": "72b2403e87a33f87371b150984248355",
     "grade": false,
     "grade_id": "cell-2b9c2390ee464c39",
     "locked": true,
     "schema_version": 3,
     "solution": false,
     "task": false
    }
   },
   "outputs": [],
   "source": [
    "from platform import python_version_tuple\n",
    "\n",
    "assert (\n",
    "    python_version_tuple()[:2] == (\"3\", \"11\")\n",
    "), \"You are not running Python 3.11. Make sure to run Python through the course Conda environment.\""
   ]
  },
  {
   "cell_type": "markdown",
   "metadata": {
    "deletable": false,
    "editable": false,
    "nbgrader": {
     "cell_type": "markdown",
     "checksum": "15ec4309f1e85f6e17bda73b9b6f48a2",
     "grade": false,
     "grade_id": "cell-4869b45600ce82f8",
     "locked": true,
     "schema_version": 3,
     "solution": false,
     "task": false
    }
   },
   "source": [
    "### Check that notebook server has access to all required resources, and that notebook has not moved"
   ]
  },
  {
   "cell_type": "code",
   "execution_count": 4,
   "metadata": {
    "deletable": false,
    "editable": false,
    "nbgrader": {
     "cell_type": "code",
     "checksum": "c741699084b67aa21d06ff931465b378",
     "grade": false,
     "grade_id": "cell-122ac3d9100b8afb",
     "locked": true,
     "schema_version": 3,
     "solution": false,
     "task": false
    }
   },
   "outputs": [],
   "source": [
    "import os\n",
    "\n",
    "nb_dirname = os.path.abspath(\"\")\n",
    "assignment_name = os.path.basename(nb_dirname)\n",
    "assert assignment_name in [\n",
    "    \"IHA1\",\n",
    "    \"IHA2\",\n",
    "    \"HA1\",\n",
    "    \"HA2\",\n",
    "], \"[ERROR] The notebook appears to have been moved from its original directory\""
   ]
  },
  {
   "cell_type": "markdown",
   "metadata": {
    "deletable": false,
    "editable": false,
    "nbgrader": {
     "cell_type": "markdown",
     "checksum": "f09f40b5350db83232189137c550f0a1",
     "grade": false,
     "grade_id": "cell-2455deee513cd39c",
     "locked": true,
     "schema_version": 3,
     "solution": false,
     "task": false
    }
   },
   "source": [
    "### Verify correct nb_fname"
   ]
  },
  {
   "cell_type": "code",
   "execution_count": 5,
   "metadata": {
    "deletable": false,
    "editable": false,
    "nbgrader": {
     "cell_type": "code",
     "checksum": "1709bd6d2b55a83969e44d70763b1167",
     "grade": false,
     "grade_id": "cell-0472e2fd710f1d72",
     "locked": true,
     "schema_version": 3,
     "solution": false,
     "task": false
    }
   },
   "outputs": [
    {
     "data": {
      "text/html": [
       "<script>if(\"IHA2.ipynb\" != IPython.notebook.notebook_name) { alert(\"You have filled in nb_fname = \\\"IHA2.ipynb\\\", but this does not seem to match the notebook filename \\\"\" + IPython.notebook.notebook_name + \"\\\".\"); }</script>"
      ],
      "text/plain": [
       "<IPython.core.display.HTML object>"
      ]
     },
     "metadata": {},
     "output_type": "display_data"
    }
   ],
   "source": [
    "from IPython.display import HTML, display\n",
    "\n",
    "try:\n",
    "    display(\n",
    "        HTML(\n",
    "            r'<script>if(\"{nb_fname}\" != IPython.notebook.notebook_name) {{ alert(\"You have filled in nb_fname = \\\"{nb_fname}\\\", but this does not seem to match the notebook filename \\\"\" + IPython.notebook.notebook_name + \"\\\".\"); }}</script>'.format(\n",
    "                nb_fname=nb_fname\n",
    "            )\n",
    "        )\n",
    "    )\n",
    "except NameError:\n",
    "    assert False, \"Make sure to fill in the nb_fname variable above!\""
   ]
  },
  {
   "cell_type": "markdown",
   "metadata": {
    "deletable": false,
    "editable": false,
    "nbgrader": {
     "cell_type": "markdown",
     "checksum": "98d88d8e8da19693053764f29dcc591d",
     "grade": false,
     "grade_id": "cell-ceacb1adcae4783d",
     "locked": true,
     "schema_version": 3,
     "solution": false,
     "task": false
    }
   },
   "source": [
    "### Verify that your notebook is up-to-date and not corrupted in any way"
   ]
  },
  {
   "cell_type": "code",
   "execution_count": 6,
   "metadata": {
    "deletable": false,
    "editable": false,
    "nbgrader": {
     "cell_type": "code",
     "checksum": "6f405c9cd7b9720915f79dba54c89375",
     "grade": false,
     "grade_id": "cell-f5a59288e11b4aec",
     "locked": true,
     "schema_version": 3,
     "solution": false,
     "task": false
    }
   },
   "outputs": [
    {
     "name": "stdout",
     "output_type": "stream",
     "text": [
      "Matching current notebook against the following URL:\n",
      "http://raw.githubusercontent.com/dml-cth/deep-machine-learning/master/home-assignments/IHA2/IHA2.ipynb\n",
      "[SUCCESS] No major notebook mismatch found when comparing to latest GitHub version. (There might be minor updates, but even that is the case, submitting your work based on this notebook version would be acceptable.)\n"
     ]
    }
   ],
   "source": [
    "import sys\n",
    "\n",
    "sys.path.append(\"..\")\n",
    "from ha_utils import check_notebook_uptodate_and_not_corrupted\n",
    "\n",
    "check_notebook_uptodate_and_not_corrupted(nb_dirname, nb_fname)"
   ]
  },
  {
   "cell_type": "markdown",
   "metadata": {
    "deletable": false,
    "editable": false,
    "nbgrader": {
     "cell_type": "markdown",
     "checksum": "587eb0d471650fb68cb3c1f5021df2d4",
     "grade": false,
     "grade_id": "cell-1420bd2a80dfa7d5",
     "locked": true,
     "schema_version": 3,
     "solution": false
    }
   },
   "source": [
    "# IHA2 - Catching Pokemon"
   ]
  },
  {
   "cell_type": "markdown",
   "metadata": {
    "deletable": false,
    "editable": false,
    "nbgrader": {
     "cell_type": "markdown",
     "checksum": "57c5f7037fd0f1ca2377e5f021815405",
     "grade": false,
     "grade_id": "cell-c0cb4dde48293818",
     "locked": true,
     "schema_version": 3,
     "solution": false
    }
   },
   "source": [
    "![](https://upload.wikimedia.org/wikipedia/en/4/46/Pokemon_Go.png)"
   ]
  },
  {
   "cell_type": "markdown",
   "metadata": {
    "deletable": false,
    "editable": false,
    "nbgrader": {
     "cell_type": "markdown",
     "checksum": "9acef9de3d4fc4337e7dadd4fd579462",
     "grade": false,
     "grade_id": "cell-b16d667dd74a9079",
     "locked": true,
     "schema_version": 3,
     "solution": false
    }
   },
   "source": [
    "In this home assignment, you'll apply roughly the same principles we used when doing logistic regression on the Iris dataset in Computer Lab 1, but on a different and very interesting dataset. We'll use the [Predict'em All dataset from Kaggle](https://www.kaggle.com/semioniy/predictemall). To download the dataset you will need a Kaggle account. This dataset consists of roughly 293,000 [pokemon](http://www.pokemongo.com/) sightings (historical appearances of Pokemon in the Pokemon Go game), with geographical coordinates, time, weather, population density, distance to pokestops/gyms etc. as features. A comprehensive list of all the features is available at [the dataset's homepage](https://www.kaggle.com/semioniy/predictemall).\n",
    "\n",
    "The context is simple: you are a Pokemon hunter, and there are only three Pokemon left for you to complete your collection. You'll do anything to capture them, including changing where you'll spend your next holidays! You know that some Pokemon only spawn in certain places of the world. Since you like machine learning so much, you figure it would be a great idea to train a classifier that, based on a location's longitude and latitude, can tell us which Pokemon is more likely to appear there.\n",
    "\n",
    "The assignment is broken down into six steps.\n",
    "\n",
    "1. Loading the data and extracting the desired subset of it\n",
    "2. Visualization of the dataset\n",
    "3. Preprocessing\n",
    "4. Training\n",
    "5. Evaluation\n",
    "6. Exploration\n",
    "\n",
    "Feel free to temporarily add cells wherever you see fit, and play around with this notebook as much as you want when developing the solutions. However, the solution you upload to Canvas must have the exact format shown here, with only the cells present here.\n",
    "\n",
    "Don't restrict yourself only to what was taught so far. Some of the tasks might require you to search for new information. However, **be sure that you do the assignment using PyTorch** since we will be using it through the following assignments as well. [The Python docs](https://docs.python.org/3/), [PyTorch docs](https://pytorch.org/docs/stable/index.html), [stackoverflow](https://stackoverflow.com/), and Google are your friends!\n",
    "\n",
    "**Hint:** Solving Computer Lab 1 (CL1) is a good way to get prepared for this assignment.\n",
    "\n",
    "To pass this assignment, your solutions should pass all tests (`assert`-statements). Note that the tests shown to you are not exhaustive, and additional hidden tests exist for some of the tasks. Further, similar to IHA1, this notebook contains some questions where we ask you to reflect upon some results. These questions will not be graded in detail, but we still expect you to answer them."
   ]
  },
  {
   "cell_type": "markdown",
   "metadata": {
    "deletable": false,
    "editable": false,
    "nbgrader": {
     "cell_type": "markdown",
     "checksum": "6d8a3b20e9634f5c918019159cde8280",
     "grade": false,
     "grade_id": "cell-b9e4c4aa45490941",
     "locked": true,
     "schema_version": 3,
     "solution": false
    }
   },
   "source": [
    "## 0. Imports"
   ]
  },
  {
   "cell_type": "markdown",
   "metadata": {
    "deletable": false,
    "editable": false,
    "nbgrader": {
     "cell_type": "markdown",
     "checksum": "ca68d5a34a1d6f8633072976fad132a3",
     "grade": false,
     "grade_id": "cell-548d168c5c9e8c39",
     "locked": true,
     "schema_version": 3,
     "solution": false
    }
   },
   "source": [
    "Import any necessary modules here."
   ]
  },
  {
   "cell_type": "code",
   "execution_count": 7,
   "metadata": {
    "deletable": false,
    "nbgrader": {
     "cell_type": "code",
     "checksum": "4bd0c1d994ba501cd83cb86c40a43122",
     "grade": false,
     "grade_id": "cell-4e61b7fa879ef4a1",
     "locked": false,
     "schema_version": 3,
     "solution": true,
     "task": false
    }
   },
   "outputs": [],
   "source": [
    "# YOUR CODE HERE\n",
    "import matplotlib.pyplot as plt\n",
    "import numpy as np\n",
    "import pandas as pd\n",
    "import torch\n",
    "import torch.optim as optim\n",
    "import torch.nn.functional as F\n",
    "from sklearn.model_selection import train_test_split\n",
    "from torch.utils.data import Dataset, DataLoader\n",
    "from typing import Callable, Union\n",
    "import torch.nn as nn\n",
    "import torch.utils\n",
    "from matplotlib.colors import ListedColormap"
   ]
  },
  {
   "cell_type": "markdown",
   "metadata": {
    "deletable": false,
    "editable": false,
    "nbgrader": {
     "cell_type": "markdown",
     "checksum": "a576cdb7f1a3658a7eb906977c5e40fb",
     "grade": false,
     "grade_id": "cell-50c33a3517aea662",
     "locked": true,
     "schema_version": 3,
     "solution": false
    }
   },
   "source": [
    "## 1. Loading and extracting subset"
   ]
  },
  {
   "cell_type": "markdown",
   "metadata": {
    "deletable": false,
    "editable": false,
    "nbgrader": {
     "cell_type": "markdown",
     "checksum": "8f1178610f2a3de2652d78bf724e5c6a",
     "grade": false,
     "grade_id": "cell-32f6c44c22e84d42",
     "locked": true,
     "schema_version": 3,
     "solution": false
    }
   },
   "source": [
    "The first step consists of filtering the dataset by the three Pokémon you are interested at. \n",
    "\n",
    "Start by loading the `'300k.csv'` file using pandas. If you haven't downloaded it yet, either use [this link](https://www.kaggle.com/semioniy/predictemall) to do so (and place the file in the same folder as this notebook), or simply run the cell below. You might have to [create a new API token](https://www.kaggle.com/settings/account) before the commands work."
   ]
  },
  {
   "cell_type": "code",
   "execution_count": 8,
   "metadata": {
    "deletable": false,
    "editable": false,
    "nbgrader": {
     "cell_type": "code",
     "checksum": "f8b85c109b1e96fc2c692b69d07573ea",
     "grade": false,
     "grade_id": "cell-39c13080b772bfe5",
     "locked": true,
     "schema_version": 3,
     "solution": false,
     "task": false
    }
   },
   "outputs": [
    {
     "name": "stdout",
     "output_type": "stream",
     "text": [
      "Warning: Looks like you're using an outdated API Version, please consider updating (server 1.6.17 / client 1.6.14)\n",
      "Dataset URL: https://www.kaggle.com/datasets/semioniy/predictemall\n",
      "License(s): unknown\n",
      "predictemall.zip: Skipping, found more recently modified local copy (use --force to force download)\n"
     ]
    },
    {
     "name": "stderr",
     "output_type": "stream",
     "text": [
      "'unzip' is not recognized as an internal or external command,\n",
      "operable program or batch file.\n",
      "'rm' is not recognized as an internal or external command,\n",
      "operable program or batch file.\n"
     ]
    }
   ],
   "source": [
    "!kaggle datasets download -d semioniy/predictemall\n",
    "!unzip -u predictemall.zip\n",
    "!rm -rf predictemall.zip 300k_arff 300k.arff 300k_csv"
   ]
  },
  {
   "cell_type": "code",
   "execution_count": 9,
   "metadata": {
    "deletable": false,
    "nbgrader": {
     "cell_type": "code",
     "checksum": "1308d475120c2d9e46b37129e7221f99",
     "grade": false,
     "grade_id": "cell-53b2a6c0754fca1d",
     "locked": false,
     "schema_version": 3,
     "solution": true,
     "task": false
    }
   },
   "outputs": [
    {
     "name": "stderr",
     "output_type": "stream",
     "text": [
      "C:\\Users\\willi\\AppData\\Local\\Temp\\ipykernel_6728\\1526938253.py:3: DtypeWarning: Columns (49) have mixed types. Specify dtype option on import or set low_memory=False.\n",
      "  df = pd.read_csv(\"300k.csv\")\n"
     ]
    },
    {
     "data": {
      "text/html": [
       "<div>\n",
       "<style scoped>\n",
       "    .dataframe tbody tr th:only-of-type {\n",
       "        vertical-align: middle;\n",
       "    }\n",
       "\n",
       "    .dataframe tbody tr th {\n",
       "        vertical-align: top;\n",
       "    }\n",
       "\n",
       "    .dataframe thead th {\n",
       "        text-align: right;\n",
       "    }\n",
       "</style>\n",
       "<table border=\"1\" class=\"dataframe\">\n",
       "  <thead>\n",
       "    <tr style=\"text-align: right;\">\n",
       "      <th></th>\n",
       "      <th>pokemonId</th>\n",
       "      <th>latitude</th>\n",
       "      <th>longitude</th>\n",
       "      <th>appearedLocalTime</th>\n",
       "      <th>_id</th>\n",
       "      <th>cellId_90m</th>\n",
       "      <th>cellId_180m</th>\n",
       "      <th>cellId_370m</th>\n",
       "      <th>cellId_730m</th>\n",
       "      <th>cellId_1460m</th>\n",
       "      <th>...</th>\n",
       "      <th>cooc_143</th>\n",
       "      <th>cooc_144</th>\n",
       "      <th>cooc_145</th>\n",
       "      <th>cooc_146</th>\n",
       "      <th>cooc_147</th>\n",
       "      <th>cooc_148</th>\n",
       "      <th>cooc_149</th>\n",
       "      <th>cooc_150</th>\n",
       "      <th>cooc_151</th>\n",
       "      <th>class</th>\n",
       "    </tr>\n",
       "  </thead>\n",
       "  <tbody>\n",
       "    <tr>\n",
       "      <th>0</th>\n",
       "      <td>16</td>\n",
       "      <td>20.525745</td>\n",
       "      <td>-97.460829</td>\n",
       "      <td>2016-09-08T03:57:45</td>\n",
       "      <td>NTgxMDkzOTk4MTM5MjUwMjIzNw==</td>\n",
       "      <td>9645139108510564000</td>\n",
       "      <td>9645139108711890000</td>\n",
       "      <td>9645139108443455000</td>\n",
       "      <td>9645139109517197000</td>\n",
       "      <td>9645139113812165000</td>\n",
       "      <td>...</td>\n",
       "      <td>False</td>\n",
       "      <td>False</td>\n",
       "      <td>False</td>\n",
       "      <td>False</td>\n",
       "      <td>False</td>\n",
       "      <td>False</td>\n",
       "      <td>False</td>\n",
       "      <td>False</td>\n",
       "      <td>False</td>\n",
       "      <td>16</td>\n",
       "    </tr>\n",
       "    <tr>\n",
       "      <th>1</th>\n",
       "      <td>133</td>\n",
       "      <td>20.523695</td>\n",
       "      <td>-97.461167</td>\n",
       "      <td>2016-09-08T03:57:37</td>\n",
       "      <td>OTQ1NDgzODc1MjM3NDEzMTI2MQ==</td>\n",
       "      <td>9645139109852742000</td>\n",
       "      <td>9645139109785633000</td>\n",
       "      <td>9645139110590940000</td>\n",
       "      <td>9645139109517197000</td>\n",
       "      <td>9645139113812165000</td>\n",
       "      <td>...</td>\n",
       "      <td>False</td>\n",
       "      <td>False</td>\n",
       "      <td>False</td>\n",
       "      <td>False</td>\n",
       "      <td>False</td>\n",
       "      <td>False</td>\n",
       "      <td>False</td>\n",
       "      <td>False</td>\n",
       "      <td>False</td>\n",
       "      <td>133</td>\n",
       "    </tr>\n",
       "    <tr>\n",
       "      <th>2</th>\n",
       "      <td>16</td>\n",
       "      <td>38.903590</td>\n",
       "      <td>-77.199780</td>\n",
       "      <td>2016-09-08T03:57:25</td>\n",
       "      <td>NTQ0OTQ0NDA1Nzg2ODg3OTg2OQ==</td>\n",
       "      <td>9923201472785285000</td>\n",
       "      <td>9923201472986612000</td>\n",
       "      <td>9923201473791918000</td>\n",
       "      <td>9923201477013144000</td>\n",
       "      <td>9923201481308110000</td>\n",
       "      <td>...</td>\n",
       "      <td>False</td>\n",
       "      <td>False</td>\n",
       "      <td>False</td>\n",
       "      <td>False</td>\n",
       "      <td>False</td>\n",
       "      <td>False</td>\n",
       "      <td>False</td>\n",
       "      <td>False</td>\n",
       "      <td>False</td>\n",
       "      <td>16</td>\n",
       "    </tr>\n",
       "    <tr>\n",
       "      <th>3</th>\n",
       "      <td>13</td>\n",
       "      <td>47.665903</td>\n",
       "      <td>-122.312561</td>\n",
       "      <td>2016-09-08T03:56:22</td>\n",
       "      <td>NTU2MTU1NDM4NzA2MDk1MDcxNw==</td>\n",
       "      <td>6093392705025474600</td>\n",
       "      <td>6093392705092583400</td>\n",
       "      <td>6093392705897889800</td>\n",
       "      <td>6093392702676664300</td>\n",
       "      <td>6093392715561566200</td>\n",
       "      <td>...</td>\n",
       "      <td>False</td>\n",
       "      <td>False</td>\n",
       "      <td>False</td>\n",
       "      <td>False</td>\n",
       "      <td>False</td>\n",
       "      <td>False</td>\n",
       "      <td>False</td>\n",
       "      <td>False</td>\n",
       "      <td>False</td>\n",
       "      <td>13</td>\n",
       "    </tr>\n",
       "    <tr>\n",
       "      <th>4</th>\n",
       "      <td>133</td>\n",
       "      <td>47.666454</td>\n",
       "      <td>-122.311628</td>\n",
       "      <td>2016-09-08T03:56:08</td>\n",
       "      <td>MTY2ODg4MTAzMTczMDE0MTUwNTM=</td>\n",
       "      <td>6093392707709829100</td>\n",
       "      <td>6093392707776938000</td>\n",
       "      <td>6093392708045373400</td>\n",
       "      <td>6093392711266598900</td>\n",
       "      <td>6093392715561566200</td>\n",
       "      <td>...</td>\n",
       "      <td>False</td>\n",
       "      <td>False</td>\n",
       "      <td>False</td>\n",
       "      <td>False</td>\n",
       "      <td>False</td>\n",
       "      <td>False</td>\n",
       "      <td>False</td>\n",
       "      <td>False</td>\n",
       "      <td>False</td>\n",
       "      <td>133</td>\n",
       "    </tr>\n",
       "    <tr>\n",
       "      <th>...</th>\n",
       "      <td>...</td>\n",
       "      <td>...</td>\n",
       "      <td>...</td>\n",
       "      <td>...</td>\n",
       "      <td>...</td>\n",
       "      <td>...</td>\n",
       "      <td>...</td>\n",
       "      <td>...</td>\n",
       "      <td>...</td>\n",
       "      <td>...</td>\n",
       "      <td>...</td>\n",
       "      <td>...</td>\n",
       "      <td>...</td>\n",
       "      <td>...</td>\n",
       "      <td>...</td>\n",
       "      <td>...</td>\n",
       "      <td>...</td>\n",
       "      <td>...</td>\n",
       "      <td>...</td>\n",
       "      <td>...</td>\n",
       "      <td>...</td>\n",
       "    </tr>\n",
       "    <tr>\n",
       "      <th>296016</th>\n",
       "      <td>19</td>\n",
       "      <td>39.119052</td>\n",
       "      <td>-76.633194</td>\n",
       "      <td>2016-09-02T21:50:11</td>\n",
       "      <td>MzM1MzA0NjEyNTIxNTQ1OTY5Mw==</td>\n",
       "      <td>9923676629312209000</td>\n",
       "      <td>9923676629513535000</td>\n",
       "      <td>9923676630318842000</td>\n",
       "      <td>9923676629245100000</td>\n",
       "      <td>9923676642130002000</td>\n",
       "      <td>...</td>\n",
       "      <td>False</td>\n",
       "      <td>False</td>\n",
       "      <td>False</td>\n",
       "      <td>False</td>\n",
       "      <td>False</td>\n",
       "      <td>False</td>\n",
       "      <td>False</td>\n",
       "      <td>False</td>\n",
       "      <td>False</td>\n",
       "      <td>19</td>\n",
       "    </tr>\n",
       "    <tr>\n",
       "      <th>296017</th>\n",
       "      <td>13</td>\n",
       "      <td>47.142237</td>\n",
       "      <td>7.244752</td>\n",
       "      <td>2016-09-02T21:50:08</td>\n",
       "      <td>NjA0NDc3OTcxMzk2NjM5MzgyMQ==</td>\n",
       "      <td>5156092353173258200</td>\n",
       "      <td>5156092353106149400</td>\n",
       "      <td>5156092352837713900</td>\n",
       "      <td>5156092351763972100</td>\n",
       "      <td>5156092347469004800</td>\n",
       "      <td>...</td>\n",
       "      <td>False</td>\n",
       "      <td>False</td>\n",
       "      <td>False</td>\n",
       "      <td>False</td>\n",
       "      <td>False</td>\n",
       "      <td>False</td>\n",
       "      <td>False</td>\n",
       "      <td>False</td>\n",
       "      <td>False</td>\n",
       "      <td>13</td>\n",
       "    </tr>\n",
       "    <tr>\n",
       "      <th>296018</th>\n",
       "      <td>16</td>\n",
       "      <td>42.258532</td>\n",
       "      <td>-87.881248</td>\n",
       "      <td>2016-09-02T21:50:07</td>\n",
       "      <td>OTIzODI4ODYyOTUyMjI4NzI0NQ==</td>\n",
       "      <td>9804218613467447000</td>\n",
       "      <td>9804218613534556000</td>\n",
       "      <td>9804218613266120000</td>\n",
       "      <td>9804218616487346000</td>\n",
       "      <td>9804218620782313000</td>\n",
       "      <td>...</td>\n",
       "      <td>False</td>\n",
       "      <td>False</td>\n",
       "      <td>False</td>\n",
       "      <td>False</td>\n",
       "      <td>False</td>\n",
       "      <td>False</td>\n",
       "      <td>False</td>\n",
       "      <td>False</td>\n",
       "      <td>False</td>\n",
       "      <td>16</td>\n",
       "    </tr>\n",
       "    <tr>\n",
       "      <th>296019</th>\n",
       "      <td>19</td>\n",
       "      <td>26.230929</td>\n",
       "      <td>-98.194772</td>\n",
       "      <td>2016-09-02T21:50:07</td>\n",
       "      <td>MTcwMjEwNDQ3Mjk1MjIwOTM5NDk=</td>\n",
       "      <td>9684323464441233000</td>\n",
       "      <td>9684323464374125000</td>\n",
       "      <td>9684323465179430000</td>\n",
       "      <td>9684323461958205000</td>\n",
       "      <td>9684323474843107000</td>\n",
       "      <td>...</td>\n",
       "      <td>False</td>\n",
       "      <td>False</td>\n",
       "      <td>False</td>\n",
       "      <td>False</td>\n",
       "      <td>False</td>\n",
       "      <td>False</td>\n",
       "      <td>False</td>\n",
       "      <td>False</td>\n",
       "      <td>False</td>\n",
       "      <td>19</td>\n",
       "    </tr>\n",
       "    <tr>\n",
       "      <th>296020</th>\n",
       "      <td>96</td>\n",
       "      <td>50.144272</td>\n",
       "      <td>14.101178</td>\n",
       "      <td>2016-09-02T21:50:06</td>\n",
       "      <td>MTMzNzM3NzQ1MTM4MTcwMTE0Njk=</td>\n",
       "      <td>5119387559171981300</td>\n",
       "      <td>5119387559373307900</td>\n",
       "      <td>5119387560178614300</td>\n",
       "      <td>5119387561252356100</td>\n",
       "      <td>5119387556957388800</td>\n",
       "      <td>...</td>\n",
       "      <td>False</td>\n",
       "      <td>False</td>\n",
       "      <td>False</td>\n",
       "      <td>False</td>\n",
       "      <td>False</td>\n",
       "      <td>False</td>\n",
       "      <td>False</td>\n",
       "      <td>False</td>\n",
       "      <td>False</td>\n",
       "      <td>96</td>\n",
       "    </tr>\n",
       "  </tbody>\n",
       "</table>\n",
       "<p>296021 rows × 208 columns</p>\n",
       "</div>"
      ],
      "text/plain": [
       "        pokemonId   latitude   longitude    appearedLocalTime  \\\n",
       "0              16  20.525745  -97.460829  2016-09-08T03:57:45   \n",
       "1             133  20.523695  -97.461167  2016-09-08T03:57:37   \n",
       "2              16  38.903590  -77.199780  2016-09-08T03:57:25   \n",
       "3              13  47.665903 -122.312561  2016-09-08T03:56:22   \n",
       "4             133  47.666454 -122.311628  2016-09-08T03:56:08   \n",
       "...           ...        ...         ...                  ...   \n",
       "296016         19  39.119052  -76.633194  2016-09-02T21:50:11   \n",
       "296017         13  47.142237    7.244752  2016-09-02T21:50:08   \n",
       "296018         16  42.258532  -87.881248  2016-09-02T21:50:07   \n",
       "296019         19  26.230929  -98.194772  2016-09-02T21:50:07   \n",
       "296020         96  50.144272   14.101178  2016-09-02T21:50:06   \n",
       "\n",
       "                                 _id           cellId_90m  \\\n",
       "0       NTgxMDkzOTk4MTM5MjUwMjIzNw==  9645139108510564000   \n",
       "1       OTQ1NDgzODc1MjM3NDEzMTI2MQ==  9645139109852742000   \n",
       "2       NTQ0OTQ0NDA1Nzg2ODg3OTg2OQ==  9923201472785285000   \n",
       "3       NTU2MTU1NDM4NzA2MDk1MDcxNw==  6093392705025474600   \n",
       "4       MTY2ODg4MTAzMTczMDE0MTUwNTM=  6093392707709829100   \n",
       "...                              ...                  ...   \n",
       "296016  MzM1MzA0NjEyNTIxNTQ1OTY5Mw==  9923676629312209000   \n",
       "296017  NjA0NDc3OTcxMzk2NjM5MzgyMQ==  5156092353173258200   \n",
       "296018  OTIzODI4ODYyOTUyMjI4NzI0NQ==  9804218613467447000   \n",
       "296019  MTcwMjEwNDQ3Mjk1MjIwOTM5NDk=  9684323464441233000   \n",
       "296020  MTMzNzM3NzQ1MTM4MTcwMTE0Njk=  5119387559171981300   \n",
       "\n",
       "                cellId_180m          cellId_370m          cellId_730m  \\\n",
       "0       9645139108711890000  9645139108443455000  9645139109517197000   \n",
       "1       9645139109785633000  9645139110590940000  9645139109517197000   \n",
       "2       9923201472986612000  9923201473791918000  9923201477013144000   \n",
       "3       6093392705092583400  6093392705897889800  6093392702676664300   \n",
       "4       6093392707776938000  6093392708045373400  6093392711266598900   \n",
       "...                     ...                  ...                  ...   \n",
       "296016  9923676629513535000  9923676630318842000  9923676629245100000   \n",
       "296017  5156092353106149400  5156092352837713900  5156092351763972100   \n",
       "296018  9804218613534556000  9804218613266120000  9804218616487346000   \n",
       "296019  9684323464374125000  9684323465179430000  9684323461958205000   \n",
       "296020  5119387559373307900  5119387560178614300  5119387561252356100   \n",
       "\n",
       "               cellId_1460m  ...  cooc_143  cooc_144 cooc_145  cooc_146  \\\n",
       "0       9645139113812165000  ...     False     False    False     False   \n",
       "1       9645139113812165000  ...     False     False    False     False   \n",
       "2       9923201481308110000  ...     False     False    False     False   \n",
       "3       6093392715561566200  ...     False     False    False     False   \n",
       "4       6093392715561566200  ...     False     False    False     False   \n",
       "...                     ...  ...       ...       ...      ...       ...   \n",
       "296016  9923676642130002000  ...     False     False    False     False   \n",
       "296017  5156092347469004800  ...     False     False    False     False   \n",
       "296018  9804218620782313000  ...     False     False    False     False   \n",
       "296019  9684323474843107000  ...     False     False    False     False   \n",
       "296020  5119387556957388800  ...     False     False    False     False   \n",
       "\n",
       "        cooc_147 cooc_148  cooc_149  cooc_150  cooc_151  class  \n",
       "0          False    False     False     False     False     16  \n",
       "1          False    False     False     False     False    133  \n",
       "2          False    False     False     False     False     16  \n",
       "3          False    False     False     False     False     13  \n",
       "4          False    False     False     False     False    133  \n",
       "...          ...      ...       ...       ...       ...    ...  \n",
       "296016     False    False     False     False     False     19  \n",
       "296017     False    False     False     False     False     13  \n",
       "296018     False    False     False     False     False     16  \n",
       "296019     False    False     False     False     False     19  \n",
       "296020     False    False     False     False     False     96  \n",
       "\n",
       "[296021 rows x 208 columns]"
      ]
     },
     "execution_count": 9,
     "metadata": {},
     "output_type": "execute_result"
    }
   ],
   "source": [
    "# TODO: load the dataset using pandas to a dataframe called df\n",
    "# YOUR CODE HERE\n",
    "df = pd.read_csv(\"300k.csv\")\n",
    "df"
   ]
  },
  {
   "cell_type": "code",
   "execution_count": 10,
   "metadata": {
    "deletable": false,
    "editable": false,
    "nbgrader": {
     "cell_type": "code",
     "checksum": "937dc09867c39ed4282c3552a0a2d3fc",
     "grade": true,
     "grade_id": "cell-d7bd8d78c4388b4d",
     "locked": true,
     "points": 1,
     "schema_version": 3,
     "solution": false,
     "task": false
    }
   },
   "outputs": [],
   "source": [
    "assert df.shape == (\n",
    "    296021,\n",
    "    208,\n",
    "), f\"Dataframe has not the right shape. {df.shape} != (296021, 208)\"\n",
    "assert isinstance(df, pd.DataFrame), f\"df is not a dataframe. Was {type(df)}\""
   ]
  },
  {
   "cell_type": "markdown",
   "metadata": {
    "deletable": false,
    "editable": false,
    "nbgrader": {
     "cell_type": "markdown",
     "checksum": "9e5a6ed587a81abc562131a9a019da9a",
     "grade": false,
     "grade_id": "cell-5d36e8f9780ea946",
     "locked": true,
     "schema_version": 3,
     "solution": false
    }
   },
   "source": [
    "Modify `df` to only have the columns `latitude`, `longitude`, and `class`."
   ]
  },
  {
   "cell_type": "code",
   "execution_count": 11,
   "metadata": {
    "deletable": false,
    "nbgrader": {
     "cell_type": "code",
     "checksum": "32fe82a12426d7fd89c7b44803e9901d",
     "grade": false,
     "grade_id": "cell-318e20fd02ab7f30",
     "locked": false,
     "schema_version": 3,
     "solution": true,
     "task": false
    }
   },
   "outputs": [
    {
     "data": {
      "text/html": [
       "<div>\n",
       "<style scoped>\n",
       "    .dataframe tbody tr th:only-of-type {\n",
       "        vertical-align: middle;\n",
       "    }\n",
       "\n",
       "    .dataframe tbody tr th {\n",
       "        vertical-align: top;\n",
       "    }\n",
       "\n",
       "    .dataframe thead th {\n",
       "        text-align: right;\n",
       "    }\n",
       "</style>\n",
       "<table border=\"1\" class=\"dataframe\">\n",
       "  <thead>\n",
       "    <tr style=\"text-align: right;\">\n",
       "      <th></th>\n",
       "      <th>latitude</th>\n",
       "      <th>longitude</th>\n",
       "      <th>class</th>\n",
       "    </tr>\n",
       "  </thead>\n",
       "  <tbody>\n",
       "    <tr>\n",
       "      <th>0</th>\n",
       "      <td>20.525745</td>\n",
       "      <td>-97.460829</td>\n",
       "      <td>16</td>\n",
       "    </tr>\n",
       "    <tr>\n",
       "      <th>1</th>\n",
       "      <td>20.523695</td>\n",
       "      <td>-97.461167</td>\n",
       "      <td>133</td>\n",
       "    </tr>\n",
       "    <tr>\n",
       "      <th>2</th>\n",
       "      <td>38.903590</td>\n",
       "      <td>-77.199780</td>\n",
       "      <td>16</td>\n",
       "    </tr>\n",
       "    <tr>\n",
       "      <th>3</th>\n",
       "      <td>47.665903</td>\n",
       "      <td>-122.312561</td>\n",
       "      <td>13</td>\n",
       "    </tr>\n",
       "    <tr>\n",
       "      <th>4</th>\n",
       "      <td>47.666454</td>\n",
       "      <td>-122.311628</td>\n",
       "      <td>133</td>\n",
       "    </tr>\n",
       "    <tr>\n",
       "      <th>...</th>\n",
       "      <td>...</td>\n",
       "      <td>...</td>\n",
       "      <td>...</td>\n",
       "    </tr>\n",
       "    <tr>\n",
       "      <th>296016</th>\n",
       "      <td>39.119052</td>\n",
       "      <td>-76.633194</td>\n",
       "      <td>19</td>\n",
       "    </tr>\n",
       "    <tr>\n",
       "      <th>296017</th>\n",
       "      <td>47.142237</td>\n",
       "      <td>7.244752</td>\n",
       "      <td>13</td>\n",
       "    </tr>\n",
       "    <tr>\n",
       "      <th>296018</th>\n",
       "      <td>42.258532</td>\n",
       "      <td>-87.881248</td>\n",
       "      <td>16</td>\n",
       "    </tr>\n",
       "    <tr>\n",
       "      <th>296019</th>\n",
       "      <td>26.230929</td>\n",
       "      <td>-98.194772</td>\n",
       "      <td>19</td>\n",
       "    </tr>\n",
       "    <tr>\n",
       "      <th>296020</th>\n",
       "      <td>50.144272</td>\n",
       "      <td>14.101178</td>\n",
       "      <td>96</td>\n",
       "    </tr>\n",
       "  </tbody>\n",
       "</table>\n",
       "<p>296021 rows × 3 columns</p>\n",
       "</div>"
      ],
      "text/plain": [
       "         latitude   longitude  class\n",
       "0       20.525745  -97.460829     16\n",
       "1       20.523695  -97.461167    133\n",
       "2       38.903590  -77.199780     16\n",
       "3       47.665903 -122.312561     13\n",
       "4       47.666454 -122.311628    133\n",
       "...           ...         ...    ...\n",
       "296016  39.119052  -76.633194     19\n",
       "296017  47.142237    7.244752     13\n",
       "296018  42.258532  -87.881248     16\n",
       "296019  26.230929  -98.194772     19\n",
       "296020  50.144272   14.101178     96\n",
       "\n",
       "[296021 rows x 3 columns]"
      ]
     },
     "execution_count": 11,
     "metadata": {},
     "output_type": "execute_result"
    }
   ],
   "source": [
    "# YOUR CODE HERE\n",
    "df_original = df.copy()\n",
    "df = df[['latitude', 'longitude', 'class']]\n",
    "df"
   ]
  },
  {
   "cell_type": "code",
   "execution_count": 12,
   "metadata": {
    "deletable": false,
    "editable": false,
    "nbgrader": {
     "cell_type": "code",
     "checksum": "334ba32ebb98cfbe793e8d06ee8d3b34",
     "grade": true,
     "grade_id": "cell-e8738beea1b331d0",
     "locked": true,
     "points": 1,
     "schema_version": 3,
     "solution": false,
     "task": false
    }
   },
   "outputs": [],
   "source": [
    "assert len(df.columns) == 3, \"There should be 3 columns\"\n",
    "assert len(df.shape) == 2, \"The dataframe should be 2 dimensional\"\n",
    "assert df.shape == (296021, 3), \"Wrong shape of the dataframe\"\n",
    "assert \"latitude\" in df.columns, \"latitude column is missing\"\n",
    "assert \"longitude\" in df.columns, \"longitude column is missing\"\n",
    "assert \"class\" in df.columns, \"class column is missing\""
   ]
  },
  {
   "cell_type": "markdown",
   "metadata": {
    "deletable": false,
    "editable": false,
    "nbgrader": {
     "cell_type": "markdown",
     "checksum": "9ef5470f58caaaea609c2fee299c5b7f",
     "grade": false,
     "grade_id": "cell-6f7970ff67af4649",
     "locked": true,
     "schema_version": 3,
     "solution": false
    }
   },
   "source": [
    "Note that the `class` column specifies which pokemon it is. However, it only has the numerical id of the pokemon. For your convenience, we provide the dictionary `name_dict` to convert between ids and names (we'll do this soon)."
   ]
  },
  {
   "cell_type": "code",
   "execution_count": 13,
   "metadata": {
    "deletable": false,
    "editable": false,
    "nbgrader": {
     "cell_type": "code",
     "checksum": "7e1c295d53b9c78e248276d093849a02",
     "grade": false,
     "grade_id": "cell-50ff16afeaf933cf",
     "locked": true,
     "schema_version": 3,
     "solution": false
    }
   },
   "outputs": [],
   "source": [
    "from utils import name_dict"
   ]
  },
  {
   "cell_type": "code",
   "execution_count": 14,
   "metadata": {
    "deletable": false,
    "editable": false,
    "nbgrader": {
     "cell_type": "code",
     "checksum": "3bae8f433b0632b5da39f4d675f7f9db",
     "grade": false,
     "grade_id": "cell-1acfd7cca7bf754e",
     "locked": true,
     "schema_version": 3,
     "solution": false,
     "task": false
    }
   },
   "outputs": [
    {
     "name": "stdout",
     "output_type": "stream",
     "text": [
      "94\n",
      "Gengar\n"
     ]
    }
   ],
   "source": [
    "# example usage (you can index either by name or id)\n",
    "print(name_dict[\"Gengar\"])\n",
    "print(name_dict[94])"
   ]
  },
  {
   "cell_type": "code",
   "execution_count": 15,
   "metadata": {
    "deletable": false,
    "editable": false,
    "nbgrader": {
     "cell_type": "code",
     "checksum": "8c4b53d1aadb72239ba22773f6cdace6",
     "grade": false,
     "grade_id": "cell-1fd0d8b0c9800de4",
     "locked": true,
     "schema_version": 3,
     "solution": false,
     "task": false
    }
   },
   "outputs": [
    {
     "name": "stdout",
     "output_type": "stream",
     "text": [
      "    latitude   longitude  class    name\n",
      "0  20.525745  -97.460829     16  Pidgey\n",
      "1  20.523695  -97.461167    133   Eevee\n",
      "2  38.903590  -77.199780     16  Pidgey\n",
      "3  47.665903 -122.312561     13  Weedle\n",
      "4  47.666454 -122.311628    133   Eevee\n"
     ]
    },
    {
     "name": "stderr",
     "output_type": "stream",
     "text": [
      "C:\\Users\\willi\\AppData\\Local\\Temp\\ipykernel_6728\\2142882005.py:2: SettingWithCopyWarning: \n",
      "A value is trying to be set on a copy of a slice from a DataFrame.\n",
      "Try using .loc[row_indexer,col_indexer] = value instead\n",
      "\n",
      "See the caveats in the documentation: https://pandas.pydata.org/pandas-docs/stable/user_guide/indexing.html#returning-a-view-versus-a-copy\n",
      "  df[\"name\"] = df[\"class\"].apply(lambda x: name_dict[x])\n"
     ]
    }
   ],
   "source": [
    "# for convenience, let's add a new column to the dataframe with the name of the pokemon\n",
    "df[\"name\"] = df[\"class\"].apply(lambda x: name_dict[x])\n",
    "print(df.head())"
   ]
  },
  {
   "cell_type": "markdown",
   "metadata": {
    "deletable": false,
    "editable": false,
    "nbgrader": {
     "cell_type": "markdown",
     "checksum": "09025bb17628db2a36bb21a5b3b6f1c5",
     "grade": false,
     "grade_id": "cell-eaa874b93b3b727c",
     "locked": true,
     "schema_version": 3,
     "solution": false
    }
   },
   "source": [
    "We are only interested in three specific pokemon: Diglett, Seel, and Tauros."
   ]
  },
  {
   "cell_type": "markdown",
   "metadata": {
    "deletable": false,
    "editable": false,
    "nbgrader": {
     "cell_type": "markdown",
     "checksum": "ca357363a50da71ade1d068b235fbd63",
     "grade": false,
     "grade_id": "cell-7e0898a53c5649b0",
     "locked": true,
     "schema_version": 3,
     "solution": false
    }
   },
   "source": [
    "<table style=\"width:100%\">\n",
    "  <tr>\n",
    "    <th> <center>Diglett</center> </th>\n",
    "    <th> <center>Seel</center> </th> \n",
    "    <th> <center>Tauros</center> </th>\n",
    "  </tr>\n",
    "  <tr>\n",
    "    <td><img src=https://assets.pokemon.com/assets/cms2/img/pokedex/full/050_f2.png alt=Digglet></td>\n",
    "    <td><img src=https://pokemon.gamepedia.com/media/pokemon.gamepedia.com/thumb/f/f1/Seel.png/200px-Seel.png?version=2c32fbe0af2d0da707e5dbcb40472fbf></td>\n",
    "    <td><img src=https://www.pokemon.com/static-assets/content-assets/cms2/img/pokedex/full/128.png></td>\n",
    "  </tr>\n",
    "</table>\n",
    "\n"
   ]
  },
  {
   "cell_type": "markdown",
   "metadata": {
    "deletable": false,
    "editable": false,
    "nbgrader": {
     "cell_type": "markdown",
     "checksum": "0f67b745d8f97bcaf04b6674bab71e2d",
     "grade": false,
     "grade_id": "cell-d091927bf7d7938f",
     "locked": true,
     "schema_version": 3,
     "solution": false
    }
   },
   "source": [
    "Filter the dataset to contain only these three types of pokemon and save it in the DataFrame `filtered_df`."
   ]
  },
  {
   "cell_type": "code",
   "execution_count": 16,
   "metadata": {
    "deletable": false,
    "nbgrader": {
     "cell_type": "code",
     "checksum": "3101497237b105c936f9b72972e4e06f",
     "grade": false,
     "grade_id": "cell-7089f3397cbc1f4a",
     "locked": false,
     "schema_version": 3,
     "solution": true,
     "task": false
    }
   },
   "outputs": [
    {
     "name": "stdout",
     "output_type": "stream",
     "text": [
      "We have 2083 instances of Diglett, Seel, and Tauros in the dataset.\n"
     ]
    },
    {
     "data": {
      "text/html": [
       "<div>\n",
       "<style scoped>\n",
       "    .dataframe tbody tr th:only-of-type {\n",
       "        vertical-align: middle;\n",
       "    }\n",
       "\n",
       "    .dataframe tbody tr th {\n",
       "        vertical-align: top;\n",
       "    }\n",
       "\n",
       "    .dataframe thead th {\n",
       "        text-align: right;\n",
       "    }\n",
       "</style>\n",
       "<table border=\"1\" class=\"dataframe\">\n",
       "  <thead>\n",
       "    <tr style=\"text-align: right;\">\n",
       "      <th></th>\n",
       "      <th>latitude</th>\n",
       "      <th>longitude</th>\n",
       "      <th>class</th>\n",
       "      <th>name</th>\n",
       "    </tr>\n",
       "  </thead>\n",
       "  <tbody>\n",
       "    <tr>\n",
       "      <th>90</th>\n",
       "      <td>49.146199</td>\n",
       "      <td>-122.638105</td>\n",
       "      <td>50</td>\n",
       "      <td>Diglett</td>\n",
       "    </tr>\n",
       "    <tr>\n",
       "      <th>137</th>\n",
       "      <td>44.476769</td>\n",
       "      <td>-73.212749</td>\n",
       "      <td>128</td>\n",
       "      <td>Tauros</td>\n",
       "    </tr>\n",
       "    <tr>\n",
       "      <th>225</th>\n",
       "      <td>39.767486</td>\n",
       "      <td>-86.161068</td>\n",
       "      <td>128</td>\n",
       "      <td>Tauros</td>\n",
       "    </tr>\n",
       "    <tr>\n",
       "      <th>550</th>\n",
       "      <td>49.999197</td>\n",
       "      <td>9.066973</td>\n",
       "      <td>86</td>\n",
       "      <td>Seel</td>\n",
       "    </tr>\n",
       "    <tr>\n",
       "      <th>629</th>\n",
       "      <td>25.724382</td>\n",
       "      <td>-100.379311</td>\n",
       "      <td>50</td>\n",
       "      <td>Diglett</td>\n",
       "    </tr>\n",
       "    <tr>\n",
       "      <th>...</th>\n",
       "      <td>...</td>\n",
       "      <td>...</td>\n",
       "      <td>...</td>\n",
       "      <td>...</td>\n",
       "    </tr>\n",
       "    <tr>\n",
       "      <th>294822</th>\n",
       "      <td>34.190725</td>\n",
       "      <td>-118.490821</td>\n",
       "      <td>128</td>\n",
       "      <td>Tauros</td>\n",
       "    </tr>\n",
       "    <tr>\n",
       "      <th>294909</th>\n",
       "      <td>34.189895</td>\n",
       "      <td>-118.490000</td>\n",
       "      <td>86</td>\n",
       "      <td>Seel</td>\n",
       "    </tr>\n",
       "    <tr>\n",
       "      <th>295194</th>\n",
       "      <td>53.555035</td>\n",
       "      <td>-0.087039</td>\n",
       "      <td>86</td>\n",
       "      <td>Seel</td>\n",
       "    </tr>\n",
       "    <tr>\n",
       "      <th>295436</th>\n",
       "      <td>34.186898</td>\n",
       "      <td>-118.488905</td>\n",
       "      <td>86</td>\n",
       "      <td>Seel</td>\n",
       "    </tr>\n",
       "    <tr>\n",
       "      <th>295529</th>\n",
       "      <td>39.748243</td>\n",
       "      <td>-84.086557</td>\n",
       "      <td>128</td>\n",
       "      <td>Tauros</td>\n",
       "    </tr>\n",
       "  </tbody>\n",
       "</table>\n",
       "<p>2083 rows × 4 columns</p>\n",
       "</div>"
      ],
      "text/plain": [
       "         latitude   longitude  class     name\n",
       "90      49.146199 -122.638105     50  Diglett\n",
       "137     44.476769  -73.212749    128   Tauros\n",
       "225     39.767486  -86.161068    128   Tauros\n",
       "550     49.999197    9.066973     86     Seel\n",
       "629     25.724382 -100.379311     50  Diglett\n",
       "...           ...         ...    ...      ...\n",
       "294822  34.190725 -118.490821    128   Tauros\n",
       "294909  34.189895 -118.490000     86     Seel\n",
       "295194  53.555035   -0.087039     86     Seel\n",
       "295436  34.186898 -118.488905     86     Seel\n",
       "295529  39.748243  -84.086557    128   Tauros\n",
       "\n",
       "[2083 rows x 4 columns]"
      ]
     },
     "execution_count": 16,
     "metadata": {},
     "output_type": "execute_result"
    }
   ],
   "source": [
    "# YOUR CODE HERE\n",
    "pokemons = ['Diglett', 'Seel', 'Tauros']\n",
    "\n",
    "\n",
    "filtered_df = df[df['name'].isin(pokemons)]\n",
    "print(\n",
    "    f\"We have {len(filtered_df)} instances of Diglett, Seel, and Tauros in the dataset.\"\n",
    ")\n",
    "filtered_df"
   ]
  },
  {
   "cell_type": "code",
   "execution_count": 17,
   "metadata": {
    "deletable": false,
    "editable": false,
    "nbgrader": {
     "cell_type": "code",
     "checksum": "804e5464b130a64d22b06d0b882d0c89",
     "grade": true,
     "grade_id": "cell-c24e683b633a9f9b",
     "locked": true,
     "points": 1,
     "schema_version": 3,
     "solution": false,
     "task": false
    }
   },
   "outputs": [],
   "source": [
    "assert len(np.unique(filtered_df[\"class\"])) == 3, \"There should be 3 unique classes.\"\n",
    "assert filtered_df.shape == (\n",
    "    2083,\n",
    "    4,\n",
    "), \"The shape of the filtered dataframe is incorrect.\""
   ]
  },
  {
   "cell_type": "markdown",
   "metadata": {
    "deletable": false,
    "editable": false,
    "nbgrader": {
     "cell_type": "markdown",
     "checksum": "6b1f1246460c9e81025c5dd94d54e9e2",
     "grade": false,
     "grade_id": "cell-4e7ef21d67cb017e",
     "locked": true,
     "schema_version": 3,
     "solution": false,
     "task": false
    }
   },
   "source": [
    "In an earlier cell, you could see that the dataset has 208 features per pokemon sighting (`df.shape == (296021, 208)`). Why do we only use the `longitude` and `latitude` features and not all the features? "
   ]
  },
  {
   "cell_type": "markdown",
   "metadata": {
    "deletable": false,
    "nbgrader": {
     "cell_type": "markdown",
     "checksum": "345b05134d46ff03c9a71123906636f2",
     "grade": true,
     "grade_id": "cell-21cf8cbbffef4929",
     "locked": false,
     "points": 0,
     "schema_version": 3,
     "solution": true,
     "task": false
    }
   },
   "source": [
    "**Your answer:** We use latitude and longitude in order to pinpoint the exact geographic location of each sighting of the pokemon."
   ]
  },
  {
   "cell_type": "markdown",
   "metadata": {
    "deletable": false,
    "editable": false,
    "nbgrader": {
     "cell_type": "markdown",
     "checksum": "2641774ea6d909844fb9d2e930763382",
     "grade": false,
     "grade_id": "cell-01b988bb1bfa1f92",
     "locked": true,
     "schema_version": 3,
     "solution": false
    }
   },
   "source": [
    "## 2. Visualization of the dataset"
   ]
  },
  {
   "cell_type": "markdown",
   "metadata": {
    "deletable": false,
    "editable": false,
    "nbgrader": {
     "cell_type": "markdown",
     "checksum": "437148ed483b9f34a3cd87aae3129933",
     "grade": false,
     "grade_id": "cell-5c7b8fdcd18575fe",
     "locked": true,
     "schema_version": 3,
     "solution": false
    }
   },
   "source": [
    "The second step consists of visualizing the dataset. This will help you understand the distribution of the features and get an idea of how hard the task will be.\n",
    "\n",
    "Plot a bar chart of the number of occurrences of each class."
   ]
  },
  {
   "cell_type": "code",
   "execution_count": 18,
   "metadata": {
    "deletable": false,
    "nbgrader": {
     "cell_type": "code",
     "checksum": "b9b6048c83c3f3f72c51e4baa47b141b",
     "grade": true,
     "grade_id": "cell-c1a9921488e42992",
     "locked": false,
     "points": 0,
     "schema_version": 3,
     "solution": true
    }
   },
   "outputs": [
    {
     "data": {
      "image/png": "[encoded data removed]",
      "text/plain": [
       "<Figure size 1000x600 with 1 Axes>"
      ]
     },
     "metadata": {},
     "output_type": "display_data"
    }
   ],
   "source": [
    "# YOUR CODE HERE\n",
    "pokemon_counts = filtered_df['name'].value_counts()\n",
    "colors = ['brown', 'blue', 'orange']\n",
    "plt.figure(figsize=(10, 6))\n",
    "pokemon_counts.plot(kind='bar', color=colors)\n",
    "plt.title('Number of occurrences of each pokemon')\n",
    "plt.xticks(rotation=0)\n",
    "plt.xlabel('Pokemon')\n",
    "plt.ylabel('Number of occurrences')\n",
    "plt.show()"
   ]
  },
  {
   "cell_type": "markdown",
   "metadata": {
    "deletable": false,
    "editable": false,
    "nbgrader": {
     "cell_type": "markdown",
     "checksum": "e4c3c67ecc7c5b85749d001b0a622061",
     "grade": false,
     "grade_id": "cell-c22d835bdc58fe68",
     "locked": true,
     "schema_version": 3,
     "solution": false
    }
   },
   "source": [
    "Is the dataset balanced? Why/why not? Why is this important?"
   ]
  },
  {
   "cell_type": "markdown",
   "metadata": {
    "deletable": false,
    "nbgrader": {
     "cell_type": "markdown",
     "checksum": "c918f9b5d190f5f83c8dbd622e59d062",
     "grade": true,
     "grade_id": "cell-3d060bda26842b5d",
     "locked": false,
     "points": 0,
     "schema_version": 3,
     "solution": true
    }
   },
   "source": [
    "**Your answer:** Yeah, the dataset seems fairly balanced since the number of occurances of each of the three classes is pretty much the same, (721/692/670) for (Diglett/Seel/Tauros). Its important so that model perfroms well among all classes and does not favor any of them. Which could happen if we did have unbalanced dataset. For example if we did have 700 Diglett and 10 Seel and 10 Tauros the model could have high accuracy if it only predited Digletts and fail to predict the other pokemons, but this is not a good model."
   ]
  },
  {
   "cell_type": "markdown",
   "metadata": {
    "deletable": false,
    "editable": false,
    "nbgrader": {
     "cell_type": "markdown",
     "checksum": "4382ce93389defee634b029f25edda16",
     "grade": false,
     "grade_id": "cell-931cbd9e3ec95da5",
     "locked": true,
     "schema_version": 3,
     "solution": false
    }
   },
   "source": [
    "Plot a scatter plot where the first dimension is longitude, the second is latitude, and each point is a Pokemon. Further, the color of each point should represent which Pokemon it is. Lastly, the marker at each point should be an `'x'`. Make sure to label each axis.\n",
    "\n",
    "Hints:\n",
    "\n",
    "- The `scatter` method from `matplotlib` accepts an argument called `c`.\n",
    "- The `scatter` method also accepts an argument called `marker`."
   ]
  },
  {
   "cell_type": "code",
   "execution_count": 19,
   "metadata": {
    "deletable": false,
    "nbgrader": {
     "cell_type": "code",
     "checksum": "f6f749d2605a9f0d0ae2dff5d584d414",
     "grade": true,
     "grade_id": "cell-1120bd5aa8abeae1",
     "locked": false,
     "points": 0,
     "schema_version": 3,
     "solution": true
    }
   },
   "outputs": [
    {
     "data": {
      "image/png": "[encoded data removed]",
      "text/plain": [
       "<Figure size 640x480 with 1 Axes>"
      ]
     },
     "metadata": {},
     "output_type": "display_data"
    }
   ],
   "source": [
    "# YOUR CODE HERE\n",
    "colors_map = {\n",
    "    'Diglett': 'brown',\n",
    "    'Seel' : 'blue',\n",
    "    'Tauros' : 'orange'    \n",
    "}\n",
    "tmp_df = filtered_df.copy()\n",
    "tmp_df['color'] = tmp_df['name'].map(colors_map)\n",
    "for name, color in colors_map.items():\n",
    "    subset = tmp_df[tmp_df['name'] == name]\n",
    "    plt.scatter(subset['longitude'], subset['latitude'], c=color, s=8, marker='x', label=name)\n",
    "plt.title('Longitude and Latitude for pokemons')\n",
    "plt.xticks(rotation=0)\n",
    "plt.xlabel('Longitude')\n",
    "plt.ylabel('Latitude')\n",
    "plt.legend(title='Pokemons')\n",
    "plt.show()\n"
   ]
  },
  {
   "cell_type": "markdown",
   "metadata": {
    "deletable": false,
    "editable": false,
    "nbgrader": {
     "cell_type": "markdown",
     "checksum": "4cad292133d28b4b0fe7f2245b0bc567",
     "grade": false,
     "grade_id": "cell-76f326a05bf22e09",
     "locked": true,
     "schema_version": 3,
     "solution": false
    }
   },
   "source": [
    "Is there any other visualization you think would be useful? If so, insert them here."
   ]
  },
  {
   "cell_type": "code",
   "execution_count": 20,
   "metadata": {
    "deletable": false,
    "nbgrader": {
     "cell_type": "code",
     "checksum": "ad81f10f7f24ca21197794fdcd7fb04c",
     "grade": true,
     "grade_id": "cell-86724bfd3955c5ed",
     "locked": false,
     "points": 0,
     "schema_version": 3,
     "solution": true
    }
   },
   "outputs": [],
   "source": [
    "# YOUR CODE HERE #"
   ]
  },
  {
   "cell_type": "markdown",
   "metadata": {
    "deletable": false,
    "editable": false,
    "nbgrader": {
     "cell_type": "markdown",
     "checksum": "6140988fa08ca186bbe62a74e82ddddd",
     "grade": false,
     "grade_id": "cell-7af3ac7849dc5252",
     "locked": true,
     "schema_version": 3,
     "solution": false
    }
   },
   "source": [
    "How hard do you think the problem is? Which classes can/cannot be easily separated?\n"
   ]
  },
  {
   "cell_type": "markdown",
   "metadata": {
    "deletable": false,
    "nbgrader": {
     "cell_type": "markdown",
     "checksum": "6bb25f67d0cf2e55d60f2b63646ce9fe",
     "grade": true,
     "grade_id": "cell-62e50deb2cca74b2",
     "locked": false,
     "points": 0,
     "schema_version": 3,
     "solution": true
    }
   },
   "source": [
    "**Your answer:** Tauros and seels locations are mostly grouped toghter. Digletts on the other hand will be hard to seperate since they appear a all over the world."
   ]
  },
  {
   "cell_type": "markdown",
   "metadata": {
    "deletable": false,
    "editable": false,
    "nbgrader": {
     "cell_type": "markdown",
     "checksum": "9e6bfdd82abab0b61a471c52bfc9dff3",
     "grade": false,
     "grade_id": "cell-3d322369934aa289",
     "locked": true,
     "schema_version": 3,
     "solution": false
    }
   },
   "source": [
    "Which accuracy do you expect to achieve?"
   ]
  },
  {
   "cell_type": "markdown",
   "metadata": {
    "deletable": false,
    "nbgrader": {
     "cell_type": "markdown",
     "checksum": "931b0e510dcc8867fb3efb7e50fe8a25",
     "grade": true,
     "grade_id": "cell-f2c255ad5dd7e5fc",
     "locked": false,
     "points": 0,
     "schema_version": 3,
     "solution": true
    }
   },
   "source": [
    "**Your answer:** Since the dataset is fairly balance and that 2/3 pokemons are farily easy to seperate I expect a accuracy of around 2/3 so about 67%."
   ]
  },
  {
   "cell_type": "markdown",
   "metadata": {
    "deletable": false,
    "editable": false,
    "nbgrader": {
     "cell_type": "markdown",
     "checksum": "d5510f4a800380ecc156cd9d2f3898e5",
     "grade": false,
     "grade_id": "cell-451e0813fca28b8b",
     "locked": true,
     "schema_version": 3,
     "solution": false
    }
   },
   "source": [
    "## 3. Preprocessing"
   ]
  },
  {
   "cell_type": "markdown",
   "metadata": {
    "deletable": false,
    "editable": false,
    "nbgrader": {
     "cell_type": "markdown",
     "checksum": "7a6c54a6e0bfe71ad1da3f834fbcb3d7",
     "grade": false,
     "grade_id": "cell-3eed8190495b60ac",
     "locked": true,
     "schema_version": 3,
     "solution": false
    }
   },
   "source": [
    "The third step consists of processing the data before training, such as dividing the dataset into training, validation, and test sets. Some tranformations can also be applied to the dataset in order to improve the performance of the network. We will use some PyTorch utilities to help us with this task.\n",
    "\n",
    "Start by creating the input and output vectors, `x` and `y`. The input should be latitude and longitude, and the output should be the class of the pokemon. Note that you cannot use the class names directly, as they are strings. You need to introduce some mapping to convert them to integers (0, 1, and 2) or one-hot vectors."
   ]
  },
  {
   "cell_type": "code",
   "execution_count": 21,
   "metadata": {
    "deletable": false,
    "nbgrader": {
     "cell_type": "code",
     "checksum": "a001f72e92feb0435ca66ca282c5eb6c",
     "grade": false,
     "grade_id": "cell-c61cb8065babf0c5",
     "locked": false,
     "schema_version": 3,
     "solution": true,
     "task": false
    }
   },
   "outputs": [
    {
     "name": "stdout",
     "output_type": "stream",
     "text": [
      "Shape of input data: (2083, 2)\n",
      "Shape of labels: (2083,)\n"
     ]
    }
   ],
   "source": [
    "# YOUR CODE HERE\n",
    "def encode_pokemons(p):\n",
    "    if p == \"Diglett\":\n",
    "        return 0\n",
    "    if p == \"Seel\":\n",
    "        return 1\n",
    "    if p == \"Tauros\":\n",
    "        return 2\n",
    "    else:\n",
    "        raise ValueError(\"Pokemon '{}' is not recognized.\".format(p))\n",
    "\n",
    "temp = map(encode_pokemons, filtered_df['name'].values)\n",
    "y = np.array(list(temp))\n",
    "x = filtered_df[['longitude','latitude']].to_numpy(dtype=np.float32)\n",
    "\n",
    "print(f\"Shape of input data: {x.shape}\")\n",
    "print(f\"Shape of labels: {y.shape}\")"
   ]
  },
  {
   "cell_type": "code",
   "execution_count": 22,
   "metadata": {
    "deletable": false,
    "editable": false,
    "nbgrader": {
     "cell_type": "code",
     "checksum": "c29016eeb4001be249e61f5364c9c294",
     "grade": true,
     "grade_id": "cell-e3cfcf9955f6809c",
     "locked": true,
     "points": 1,
     "schema_version": 3,
     "solution": false,
     "task": false
    }
   },
   "outputs": [],
   "source": [
    "assert isinstance(x, np.ndarray), \"x should be a numpy array\"\n",
    "assert isinstance(y, np.ndarray), \"y should be a numpy array\"\n",
    "\n",
    "assert x.shape[0] == y.shape[0], \"x and y should have the same number of samples\"\n",
    "assert x.shape[-1] == 2, \"x should have 2 features\"\n",
    "assert x.dtype == np.float32, \"x should be of type float32\"\n",
    "if y.shape[-1] == 3:  # one-hot encoded\n",
    "    assert y.max() == 1, \"one-hot encoded y, at least one entry should be 1\"\n",
    "    assert y.min() == 0, \"one-hot encoded y, at least one entry should be 0\"\n",
    "    assert y.sum(axis=1).all() == 1\n",
    "else:  # label encoded\n",
    "    assert y.max() == 2, \"label encoded y, should have a max value of 2\"\n",
    "    assert y.min() == 0, \"label encoded y, should have a min value of 0\""
   ]
  },
  {
   "cell_type": "markdown",
   "metadata": {
    "deletable": false,
    "editable": false,
    "nbgrader": {
     "cell_type": "markdown",
     "checksum": "667ef8d517475a54aca21e510c96761d",
     "grade": false,
     "grade_id": "cell-566d2f340fa57d49",
     "locked": true,
     "schema_version": 3,
     "solution": false
    }
   },
   "source": [
    "Separate your data into training (55%), validation (25%) and test sets (20%) and save them as `dataset_train`, `dataset_val`, `dataset_test`. If you wish to apply any transformation to the dataset, do it here as well. \n",
    "\n",
    "Further, create a class, PokemonDataset, inheriting from PyTorch [`Dataset`](https://pytorch.org/docs/stable/data.html#torch.utils.data.Dataset) and use this for storing the data. In other words, `dataset_train`, `dataset_val`, `dataset_test` should have type PokemonDataset. You will need to implement a `__getitem__`, `__len__` and `__init__` method. Although perhaps a bit overkill for this assignment, it is a good practice for handling datasets in PyTorch.\n",
    "\n",
    "Last, instantiate a [`DataLoader`](https://pytorch.org/docs/stable/data.html#torch.utils.data.DataLoader) for each dataset, i.e., `loader_train`, `loader_val`, `loader_test`. This will fetch samples from the datasets and combine them into batches. Remember to select a suitable batch size."
   ]
  },
  {
   "cell_type": "code",
   "execution_count": 23,
   "metadata": {
    "deletable": false,
    "nbgrader": {
     "cell_type": "code",
     "checksum": "e2a4956e2e49a791cfcf70933886dacd",
     "grade": false,
     "grade_id": "cell-918e3bb4d74472bd",
     "locked": false,
     "schema_version": 3,
     "solution": true,
     "task": false
    }
   },
   "outputs": [],
   "source": [
    "# YOUR CODE HERE\n",
    "\n",
    "# Training set = 55 % , validation+test = x_temp,y_temp = 45%, random_state same as in CL1\n",
    "x_train, x_temp, y_train, y_temp = train_test_split(x, y, test_size=0.45, random_state=10)\n",
    "# 45 % of the original data, 25/45 =0,55 and 20/45 = 0,4444, so test_size = 0,4444 in this case inorder to match 20 % from the original data\n",
    "x_val, x_test, y_val, y_test = train_test_split(x_temp, y_temp, test_size=0.4444, random_state=10)\n",
    "\n",
    "# PokemonDataset class\n",
    "class PokemonDataset(Dataset):\n",
    "    def __init__(self,data,labels):\n",
    "        self.data = data\n",
    "        self.labels = labels\n",
    "\n",
    "    def __len__(self):\n",
    "        return len(self.data)\n",
    "\n",
    "    def __getitem__(self, index):\n",
    "        datapoint = self.data[index]\n",
    "        label = self.labels[index]\n",
    "        \n",
    "        return datapoint,label\n",
    "\n",
    "# Datasets\n",
    "dataset_train = PokemonDataset(x_train, y_train)\n",
    "dataset_val = PokemonDataset(x_val, y_val)\n",
    "dataset_test = PokemonDataset(x_test, y_test)\n",
    "\n",
    "\n",
    "# Dataloaders\n",
    "loader_train = DataLoader(dataset_train, batch_size=32, shuffle=True)\n",
    "loader_val = DataLoader(dataset_val, batch_size=32, shuffle=False)\n",
    "loader_test = DataLoader(dataset_test, batch_size=32, shuffle=False)"
   ]
  },
  {
   "cell_type": "code",
   "execution_count": 24,
   "metadata": {
    "deletable": false,
    "editable": false,
    "nbgrader": {
     "cell_type": "code",
     "checksum": "679946ba2a8db7542fb0a009ebdec14b",
     "grade": true,
     "grade_id": "cell-26a6a53ab59cb075",
     "locked": true,
     "points": 1,
     "schema_version": 3,
     "solution": false,
     "task": false
    }
   },
   "outputs": [],
   "source": [
    "assert isinstance(\n",
    "    dataset_train, PokemonDataset\n",
    "), \"dataset_train should be an instance of PokemonDataset\"\n",
    "assert isinstance(\n",
    "    dataset_val, PokemonDataset\n",
    "), \"dataset_val should be an instance of PokemonDataset\"\n",
    "assert isinstance(\n",
    "    dataset_test, PokemonDataset\n",
    "), \"dataset_test should be an instance of PokemonDataset\"\n",
    "\n",
    "assert (\n",
    "    abs(len(dataset_train) / len(x) - 0.55) < 0.01\n",
    "), \"dataset_train has the wrong length, should be 55% of the data\"\n",
    "assert (\n",
    "    abs(len(dataset_val) / len(x) - 0.25) < 0.01\n",
    "), \"dataset_val has the wrong length, should be 25% of the data\"\n",
    "assert (\n",
    "    abs(len(dataset_test) / len(x) - 0.20) < 0.01\n",
    "), \"dataset_test has the wrong length, should be 20% of the data\"\n",
    "\n",
    "assert isinstance(\n",
    "    loader_train, DataLoader\n",
    "), \"loader_train should be an instance of DataLoader\"\n",
    "assert isinstance(\n",
    "    loader_val, DataLoader\n",
    "), \"loader_val should be an instance of DataLoader\"\n",
    "assert isinstance(\n",
    "    loader_test, DataLoader\n",
    "), \"loader_test should be an instance of DataLoader\"\n",
    "\n",
    "assert len(loader_train), \"loader_train should have a length\"\n",
    "assert len(loader_val), \"loader_val should have a length\"\n",
    "assert len(loader_test), \"loader_test should have a length\""
   ]
  },
  {
   "cell_type": "markdown",
   "metadata": {
    "deletable": false,
    "editable": false,
    "nbgrader": {
     "cell_type": "markdown",
     "checksum": "c9b5ffa094240411cb43919a003ba914",
     "grade": false,
     "grade_id": "cell-b9088197f0ab661c",
     "locked": true,
     "schema_version": 3,
     "solution": false
    }
   },
   "source": [
    "## 4. Training"
   ]
  },
  {
   "cell_type": "markdown",
   "metadata": {
    "deletable": false,
    "editable": false,
    "nbgrader": {
     "cell_type": "markdown",
     "checksum": "6c5d33400a0aa71b9c81a01181b7cb3b",
     "grade": false,
     "grade_id": "cell-1c4e4c6b7186c418",
     "locked": true,
     "schema_version": 3,
     "solution": false
    }
   },
   "source": [
    "The fourth step is where you will choose the architecture of your network (number of hidden layers, activation functions, etc.), optimizer, loss function and then train the network. \n",
    "\n",
    "Start by implementing a training loop, and a helper function to calculate the accuracy. The training loop should calculate the loss and accuracy for both the training and validation set and print it with some regular interval (each epoch, or every few epochs, for instance). It can also be helpful to plot the loss and accuracy for both the training and validation set, either in the training loop, or after it has finished (i.e., you have to store the values during training and return them).\n",
    "\n",
    "We have prepared the `train_model` function with the arguments you need, but you have access to *args and **kwargs if you want to pass additional arguments to the function."
   ]
  },
  {
   "cell_type": "code",
   "execution_count": 25,
   "metadata": {
    "deletable": false,
    "nbgrader": {
     "cell_type": "code",
     "checksum": "651fa27aab4bd856b89ccdb51201cdf9",
     "grade": false,
     "grade_id": "cell-e1cb09a6dcbdb401",
     "locked": false,
     "schema_version": 3,
     "solution": true,
     "task": false
    }
   },
   "outputs": [],
   "source": [
    "def accuracy(y_hat: torch.Tensor, y: torch.Tensor) -> torch.Tensor:\n",
    "    \"\"\"\n",
    "    Compute the accuracy of the model.\n",
    "\n",
    "    Args:\n",
    "    y_hat: torch.Tensor: The model predictions (probability per class), shape: [batch_size, num_classes]\n",
    "    y: torch.Tensor: The true labels, shape: [batch_size]\n",
    "\n",
    "    Returns:\n",
    "    torch.Tensor: The accuracy of the model\n",
    "    \"\"\"\n",
    "    # YOUR CODE HERE\n",
    "    predictions_indexes = torch.argmax(y_hat, dim=1)\n",
    "    accuracy = torch.mean((predictions_indexes == y).float()) \n",
    "    return accuracy\n",
    "\n",
    "\n",
    "def train_model(\n",
    "    \n",
    "    model: nn.Module,\n",
    "    optimizer: torch.optim,\n",
    "    loss_fn: Union[Callable, nn.Module],\n",
    "    num_epochs: int,\n",
    "    train_dataloader: torch.utils.data.DataLoader,\n",
    "    val_dataloader: torch.utils.data.DataLoader,\n",
    "    device: Union[str, torch.device],\n",
    "    *args,\n",
    "    **kwargs,\n",
    "):\n",
    "    \"\"\"\n",
    "    Train the model.\n",
    "\n",
    "    Args:\n",
    "    model: nn.Module: The neural network model\n",
    "    optimizer: torch.optim: The optimizer used to update the model parameters\n",
    "    loss_fn: Union[Callable, nn.Module]: The loss function used to compute the loss\n",
    "    num_epochs: int: The number of epochs to train the model\n",
    "    train_dataloader: torch.utils.data.DataLoader: The training dataloader\n",
    "    val_dataloader: torch.utils.data.DataLoader: The validation dataloader\n",
    "    device: Union[str, torch.device]: The device to run the training on\n",
    "    *args: Additional arguments to pass to the train function\n",
    "    **kwargs: Additional keyword arguments to pass to the train function\n",
    "\n",
    "    \"\"\"\n",
    "\n",
    "    # YOUR CODE HERE\n",
    "    model = model.to(device)\n",
    "\n",
    "    for epoch in range(num_epochs):\n",
    "\n",
    "        # Training phase\n",
    "        \n",
    "        model.train()\n",
    "        train_losses = []\n",
    "        train_accs = []\n",
    "        \n",
    "        for b_x, b_y in train_dataloader:\n",
    "            b_x, b_y = b_x.to(device), b_y.to(device)\n",
    "\n",
    "            # Forward pass\n",
    "            pred = model(b_x)\n",
    "            loss = loss_fn(pred,b_y)\n",
    "            train_losses.append(loss.item())\n",
    "\n",
    "            b_acc = accuracy(pred,b_y)\n",
    "            train_accs.append(b_acc.item())\n",
    "\n",
    "            # Backprop\n",
    "            loss.backward()\n",
    "            optimizer.step()\n",
    "            optimizer.zero_grad()\n",
    "        train_accuracy = sum(train_accs) / len(train_accs)\n",
    "        train_avg_loss = sum(train_losses) / len(train_losses)\n",
    "\n",
    "        # Validation phase\n",
    "\n",
    "        model.eval()\n",
    "        val_losses = []\n",
    "        val_accs = []\n",
    "        with torch.no_grad():\n",
    "            for b_x,b_y in val_dataloader:\n",
    "                b_x,b_y = b_x.to(device), b_y.to(device)\n",
    "                \n",
    "                pred = model(b_x)\n",
    "                loss = loss_fn(pred,b_y)\n",
    "                val_losses.append(loss.item())\n",
    "\n",
    "                b_acc = accuracy(pred,b_y)\n",
    "                val_accs.append(b_acc.item())\n",
    "            \n",
    "            val_accuracy= sum(val_accs) / len(val_accs)\n",
    "            val_avg_loss = sum(val_losses) / len(val_losses)\n",
    "\n",
    "        \n",
    "        print(f\"Epoch {epoch+1}/{num_epochs}\")\n",
    "        print(f\"Train average Loss: {train_avg_loss:.3f}, Train Accuracy: {train_accuracy:.2f}\")\n",
    "        print(f\"Val average Loss: {val_avg_loss:.3f}, Val Accuracy: {val_accuracy:.2f}\")\n",
    "        "
   ]
  },
  {
   "cell_type": "markdown",
   "metadata": {
    "deletable": false,
    "editable": false,
    "nbgrader": {
     "cell_type": "markdown",
     "checksum": "f120e556ca9bee3969022ccd95c884d5",
     "grade": false,
     "grade_id": "cell-abd73fe36efa945d",
     "locked": true,
     "schema_version": 3,
     "solution": false,
     "task": false
    }
   },
   "source": [
    "Next, we'll test that your training loop is correct. A [common sanity check in deep learning](https://karpathy.github.io/2019/04/25/recipe/) is to overfit to a small dataset, like a single batch of data. This ensures that shapes and devices are correctly set, and the network can learn/memorize the training data, which is a good starting point before training on the full dataset."
   ]
  },
  {
   "cell_type": "code",
   "execution_count": 26,
   "metadata": {
    "deletable": false,
    "editable": false,
    "nbgrader": {
     "cell_type": "code",
     "checksum": "4f4c52b6973df138e3fbe8f0ce30b32d",
     "grade": true,
     "grade_id": "cell-be96e21b4495aa27",
     "locked": true,
     "points": 1,
     "schema_version": 3,
     "solution": false,
     "task": false
    }
   },
   "outputs": [
    {
     "name": "stdout",
     "output_type": "stream",
     "text": [
      "Testing training loop, CPU\n",
      "Epoch 1/100\n",
      "Train average Loss: 1.616, Train Accuracy: 0.00\n",
      "Val average Loss: 0.890, Val Accuracy: 1.00\n",
      "Epoch 2/100\n",
      "Train average Loss: 1.569, Train Accuracy: 0.00\n",
      "Val average Loss: 0.900, Val Accuracy: 0.50\n",
      "Epoch 3/100\n",
      "Train average Loss: 1.524, Train Accuracy: 0.00\n",
      "Val average Loss: 0.910, Val Accuracy: 0.50\n",
      "Epoch 4/100\n",
      "Train average Loss: 1.480, Train Accuracy: 0.00\n",
      "Val average Loss: 0.920, Val Accuracy: 0.50\n",
      "Epoch 5/100\n",
      "Train average Loss: 1.436, Train Accuracy: 0.00\n",
      "Val average Loss: 0.930, Val Accuracy: 0.50\n",
      "Epoch 6/100\n",
      "Train average Loss: 1.394, Train Accuracy: 0.00\n",
      "Val average Loss: 0.940, Val Accuracy: 0.00\n",
      "Epoch 7/100\n",
      "Train average Loss: 1.353, Train Accuracy: 0.00\n",
      "Val average Loss: 0.950, Val Accuracy: 0.00\n",
      "Epoch 8/100\n",
      "Train average Loss: 1.314, Train Accuracy: 0.00\n",
      "Val average Loss: 0.960, Val Accuracy: 0.00\n",
      "Epoch 9/100\n",
      "Train average Loss: 1.275, Train Accuracy: 0.00\n",
      "Val average Loss: 0.970, Val Accuracy: 0.00\n",
      "Epoch 10/100\n",
      "Train average Loss: 1.238, Train Accuracy: 0.00\n",
      "Val average Loss: 0.980, Val Accuracy: 0.00\n",
      "Epoch 11/100\n",
      "Train average Loss: 1.201, Train Accuracy: 0.00\n",
      "Val average Loss: 0.989, Val Accuracy: 0.00\n",
      "Epoch 12/100\n",
      "Train average Loss: 1.166, Train Accuracy: 0.00\n",
      "Val average Loss: 0.999, Val Accuracy: 0.00\n",
      "Epoch 13/100\n",
      "Train average Loss: 1.132, Train Accuracy: 0.50\n",
      "Val average Loss: 1.009, Val Accuracy: 0.00\n",
      "Epoch 14/100\n",
      "Train average Loss: 1.099, Train Accuracy: 0.50\n",
      "Val average Loss: 1.019, Val Accuracy: 0.00\n",
      "Epoch 15/100\n",
      "Train average Loss: 1.067, Train Accuracy: 0.50\n",
      "Val average Loss: 1.028, Val Accuracy: 0.00\n",
      "Epoch 16/100\n",
      "Train average Loss: 1.036, Train Accuracy: 0.50\n",
      "Val average Loss: 1.038, Val Accuracy: 0.00\n",
      "Epoch 17/100\n",
      "Train average Loss: 1.006, Train Accuracy: 0.50\n",
      "Val average Loss: 1.047, Val Accuracy: 0.00\n",
      "Epoch 18/100\n",
      "Train average Loss: 0.977, Train Accuracy: 0.50\n",
      "Val average Loss: 1.057, Val Accuracy: 0.00\n",
      "Epoch 19/100\n",
      "Train average Loss: 0.949, Train Accuracy: 0.50\n",
      "Val average Loss: 1.066, Val Accuracy: 0.00\n",
      "Epoch 20/100\n",
      "Train average Loss: 0.922, Train Accuracy: 0.50\n",
      "Val average Loss: 1.075, Val Accuracy: 0.00\n",
      "Epoch 21/100\n",
      "Train average Loss: 0.895, Train Accuracy: 0.50\n",
      "Val average Loss: 1.085, Val Accuracy: 0.00\n",
      "Epoch 22/100\n",
      "Train average Loss: 0.870, Train Accuracy: 0.50\n",
      "Val average Loss: 1.094, Val Accuracy: 0.00\n",
      "Epoch 23/100\n",
      "Train average Loss: 0.846, Train Accuracy: 1.00\n",
      "Val average Loss: 1.103, Val Accuracy: 0.00\n",
      "Epoch 24/100\n",
      "Train average Loss: 0.822, Train Accuracy: 1.00\n",
      "Val average Loss: 1.112, Val Accuracy: 0.00\n",
      "Epoch 25/100\n",
      "Train average Loss: 0.800, Train Accuracy: 1.00\n",
      "Val average Loss: 1.121, Val Accuracy: 0.00\n",
      "Epoch 26/100\n",
      "Train average Loss: 0.778, Train Accuracy: 1.00\n",
      "Val average Loss: 1.130, Val Accuracy: 0.00\n",
      "Epoch 27/100\n",
      "Train average Loss: 0.757, Train Accuracy: 1.00\n",
      "Val average Loss: 1.138, Val Accuracy: 0.00\n",
      "Epoch 28/100\n",
      "Train average Loss: 0.737, Train Accuracy: 1.00\n",
      "Val average Loss: 1.147, Val Accuracy: 0.00\n",
      "Epoch 29/100\n",
      "Train average Loss: 0.717, Train Accuracy: 1.00\n",
      "Val average Loss: 1.156, Val Accuracy: 0.00\n",
      "Epoch 30/100\n",
      "Train average Loss: 0.698, Train Accuracy: 1.00\n",
      "Val average Loss: 1.164, Val Accuracy: 0.00\n",
      "Epoch 31/100\n",
      "Train average Loss: 0.680, Train Accuracy: 1.00\n",
      "Val average Loss: 1.172, Val Accuracy: 0.00\n",
      "Epoch 32/100\n",
      "Train average Loss: 0.662, Train Accuracy: 1.00\n",
      "Val average Loss: 1.181, Val Accuracy: 0.00\n",
      "Epoch 33/100\n",
      "Train average Loss: 0.646, Train Accuracy: 1.00\n",
      "Val average Loss: 1.189, Val Accuracy: 0.00\n",
      "Epoch 34/100\n",
      "Train average Loss: 0.629, Train Accuracy: 1.00\n",
      "Val average Loss: 1.197, Val Accuracy: 0.00\n",
      "Epoch 35/100\n",
      "Train average Loss: 0.614, Train Accuracy: 1.00\n",
      "Val average Loss: 1.205, Val Accuracy: 0.00\n",
      "Epoch 36/100\n",
      "Train average Loss: 0.598, Train Accuracy: 1.00\n",
      "Val average Loss: 1.213, Val Accuracy: 0.00\n",
      "Epoch 37/100\n",
      "Train average Loss: 0.584, Train Accuracy: 1.00\n",
      "Val average Loss: 1.220, Val Accuracy: 0.00\n",
      "Epoch 38/100\n",
      "Train average Loss: 0.570, Train Accuracy: 1.00\n",
      "Val average Loss: 1.228, Val Accuracy: 0.00\n",
      "Epoch 39/100\n",
      "Train average Loss: 0.556, Train Accuracy: 1.00\n",
      "Val average Loss: 1.236, Val Accuracy: 0.00\n",
      "Epoch 40/100\n",
      "Train average Loss: 0.543, Train Accuracy: 1.00\n",
      "Val average Loss: 1.243, Val Accuracy: 0.00\n",
      "Epoch 41/100\n",
      "Train average Loss: 0.530, Train Accuracy: 1.00\n",
      "Val average Loss: 1.251, Val Accuracy: 0.00\n",
      "Epoch 42/100\n",
      "Train average Loss: 0.518, Train Accuracy: 1.00\n",
      "Val average Loss: 1.258, Val Accuracy: 0.00\n",
      "Epoch 43/100\n",
      "Train average Loss: 0.506, Train Accuracy: 1.00\n",
      "Val average Loss: 1.265, Val Accuracy: 0.00\n",
      "Epoch 44/100\n",
      "Train average Loss: 0.495, Train Accuracy: 1.00\n",
      "Val average Loss: 1.272, Val Accuracy: 0.00\n",
      "Epoch 45/100\n",
      "Train average Loss: 0.484, Train Accuracy: 1.00\n",
      "Val average Loss: 1.280, Val Accuracy: 0.00\n",
      "Epoch 46/100\n",
      "Train average Loss: 0.473, Train Accuracy: 1.00\n",
      "Val average Loss: 1.287, Val Accuracy: 0.00\n",
      "Epoch 47/100\n",
      "Train average Loss: 0.463, Train Accuracy: 1.00\n",
      "Val average Loss: 1.293, Val Accuracy: 0.00\n",
      "Epoch 48/100\n",
      "Train average Loss: 0.453, Train Accuracy: 1.00\n",
      "Val average Loss: 1.300, Val Accuracy: 0.00\n",
      "Epoch 49/100\n",
      "Train average Loss: 0.444, Train Accuracy: 1.00\n",
      "Val average Loss: 1.307, Val Accuracy: 0.00\n",
      "Epoch 50/100\n",
      "Train average Loss: 0.434, Train Accuracy: 1.00\n",
      "Val average Loss: 1.314, Val Accuracy: 0.00\n",
      "Epoch 51/100\n",
      "Train average Loss: 0.425, Train Accuracy: 1.00\n",
      "Val average Loss: 1.320, Val Accuracy: 0.00\n",
      "Epoch 52/100\n",
      "Train average Loss: 0.417, Train Accuracy: 1.00\n",
      "Val average Loss: 1.327, Val Accuracy: 0.00\n",
      "Epoch 53/100\n",
      "Train average Loss: 0.408, Train Accuracy: 1.00\n",
      "Val average Loss: 1.333, Val Accuracy: 0.00\n",
      "Epoch 54/100\n",
      "Train average Loss: 0.400, Train Accuracy: 1.00\n",
      "Val average Loss: 1.339, Val Accuracy: 0.00\n",
      "Epoch 55/100\n",
      "Train average Loss: 0.392, Train Accuracy: 1.00\n",
      "Val average Loss: 1.346, Val Accuracy: 0.00\n",
      "Epoch 56/100\n",
      "Train average Loss: 0.385, Train Accuracy: 1.00\n",
      "Val average Loss: 1.352, Val Accuracy: 0.00\n",
      "Epoch 57/100\n",
      "Train average Loss: 0.377, Train Accuracy: 1.00\n",
      "Val average Loss: 1.358, Val Accuracy: 0.00\n",
      "Epoch 58/100\n",
      "Train average Loss: 0.370, Train Accuracy: 1.00\n",
      "Val average Loss: 1.364, Val Accuracy: 0.00\n",
      "Epoch 59/100\n",
      "Train average Loss: 0.363, Train Accuracy: 1.00\n",
      "Val average Loss: 1.370, Val Accuracy: 0.00\n",
      "Epoch 60/100\n",
      "Train average Loss: 0.356, Train Accuracy: 1.00\n",
      "Val average Loss: 1.376, Val Accuracy: 0.00\n",
      "Epoch 61/100\n",
      "Train average Loss: 0.350, Train Accuracy: 1.00\n",
      "Val average Loss: 1.382, Val Accuracy: 0.00\n",
      "Epoch 62/100\n",
      "Train average Loss: 0.344, Train Accuracy: 1.00\n",
      "Val average Loss: 1.387, Val Accuracy: 0.00\n",
      "Epoch 63/100\n",
      "Train average Loss: 0.338, Train Accuracy: 1.00\n",
      "Val average Loss: 1.393, Val Accuracy: 0.00\n",
      "Epoch 64/100\n",
      "Train average Loss: 0.332, Train Accuracy: 1.00\n",
      "Val average Loss: 1.399, Val Accuracy: 0.00\n",
      "Epoch 65/100\n",
      "Train average Loss: 0.326, Train Accuracy: 1.00\n",
      "Val average Loss: 1.404, Val Accuracy: 0.00\n",
      "Epoch 66/100\n",
      "Train average Loss: 0.320, Train Accuracy: 1.00\n",
      "Val average Loss: 1.410, Val Accuracy: 0.00\n",
      "Epoch 67/100\n",
      "Train average Loss: 0.315, Train Accuracy: 1.00\n",
      "Val average Loss: 1.415, Val Accuracy: 0.00\n",
      "Epoch 68/100\n",
      "Train average Loss: 0.309, Train Accuracy: 1.00\n",
      "Val average Loss: 1.421, Val Accuracy: 0.00\n",
      "Epoch 69/100\n",
      "Train average Loss: 0.304, Train Accuracy: 1.00\n",
      "Val average Loss: 1.426, Val Accuracy: 0.00\n",
      "Epoch 70/100\n",
      "Train average Loss: 0.299, Train Accuracy: 1.00\n",
      "Val average Loss: 1.431, Val Accuracy: 0.00\n",
      "Epoch 71/100\n",
      "Train average Loss: 0.295, Train Accuracy: 1.00\n",
      "Val average Loss: 1.436, Val Accuracy: 0.00\n",
      "Epoch 72/100\n",
      "Train average Loss: 0.290, Train Accuracy: 1.00\n",
      "Val average Loss: 1.442, Val Accuracy: 0.00\n",
      "Epoch 73/100\n",
      "Train average Loss: 0.285, Train Accuracy: 1.00\n",
      "Val average Loss: 1.447, Val Accuracy: 0.00\n",
      "Epoch 74/100\n",
      "Train average Loss: 0.281, Train Accuracy: 1.00\n",
      "Val average Loss: 1.452, Val Accuracy: 0.00\n",
      "Epoch 75/100\n",
      "Train average Loss: 0.276, Train Accuracy: 1.00\n",
      "Val average Loss: 1.457, Val Accuracy: 0.00\n",
      "Epoch 76/100\n",
      "Train average Loss: 0.272, Train Accuracy: 1.00\n",
      "Val average Loss: 1.461, Val Accuracy: 0.00\n",
      "Epoch 77/100\n",
      "Train average Loss: 0.268, Train Accuracy: 1.00\n",
      "Val average Loss: 1.466, Val Accuracy: 0.00\n",
      "Epoch 78/100\n",
      "Train average Loss: 0.264, Train Accuracy: 1.00\n",
      "Val average Loss: 1.471, Val Accuracy: 0.00\n",
      "Epoch 79/100\n",
      "Train average Loss: 0.260, Train Accuracy: 1.00\n",
      "Val average Loss: 1.476, Val Accuracy: 0.00\n",
      "Epoch 80/100\n",
      "Train average Loss: 0.256, Train Accuracy: 1.00\n",
      "Val average Loss: 1.481, Val Accuracy: 0.00\n",
      "Epoch 81/100\n",
      "Train average Loss: 0.253, Train Accuracy: 1.00\n",
      "Val average Loss: 1.485, Val Accuracy: 0.00\n",
      "Epoch 82/100\n",
      "Train average Loss: 0.249, Train Accuracy: 1.00\n",
      "Val average Loss: 1.490, Val Accuracy: 0.00\n",
      "Epoch 83/100\n",
      "Train average Loss: 0.245, Train Accuracy: 1.00\n",
      "Val average Loss: 1.494, Val Accuracy: 0.00\n",
      "Epoch 84/100\n",
      "Train average Loss: 0.242, Train Accuracy: 1.00\n",
      "Val average Loss: 1.499, Val Accuracy: 0.00\n",
      "Epoch 85/100\n",
      "Train average Loss: 0.239, Train Accuracy: 1.00\n",
      "Val average Loss: 1.503, Val Accuracy: 0.00\n",
      "Epoch 86/100\n",
      "Train average Loss: 0.235, Train Accuracy: 1.00\n",
      "Val average Loss: 1.508, Val Accuracy: 0.00\n",
      "Epoch 87/100\n",
      "Train average Loss: 0.232, Train Accuracy: 1.00\n",
      "Val average Loss: 1.512, Val Accuracy: 0.00\n",
      "Epoch 88/100\n",
      "Train average Loss: 0.229, Train Accuracy: 1.00\n",
      "Val average Loss: 1.517, Val Accuracy: 0.00\n",
      "Epoch 89/100\n",
      "Train average Loss: 0.226, Train Accuracy: 1.00\n",
      "Val average Loss: 1.521, Val Accuracy: 0.00\n",
      "Epoch 90/100\n",
      "Train average Loss: 0.223, Train Accuracy: 1.00\n",
      "Val average Loss: 1.525, Val Accuracy: 0.00\n",
      "Epoch 91/100\n",
      "Train average Loss: 0.220, Train Accuracy: 1.00\n",
      "Val average Loss: 1.529, Val Accuracy: 0.00\n",
      "Epoch 92/100\n",
      "Train average Loss: 0.217, Train Accuracy: 1.00\n",
      "Val average Loss: 1.534, Val Accuracy: 0.00\n",
      "Epoch 93/100\n",
      "Train average Loss: 0.214, Train Accuracy: 1.00\n",
      "Val average Loss: 1.538, Val Accuracy: 0.00\n",
      "Epoch 94/100\n",
      "Train average Loss: 0.212, Train Accuracy: 1.00\n",
      "Val average Loss: 1.542, Val Accuracy: 0.00\n",
      "Epoch 95/100\n",
      "Train average Loss: 0.209, Train Accuracy: 1.00\n",
      "Val average Loss: 1.546, Val Accuracy: 0.00\n",
      "Epoch 96/100\n",
      "Train average Loss: 0.207, Train Accuracy: 1.00\n",
      "Val average Loss: 1.550, Val Accuracy: 0.00\n",
      "Epoch 97/100\n",
      "Train average Loss: 0.204, Train Accuracy: 1.00\n",
      "Val average Loss: 1.554, Val Accuracy: 0.00\n",
      "Epoch 98/100\n",
      "Train average Loss: 0.202, Train Accuracy: 1.00\n",
      "Val average Loss: 1.558, Val Accuracy: 0.00\n",
      "Epoch 99/100\n",
      "Train average Loss: 0.199, Train Accuracy: 1.00\n",
      "Val average Loss: 1.562, Val Accuracy: 0.00\n",
      "Epoch 100/100\n",
      "Train average Loss: 0.197, Train Accuracy: 1.00\n",
      "Val average Loss: 1.566, Val Accuracy: 0.00\n"
     ]
    }
   ],
   "source": [
    "def test_train_loop():\n",
    "    import torch.nn as nn\n",
    "    import torch.optim as optim\n",
    "    import torch.utils.data as data\n",
    "\n",
    "    # init simple model, optimizer, loss_fn, dataloaders\n",
    "    linear_model = nn.Linear(2, 3)\n",
    "    optimizer = optim.SGD(linear_model.parameters(), lr=0.01)\n",
    "    loss_fn = nn.CrossEntropyLoss()\n",
    "    testing_loader_train = data.DataLoader(\n",
    "        data.TensorDataset(torch.randn(2, 2), torch.randint(0, 3, (2,)))\n",
    "    )\n",
    "    testing_loader_val = data.DataLoader(\n",
    "        data.TensorDataset(torch.randn(2, 2), torch.randint(0, 3, (2,)))\n",
    "    )\n",
    "\n",
    "    # copy parameters to check for changes\n",
    "    params_before_training = list(linear_model.parameters())\n",
    "    params_before_training = [p.clone().to(\"cpu\") for p in params_before_training]\n",
    "\n",
    "    print(\"Testing training loop, CPU\")\n",
    "    train_model(\n",
    "        model=linear_model,\n",
    "        optimizer=optimizer,\n",
    "        loss_fn=loss_fn,\n",
    "        num_epochs=100,\n",
    "        train_dataloader=testing_loader_train,\n",
    "        val_dataloader=testing_loader_val,\n",
    "        device=\"cpu\",\n",
    "    )\n",
    "    if torch.cuda.is_available():\n",
    "        print(\"Testing training loop, CUDA\")\n",
    "        train_model(\n",
    "            model=linear_model,\n",
    "            optimizer=optimizer,\n",
    "            loss_fn=loss_fn,\n",
    "            num_epochs=100,\n",
    "            train_dataloader=testing_loader_train,\n",
    "            val_dataloader=testing_loader_val,\n",
    "            device=\"cuda\" if torch.cuda.is_available() else \"cpu\",\n",
    "        )\n",
    "\n",
    "    params_after_training = list(linear_model.parameters())\n",
    "    params_after_training = [p.clone().to(\"cpu\") for p in params_after_training]\n",
    "    for p_before, p_after in zip(params_before_training, params_after_training):\n",
    "        assert torch.any(\n",
    "            p_before != p_after\n",
    "        ), \"Model parameters did not change during training\"\n",
    "\n",
    "    # check that we could overfit a single example\n",
    "    (x, y) = next(iter(testing_loader_train))\n",
    "    x.to(\"cpu\")\n",
    "    y.to(\"cpu\")\n",
    "    linear_model.to(\"cpu\")\n",
    "    assert (\n",
    "        linear_model(x).argmax().item() == y.item()\n",
    "    ), \"Model could not overfit a single example\"\n",
    "\n",
    "\n",
    "def test_accuracy():\n",
    "    y_pred = torch.tensor([[0.1, 0.8, 0.1], [0.3, 0.4, 0.3], [0.1, 0.1, 0.8]])\n",
    "    y_true = torch.tensor([1, 0, 2])\n",
    "    acc = accuracy(y_pred, y_true)\n",
    "    assert isinstance(acc, torch.Tensor), \"Accuracy should be a torch.Tensor\"\n",
    "    assert torch.isclose(acc, torch.tensor(2 / 3)), f\"Accuracy is {acc}, expected 2/3\"\n",
    "\n",
    "\n",
    "try:\n",
    "    test_train_loop()\n",
    "except Exception as e:\n",
    "    print(e)\n",
    "    assert False, \"Training test failed, see error above\"\n",
    "\n",
    "test_accuracy()"
   ]
  },
  {
   "cell_type": "markdown",
   "metadata": {
    "deletable": false,
    "editable": false,
    "nbgrader": {
     "cell_type": "markdown",
     "checksum": "bd84899c109e58d0664fc4fab26425a2",
     "grade": false,
     "grade_id": "cell-a13a4a8eef1c582f",
     "locked": true,
     "schema_version": 3,
     "solution": false,
     "task": false
    }
   },
   "source": [
    "Now, create a neural network using PyTorch. You can use any architecture you want. Save the model in the variable `model`."
   ]
  },
  {
   "cell_type": "code",
   "execution_count": 27,
   "metadata": {
    "deletable": false,
    "nbgrader": {
     "cell_type": "code",
     "checksum": "ccbab415641442556c01ed5667f4ea77",
     "grade": false,
     "grade_id": "cell-dff32f0d1dd91a72",
     "locked": false,
     "schema_version": 3,
     "solution": true,
     "task": false
    }
   },
   "outputs": [],
   "source": [
    "# YOUR CODE HERE\n",
    "\n",
    "class NeuralNetwork(nn.Module):\n",
    "    def __init__(self):\n",
    "        super(NeuralNetwork, self).__init__()\n",
    "        # Two hidden layers\n",
    "        # linear ==> y = Wx + b\n",
    "        # input size is 2 (longitude, latitude)\n",
    "        # Hidden layer size = 32\n",
    "        # Output size is 3 (we have 3 classes)\n",
    "        self.fc1 = nn.Linear(2, 32)\n",
    "        self.fc2 = nn.Linear(32, 32)\n",
    "        # Output layer\n",
    "        self.fc3 = nn.Linear(32, 3)  \n",
    "\n",
    "    def forward(self, x):\n",
    "        # Forward prop\n",
    "        x = F.relu(self.fc1(x))  \n",
    "        x = F.relu(self.fc2(x)) \n",
    "        x = F.softmax(self.fc3(x),dim=1)\n",
    "        #self.fc3(x)\n",
    "        return x\n",
    "\n",
    "model = NeuralNetwork()\n"
   ]
  },
  {
   "cell_type": "code",
   "execution_count": 28,
   "metadata": {
    "deletable": false,
    "editable": false,
    "nbgrader": {
     "cell_type": "code",
     "checksum": "8d10331a48b8b11d2d2056d610b13b7f",
     "grade": true,
     "grade_id": "cell-a3f55091f5cbbdfe",
     "locked": true,
     "points": 1,
     "schema_version": 3,
     "solution": false,
     "task": false
    }
   },
   "outputs": [],
   "source": [
    "assert isinstance(model, nn.Module)\n",
    "\n",
    "\n",
    "# check that we can run input of shape (batch_size, 2) through the model, with batch_size=16\n",
    "def test_model_output_shape(model):\n",
    "    is_model_on_cuda = next(model.parameters()).is_cuda\n",
    "    device = torch.device(\"cuda\" if is_model_on_cuda else \"cpu\")\n",
    "    assert (\n",
    "        len(model(torch.randn(16, 2, device=device))) == 16\n",
    "    ), \"The model should not change the batch size\"\n",
    "\n",
    "\n",
    "test_model_output_shape(model)"
   ]
  },
  {
   "cell_type": "markdown",
   "metadata": {
    "deletable": false,
    "editable": false,
    "nbgrader": {
     "cell_type": "markdown",
     "checksum": "de0dda92011c512396593caba091db79",
     "grade": false,
     "grade_id": "cell-d91e1230c6b9225d",
     "locked": true,
     "schema_version": 3,
     "solution": false
    }
   },
   "source": [
    "Train the network. \n",
    "\n",
    "For you to pass this assignment, you must obtain an accuracy on the test set greater than 60%. You can use the validation set as a proxy during development, but remember that they can differ slightly. We use the test set, as this better represents the performance of the model on new, unseen data (which is the ultimate goal).\n",
    "\n",
    "To reach the level of performance, it may be necessary to search for a good architecture by trying several different ones. Last, if you want a challenge, try getting an accuracy greater than 75% (our reference solution achieves ~78%).\n",
    "\n",
    "Again, it might be useful to plot the loss and accuracy (for training and validation) during training."
   ]
  },
  {
   "cell_type": "code",
   "execution_count": 29,
   "metadata": {
    "deletable": false,
    "nbgrader": {
     "cell_type": "code",
     "checksum": "335efaf08cc5e4593fe97659a126cd84",
     "grade": false,
     "grade_id": "cell-711ca3d58ad725b4",
     "locked": false,
     "schema_version": 3,
     "solution": true,
     "task": false
    }
   },
   "outputs": [
    {
     "name": "stdout",
     "output_type": "stream",
     "text": [
      "Epoch 1/100\n",
      "Train average Loss: 1.007, Train Accuracy: 0.52\n",
      "Val average Loss: 0.895, Val Accuracy: 0.68\n",
      "Epoch 2/100\n",
      "Train average Loss: 0.916, Train Accuracy: 0.63\n",
      "Val average Loss: 0.881, Val Accuracy: 0.65\n",
      "Epoch 3/100\n",
      "Train average Loss: 0.911, Train Accuracy: 0.63\n",
      "Val average Loss: 0.880, Val Accuracy: 0.65\n",
      "Epoch 4/100\n",
      "Train average Loss: 0.913, Train Accuracy: 0.61\n",
      "Val average Loss: 0.879, Val Accuracy: 0.66\n",
      "Epoch 5/100\n",
      "Train average Loss: 0.910, Train Accuracy: 0.62\n",
      "Val average Loss: 0.879, Val Accuracy: 0.65\n",
      "Epoch 6/100\n",
      "Train average Loss: 0.909, Train Accuracy: 0.62\n",
      "Val average Loss: 0.889, Val Accuracy: 0.67\n",
      "Epoch 7/100\n",
      "Train average Loss: 0.912, Train Accuracy: 0.63\n",
      "Val average Loss: 0.883, Val Accuracy: 0.68\n",
      "Epoch 8/100\n",
      "Train average Loss: 0.909, Train Accuracy: 0.62\n",
      "Val average Loss: 0.881, Val Accuracy: 0.64\n",
      "Epoch 9/100\n",
      "Train average Loss: 0.918, Train Accuracy: 0.62\n",
      "Val average Loss: 0.892, Val Accuracy: 0.68\n",
      "Epoch 10/100\n",
      "Train average Loss: 0.907, Train Accuracy: 0.63\n",
      "Val average Loss: 0.883, Val Accuracy: 0.67\n",
      "Epoch 11/100\n",
      "Train average Loss: 0.909, Train Accuracy: 0.63\n",
      "Val average Loss: 0.911, Val Accuracy: 0.61\n",
      "Epoch 12/100\n",
      "Train average Loss: 0.930, Train Accuracy: 0.61\n",
      "Val average Loss: 0.882, Val Accuracy: 0.67\n",
      "Epoch 13/100\n",
      "Train average Loss: 0.917, Train Accuracy: 0.62\n",
      "Val average Loss: 0.880, Val Accuracy: 0.67\n",
      "Epoch 14/100\n",
      "Train average Loss: 0.908, Train Accuracy: 0.63\n",
      "Val average Loss: 0.881, Val Accuracy: 0.66\n",
      "Epoch 15/100\n",
      "Train average Loss: 0.908, Train Accuracy: 0.62\n",
      "Val average Loss: 0.881, Val Accuracy: 0.65\n",
      "Epoch 16/100\n",
      "Train average Loss: 0.909, Train Accuracy: 0.63\n",
      "Val average Loss: 0.881, Val Accuracy: 0.67\n",
      "Epoch 17/100\n",
      "Train average Loss: 0.909, Train Accuracy: 0.63\n",
      "Val average Loss: 0.881, Val Accuracy: 0.65\n",
      "Epoch 18/100\n",
      "Train average Loss: 0.908, Train Accuracy: 0.63\n",
      "Val average Loss: 0.881, Val Accuracy: 0.65\n",
      "Epoch 19/100\n",
      "Train average Loss: 0.909, Train Accuracy: 0.63\n",
      "Val average Loss: 0.880, Val Accuracy: 0.66\n",
      "Epoch 20/100\n",
      "Train average Loss: 0.909, Train Accuracy: 0.62\n",
      "Val average Loss: 0.881, Val Accuracy: 0.67\n",
      "Epoch 21/100\n",
      "Train average Loss: 0.910, Train Accuracy: 0.63\n",
      "Val average Loss: 0.882, Val Accuracy: 0.67\n",
      "Epoch 22/100\n",
      "Train average Loss: 0.907, Train Accuracy: 0.63\n",
      "Val average Loss: 0.881, Val Accuracy: 0.64\n",
      "Epoch 23/100\n",
      "Train average Loss: 0.911, Train Accuracy: 0.63\n",
      "Val average Loss: 0.880, Val Accuracy: 0.66\n",
      "Epoch 24/100\n",
      "Train average Loss: 0.911, Train Accuracy: 0.62\n",
      "Val average Loss: 0.880, Val Accuracy: 0.65\n",
      "Epoch 25/100\n",
      "Train average Loss: 0.910, Train Accuracy: 0.63\n",
      "Val average Loss: 0.880, Val Accuracy: 0.64\n",
      "Epoch 26/100\n",
      "Train average Loss: 0.907, Train Accuracy: 0.63\n",
      "Val average Loss: 0.880, Val Accuracy: 0.65\n",
      "Epoch 27/100\n",
      "Train average Loss: 0.913, Train Accuracy: 0.63\n",
      "Val average Loss: 0.884, Val Accuracy: 0.65\n",
      "Epoch 28/100\n",
      "Train average Loss: 0.911, Train Accuracy: 0.63\n",
      "Val average Loss: 0.881, Val Accuracy: 0.67\n",
      "Epoch 29/100\n",
      "Train average Loss: 0.909, Train Accuracy: 0.63\n",
      "Val average Loss: 0.889, Val Accuracy: 0.68\n",
      "Epoch 30/100\n",
      "Train average Loss: 0.913, Train Accuracy: 0.63\n",
      "Val average Loss: 0.892, Val Accuracy: 0.66\n",
      "Epoch 31/100\n",
      "Train average Loss: 0.917, Train Accuracy: 0.62\n",
      "Val average Loss: 0.880, Val Accuracy: 0.67\n",
      "Epoch 32/100\n",
      "Train average Loss: 0.914, Train Accuracy: 0.62\n",
      "Val average Loss: 0.880, Val Accuracy: 0.65\n",
      "Epoch 33/100\n",
      "Train average Loss: 0.912, Train Accuracy: 0.63\n",
      "Val average Loss: 0.881, Val Accuracy: 0.65\n",
      "Epoch 34/100\n",
      "Train average Loss: 0.908, Train Accuracy: 0.64\n",
      "Val average Loss: 0.879, Val Accuracy: 0.67\n",
      "Epoch 35/100\n",
      "Train average Loss: 0.909, Train Accuracy: 0.64\n",
      "Val average Loss: 0.880, Val Accuracy: 0.67\n",
      "Epoch 36/100\n",
      "Train average Loss: 0.908, Train Accuracy: 0.63\n",
      "Val average Loss: 0.880, Val Accuracy: 0.67\n",
      "Epoch 37/100\n",
      "Train average Loss: 0.905, Train Accuracy: 0.65\n",
      "Val average Loss: 0.883, Val Accuracy: 0.65\n",
      "Epoch 38/100\n",
      "Train average Loss: 0.912, Train Accuracy: 0.62\n",
      "Val average Loss: 0.882, Val Accuracy: 0.65\n",
      "Epoch 39/100\n",
      "Train average Loss: 0.918, Train Accuracy: 0.62\n",
      "Val average Loss: 0.881, Val Accuracy: 0.67\n",
      "Epoch 40/100\n",
      "Train average Loss: 0.910, Train Accuracy: 0.63\n",
      "Val average Loss: 0.881, Val Accuracy: 0.67\n",
      "Epoch 41/100\n",
      "Train average Loss: 0.911, Train Accuracy: 0.63\n",
      "Val average Loss: 0.880, Val Accuracy: 0.67\n",
      "Epoch 42/100\n",
      "Train average Loss: 0.909, Train Accuracy: 0.64\n",
      "Val average Loss: 0.885, Val Accuracy: 0.65\n",
      "Epoch 43/100\n",
      "Train average Loss: 0.915, Train Accuracy: 0.62\n",
      "Val average Loss: 0.881, Val Accuracy: 0.65\n",
      "Epoch 44/100\n",
      "Train average Loss: 0.909, Train Accuracy: 0.63\n",
      "Val average Loss: 0.884, Val Accuracy: 0.67\n",
      "Epoch 45/100\n",
      "Train average Loss: 0.908, Train Accuracy: 0.64\n",
      "Val average Loss: 0.883, Val Accuracy: 0.67\n",
      "Epoch 46/100\n",
      "Train average Loss: 0.906, Train Accuracy: 0.65\n",
      "Val average Loss: 0.882, Val Accuracy: 0.67\n",
      "Epoch 47/100\n",
      "Train average Loss: 0.910, Train Accuracy: 0.63\n",
      "Val average Loss: 0.884, Val Accuracy: 0.65\n",
      "Epoch 48/100\n",
      "Train average Loss: 0.909, Train Accuracy: 0.64\n",
      "Val average Loss: 0.889, Val Accuracy: 0.65\n",
      "Epoch 49/100\n",
      "Train average Loss: 0.907, Train Accuracy: 0.63\n",
      "Val average Loss: 0.887, Val Accuracy: 0.68\n",
      "Epoch 50/100\n",
      "Train average Loss: 0.911, Train Accuracy: 0.63\n",
      "Val average Loss: 0.886, Val Accuracy: 0.68\n",
      "Epoch 51/100\n",
      "Train average Loss: 0.915, Train Accuracy: 0.63\n",
      "Val average Loss: 0.882, Val Accuracy: 0.65\n",
      "Epoch 52/100\n",
      "Train average Loss: 0.909, Train Accuracy: 0.63\n",
      "Val average Loss: 0.881, Val Accuracy: 0.65\n",
      "Epoch 53/100\n",
      "Train average Loss: 0.909, Train Accuracy: 0.62\n",
      "Val average Loss: 0.882, Val Accuracy: 0.67\n",
      "Epoch 54/100\n",
      "Train average Loss: 0.908, Train Accuracy: 0.63\n",
      "Val average Loss: 0.884, Val Accuracy: 0.65\n",
      "Epoch 55/100\n",
      "Train average Loss: 0.908, Train Accuracy: 0.63\n",
      "Val average Loss: 0.880, Val Accuracy: 0.67\n",
      "Epoch 56/100\n",
      "Train average Loss: 0.908, Train Accuracy: 0.64\n",
      "Val average Loss: 0.882, Val Accuracy: 0.65\n",
      "Epoch 57/100\n",
      "Train average Loss: 0.913, Train Accuracy: 0.62\n",
      "Val average Loss: 0.880, Val Accuracy: 0.67\n",
      "Epoch 58/100\n",
      "Train average Loss: 0.910, Train Accuracy: 0.63\n",
      "Val average Loss: 0.887, Val Accuracy: 0.65\n",
      "Epoch 59/100\n",
      "Train average Loss: 0.909, Train Accuracy: 0.64\n",
      "Val average Loss: 0.882, Val Accuracy: 0.65\n",
      "Epoch 60/100\n",
      "Train average Loss: 0.915, Train Accuracy: 0.63\n",
      "Val average Loss: 0.884, Val Accuracy: 0.67\n",
      "Epoch 61/100\n",
      "Train average Loss: 0.908, Train Accuracy: 0.63\n",
      "Val average Loss: 0.882, Val Accuracy: 0.67\n",
      "Epoch 62/100\n",
      "Train average Loss: 0.911, Train Accuracy: 0.62\n",
      "Val average Loss: 0.879, Val Accuracy: 0.65\n",
      "Epoch 63/100\n",
      "Train average Loss: 0.908, Train Accuracy: 0.64\n",
      "Val average Loss: 0.881, Val Accuracy: 0.64\n",
      "Epoch 64/100\n",
      "Train average Loss: 0.910, Train Accuracy: 0.63\n",
      "Val average Loss: 0.880, Val Accuracy: 0.65\n",
      "Epoch 65/100\n",
      "Train average Loss: 0.910, Train Accuracy: 0.62\n",
      "Val average Loss: 0.879, Val Accuracy: 0.65\n",
      "Epoch 66/100\n",
      "Train average Loss: 0.908, Train Accuracy: 0.63\n",
      "Val average Loss: 0.881, Val Accuracy: 0.67\n",
      "Epoch 67/100\n",
      "Train average Loss: 0.907, Train Accuracy: 0.63\n",
      "Val average Loss: 0.882, Val Accuracy: 0.65\n",
      "Epoch 68/100\n",
      "Train average Loss: 0.907, Train Accuracy: 0.64\n",
      "Val average Loss: 0.889, Val Accuracy: 0.65\n",
      "Epoch 69/100\n",
      "Train average Loss: 0.911, Train Accuracy: 0.63\n",
      "Val average Loss: 0.884, Val Accuracy: 0.65\n",
      "Epoch 70/100\n",
      "Train average Loss: 0.907, Train Accuracy: 0.62\n",
      "Val average Loss: 0.879, Val Accuracy: 0.65\n",
      "Epoch 71/100\n",
      "Train average Loss: 0.908, Train Accuracy: 0.62\n",
      "Val average Loss: 0.878, Val Accuracy: 0.65\n",
      "Epoch 72/100\n",
      "Train average Loss: 0.906, Train Accuracy: 0.63\n",
      "Val average Loss: 0.878, Val Accuracy: 0.65\n",
      "Epoch 73/100\n",
      "Train average Loss: 0.907, Train Accuracy: 0.63\n",
      "Val average Loss: 0.883, Val Accuracy: 0.65\n",
      "Epoch 74/100\n",
      "Train average Loss: 0.910, Train Accuracy: 0.63\n",
      "Val average Loss: 0.882, Val Accuracy: 0.65\n",
      "Epoch 75/100\n",
      "Train average Loss: 0.909, Train Accuracy: 0.62\n",
      "Val average Loss: 0.879, Val Accuracy: 0.65\n",
      "Epoch 76/100\n",
      "Train average Loss: 0.907, Train Accuracy: 0.63\n",
      "Val average Loss: 0.882, Val Accuracy: 0.65\n",
      "Epoch 77/100\n",
      "Train average Loss: 0.905, Train Accuracy: 0.62\n",
      "Val average Loss: 0.881, Val Accuracy: 0.65\n",
      "Epoch 78/100\n",
      "Train average Loss: 0.909, Train Accuracy: 0.62\n",
      "Val average Loss: 0.882, Val Accuracy: 0.65\n",
      "Epoch 79/100\n",
      "Train average Loss: 0.907, Train Accuracy: 0.63\n",
      "Val average Loss: 0.877, Val Accuracy: 0.65\n",
      "Epoch 80/100\n",
      "Train average Loss: 0.912, Train Accuracy: 0.62\n",
      "Val average Loss: 0.883, Val Accuracy: 0.68\n",
      "Epoch 81/100\n",
      "Train average Loss: 0.908, Train Accuracy: 0.64\n",
      "Val average Loss: 0.882, Val Accuracy: 0.65\n",
      "Epoch 82/100\n",
      "Train average Loss: 0.909, Train Accuracy: 0.63\n",
      "Val average Loss: 0.883, Val Accuracy: 0.67\n",
      "Epoch 83/100\n",
      "Train average Loss: 0.910, Train Accuracy: 0.62\n",
      "Val average Loss: 0.881, Val Accuracy: 0.65\n",
      "Epoch 84/100\n",
      "Train average Loss: 0.909, Train Accuracy: 0.63\n",
      "Val average Loss: 0.884, Val Accuracy: 0.66\n",
      "Epoch 85/100\n",
      "Train average Loss: 0.906, Train Accuracy: 0.64\n",
      "Val average Loss: 0.882, Val Accuracy: 0.67\n",
      "Epoch 86/100\n",
      "Train average Loss: 0.910, Train Accuracy: 0.63\n",
      "Val average Loss: 0.881, Val Accuracy: 0.67\n",
      "Epoch 87/100\n",
      "Train average Loss: 0.904, Train Accuracy: 0.63\n",
      "Val average Loss: 0.882, Val Accuracy: 0.65\n",
      "Epoch 88/100\n",
      "Train average Loss: 0.907, Train Accuracy: 0.62\n",
      "Val average Loss: 0.882, Val Accuracy: 0.65\n",
      "Epoch 89/100\n",
      "Train average Loss: 0.907, Train Accuracy: 0.63\n",
      "Val average Loss: 0.884, Val Accuracy: 0.67\n",
      "Epoch 90/100\n",
      "Train average Loss: 0.906, Train Accuracy: 0.63\n",
      "Val average Loss: 0.878, Val Accuracy: 0.65\n",
      "Epoch 91/100\n",
      "Train average Loss: 0.904, Train Accuracy: 0.62\n",
      "Val average Loss: 0.892, Val Accuracy: 0.67\n",
      "Epoch 92/100\n",
      "Train average Loss: 0.907, Train Accuracy: 0.63\n",
      "Val average Loss: 0.880, Val Accuracy: 0.66\n",
      "Epoch 93/100\n",
      "Train average Loss: 0.904, Train Accuracy: 0.63\n",
      "Val average Loss: 0.888, Val Accuracy: 0.67\n",
      "Epoch 94/100\n",
      "Train average Loss: 0.912, Train Accuracy: 0.62\n",
      "Val average Loss: 0.880, Val Accuracy: 0.65\n",
      "Epoch 95/100\n",
      "Train average Loss: 0.905, Train Accuracy: 0.62\n",
      "Val average Loss: 0.884, Val Accuracy: 0.65\n",
      "Epoch 96/100\n",
      "Train average Loss: 0.907, Train Accuracy: 0.63\n",
      "Val average Loss: 0.881, Val Accuracy: 0.67\n",
      "Epoch 97/100\n",
      "Train average Loss: 0.910, Train Accuracy: 0.64\n",
      "Val average Loss: 0.888, Val Accuracy: 0.67\n",
      "Epoch 98/100\n",
      "Train average Loss: 0.905, Train Accuracy: 0.62\n",
      "Val average Loss: 0.879, Val Accuracy: 0.67\n",
      "Epoch 99/100\n",
      "Train average Loss: 0.905, Train Accuracy: 0.62\n",
      "Val average Loss: 0.880, Val Accuracy: 0.65\n",
      "Epoch 100/100\n",
      "Train average Loss: 0.905, Train Accuracy: 0.62\n",
      "Val average Loss: 0.880, Val Accuracy: 0.67\n"
     ]
    }
   ],
   "source": [
    "# YOUR CODE HERE\n",
    "train_model(\n",
    "    model=model,\n",
    "    optimizer=optim.Adam(model.parameters(), lr=0.001),\n",
    "    loss_fn=nn.CrossEntropyLoss(),\n",
    "    num_epochs=100,\n",
    "    train_dataloader=loader_train,\n",
    "    val_dataloader=loader_val,\n",
    "    device=\"cpu\"\n",
    ")"
   ]
  },
  {
   "cell_type": "markdown",
   "metadata": {
    "deletable": false,
    "editable": false,
    "nbgrader": {
     "cell_type": "markdown",
     "checksum": "0ed7706ede3cdfcebbe0b86290eed0b0",
     "grade": false,
     "grade_id": "cell-f0963d119d02b778",
     "locked": true,
     "schema_version": 3,
     "solution": false,
     "task": false
    }
   },
   "source": [
    "Let's have a look at what we have learned! Create a function that visualizes the decision regions of the network. Overlap it with the points corresponding to the training data and validations data, such as in Section 2, by using the scatter plot function. The training and validation points should have different markers and/or colors. Last, call the function to visualize the decision regions of your network.\n",
    "\n",
    "Hint: A simple way to show the decision region is to generate a lot of points within a predefined range of longitude and latitude and apply your network to it. However, feel free to explore other ways."
   ]
  },
  {
   "cell_type": "code",
   "execution_count": 30,
   "metadata": {
    "deletable": false,
    "nbgrader": {
     "cell_type": "code",
     "checksum": "7aa9ff47eb2e3bba211130138b992462",
     "grade": false,
     "grade_id": "cell-38b52ac21b7b7100",
     "locked": false,
     "schema_version": 3,
     "solution": true,
     "task": false
    }
   },
   "outputs": [
    {
     "data": {
      "image/png": "[encoded data removed]",
      "text/plain": [
       "<Figure size 640x480 with 1 Axes>"
      ]
     },
     "metadata": {},
     "output_type": "display_data"
    }
   ],
   "source": [
    "def plot_decision_region(model: nn.Module, x_train, y_train, x_val, y_val):\n",
    "    \"\"\"\n",
    "    Plot the decision region of the model.\n",
    "\n",
    "    Args:\n",
    "    model: nn.Module: The trained model\n",
    "    x_train: The training features, use whatever representation you prefer (e.g. numpy array, torch.Tensor, dataset, dataloader)\n",
    "    y_train: The training labels, use whatever representation you prefer (e.g. numpy array, torch.Tensor, dataset, dataloader)\n",
    "    x_val: The validation features, use whatever representation you prefer (e.g. numpy array, torch.Tensor, dataset, dataloader)\n",
    "    y_val: The validation labels, use whatever representation you prefer (e.g. numpy array, torch.Tensor, dataset, dataloader)\n",
    "    \"\"\"\n",
    "    # YOUR CODE HERE\n",
    "    #latitude_range = np.linspace(-90,90,500)\n",
    "    #longitude_range = np.linspace(-180,180,500)\n",
    "    #x, y = np.meshgrid(longitude_range, latitude_range)\n",
    "    \n",
    "    lat_min, lat_max = min(x_train[:, 1].min(), x_val[:, 1].min()), max(x_train[:, 1].max(), x_val[:, 1].max())\n",
    "    long_min, long_max = min(x_train[:, 0].min(), x_val[:, 0].min()), max(x_train[:, 0].max(), x_val[:, 0].max())\n",
    "    latitude_range = np.linspace(lat_min, lat_max, 500)  \n",
    "    longitude_range = np.linspace(long_min, long_max, 500) \n",
    "    x, y = np.meshgrid(longitude_range, latitude_range)\n",
    "    grid_points = np.c_[x.ravel(), y.ravel()]\n",
    "    grid_points_tensor = torch.tensor(grid_points,dtype=torch.float32)\n",
    "\n",
    "    # Predict on the grid points\n",
    "    model.eval()\n",
    "    with torch.no_grad():\n",
    "        pred = model(grid_points_tensor)\n",
    "        # Get the predicted classes\n",
    "        pred = pred.argmax(axis=1).numpy() \n",
    "    pred = pred.reshape(x.shape)\n",
    "    \n",
    "    class_colors = {'Diglett': 'brown', 'Seel': 'blue', 'Tauros': 'orange'}\n",
    "    cmap = ListedColormap([class_colors['Diglett'], class_colors['Seel'], class_colors['Tauros']])\n",
    "    \n",
    "    plt.contourf(x, y, pred, cmap=cmap)\n",
    "    \n",
    "    plt.xlabel('Longitude')\n",
    "    plt.ylabel('Latitude')\n",
    "    plt.title('Decision Regions with Training and Validation Data')\n",
    "    plt.grid()\n",
    "\n",
    "    colors_map = {0: 'brown', 1: 'blue', 2: 'orange'}\n",
    "    label_map = {0: 'Diglett', 1: 'Seel', 2:'Tauros'}\n",
    "    for label, color in colors_map.items():\n",
    "        subset_train = x_train[y_train == label]\n",
    "        subset_val = x_val[y_val == label]\n",
    "        plt.scatter(subset_train[:, 0], subset_train[:, 1], c=color, s=20,edgecolor='k', marker='o', label=f'Train {label_map[label]}')\n",
    "        plt.scatter(subset_val[:, 0], subset_val[:, 1], c=color, s=20,edgecolor='k', marker='X', label=f'Val {label_map[label]}')\n",
    "   \n",
    "    plt.legend(loc='upper right', title=\"Classes\")\n",
    "    plt.show()\n",
    "    \n",
    "    \n",
    "\n",
    "plot_decision_region(model,x_train, y_train, x_val, y_val)"
   ]
  },
  {
   "cell_type": "markdown",
   "metadata": {
    "deletable": false,
    "editable": false,
    "nbgrader": {
     "cell_type": "markdown",
     "checksum": "b5fa85ea2a29fda505102ade681a780c",
     "grade": false,
     "grade_id": "cell-5bd22b55c4aecfa8",
     "locked": true,
     "schema_version": 3,
     "solution": false,
     "task": false
    }
   },
   "source": [
    "Do the learned decision regions look like you would expect? Can they be improved? In what sense, and how would that change your model? Please comment on your results. "
   ]
  },
  {
   "cell_type": "markdown",
   "metadata": {
    "deletable": false,
    "nbgrader": {
     "cell_type": "markdown",
     "checksum": "0e3a5bdcf2012e5e6a94fa67f3cf2e5e",
     "grade": true,
     "grade_id": "cell-d611e347ddec2871",
     "locked": false,
     "points": 0,
     "schema_version": 3,
     "solution": true,
     "task": false
    }
   },
   "source": [
    "**Your answer:** Yes its looks quite similar to how I imagined it would. Mostly Tauros to the top left hence the graph is orange and mostly blue in a pizza slice looking region from the middle to the top since there is most Seels there. The rest of the graph is mostly brown since there is mostly Digletts there.\n",
    "\n",
    "I think one improvement could be to get the decisions region more fitted to the pokemon classes, now the regions consists of straight lines."
   ]
  },
  {
   "cell_type": "markdown",
   "metadata": {
    "deletable": false,
    "editable": false,
    "nbgrader": {
     "cell_type": "markdown",
     "checksum": "2d786c397dbdc99f25ccb68813feed32",
     "grade": false,
     "grade_id": "cell-383ffa6dc45f3da3",
     "locked": true,
     "schema_version": 3,
     "solution": false,
     "task": false
    }
   },
   "source": [
    "### 4.1. Model capacity and generalization\n",
    "\n",
    "Now we have all the neccessary tools to do a small experiment on model capacity and implications on generalization.\n",
    "\n",
    "Begin by defining a neural network `tiny_model` with a single linear layer and appropriate activation function. Then, train the network until convergence (should be fast)."
   ]
  },
  {
   "cell_type": "code",
   "execution_count": 52,
   "metadata": {
    "deletable": false,
    "nbgrader": {
     "cell_type": "code",
     "checksum": "23267595ed16c0c4b6d550280a68b430",
     "grade": false,
     "grade_id": "cell-00c94550168dad32",
     "locked": false,
     "schema_version": 3,
     "solution": true,
     "task": false
    }
   },
   "outputs": [
    {
     "name": "stdout",
     "output_type": "stream",
     "text": [
      "Epoch 1/100\n",
      "Train average Loss: 1.210, Train Accuracy: 0.34\n",
      "Val average Loss: 1.182, Val Accuracy: 0.37\n",
      "Epoch 2/100\n",
      "Train average Loss: 1.209, Train Accuracy: 0.34\n",
      "Val average Loss: 1.182, Val Accuracy: 0.37\n",
      "Epoch 3/100\n",
      "Train average Loss: 1.208, Train Accuracy: 0.34\n",
      "Val average Loss: 1.182, Val Accuracy: 0.37\n",
      "Epoch 4/100\n",
      "Train average Loss: 1.209, Train Accuracy: 0.34\n",
      "Val average Loss: 1.182, Val Accuracy: 0.37\n",
      "Epoch 5/100\n",
      "Train average Loss: 1.208, Train Accuracy: 0.34\n",
      "Val average Loss: 1.182, Val Accuracy: 0.37\n",
      "Epoch 6/100\n",
      "Train average Loss: 1.207, Train Accuracy: 0.34\n",
      "Val average Loss: 1.181, Val Accuracy: 0.37\n",
      "Epoch 7/100\n",
      "Train average Loss: 1.208, Train Accuracy: 0.34\n",
      "Val average Loss: 1.179, Val Accuracy: 0.37\n",
      "Epoch 8/100\n",
      "Train average Loss: 1.179, Train Accuracy: 0.37\n",
      "Val average Loss: 1.091, Val Accuracy: 0.46\n",
      "Epoch 9/100\n",
      "Train average Loss: 1.076, Train Accuracy: 0.47\n",
      "Val average Loss: 1.037, Val Accuracy: 0.51\n",
      "Epoch 10/100\n",
      "Train average Loss: 1.034, Train Accuracy: 0.51\n",
      "Val average Loss: 0.988, Val Accuracy: 0.56\n",
      "Epoch 11/100\n",
      "Train average Loss: 1.014, Train Accuracy: 0.54\n",
      "Val average Loss: 0.986, Val Accuracy: 0.57\n",
      "Epoch 12/100\n",
      "Train average Loss: 1.012, Train Accuracy: 0.54\n",
      "Val average Loss: 0.986, Val Accuracy: 0.57\n",
      "Epoch 13/100\n",
      "Train average Loss: 1.011, Train Accuracy: 0.54\n",
      "Val average Loss: 0.986, Val Accuracy: 0.57\n",
      "Epoch 14/100\n",
      "Train average Loss: 1.011, Train Accuracy: 0.54\n",
      "Val average Loss: 0.986, Val Accuracy: 0.57\n",
      "Epoch 15/100\n",
      "Train average Loss: 1.011, Train Accuracy: 0.54\n",
      "Val average Loss: 0.986, Val Accuracy: 0.57\n",
      "Epoch 16/100\n",
      "Train average Loss: 1.010, Train Accuracy: 0.54\n",
      "Val average Loss: 0.986, Val Accuracy: 0.57\n",
      "Epoch 17/100\n",
      "Train average Loss: 1.010, Train Accuracy: 0.54\n",
      "Val average Loss: 0.986, Val Accuracy: 0.57\n",
      "Epoch 18/100\n",
      "Train average Loss: 1.010, Train Accuracy: 0.54\n",
      "Val average Loss: 0.986, Val Accuracy: 0.57\n",
      "Epoch 19/100\n",
      "Train average Loss: 1.011, Train Accuracy: 0.54\n",
      "Val average Loss: 0.986, Val Accuracy: 0.57\n",
      "Epoch 20/100\n",
      "Train average Loss: 1.011, Train Accuracy: 0.54\n",
      "Val average Loss: 0.986, Val Accuracy: 0.57\n",
      "Epoch 21/100\n",
      "Train average Loss: 1.010, Train Accuracy: 0.54\n",
      "Val average Loss: 0.986, Val Accuracy: 0.57\n",
      "Epoch 22/100\n",
      "Train average Loss: 1.011, Train Accuracy: 0.54\n",
      "Val average Loss: 0.986, Val Accuracy: 0.57\n",
      "Epoch 23/100\n",
      "Train average Loss: 1.011, Train Accuracy: 0.54\n",
      "Val average Loss: 0.986, Val Accuracy: 0.57\n",
      "Epoch 24/100\n",
      "Train average Loss: 1.011, Train Accuracy: 0.54\n",
      "Val average Loss: 0.986, Val Accuracy: 0.57\n",
      "Epoch 25/100\n",
      "Train average Loss: 1.010, Train Accuracy: 0.54\n",
      "Val average Loss: 0.986, Val Accuracy: 0.57\n",
      "Epoch 26/100\n",
      "Train average Loss: 1.012, Train Accuracy: 0.54\n",
      "Val average Loss: 0.986, Val Accuracy: 0.57\n",
      "Epoch 27/100\n",
      "Train average Loss: 1.011, Train Accuracy: 0.54\n",
      "Val average Loss: 0.986, Val Accuracy: 0.57\n",
      "Epoch 28/100\n",
      "Train average Loss: 1.011, Train Accuracy: 0.54\n",
      "Val average Loss: 0.986, Val Accuracy: 0.57\n",
      "Epoch 29/100\n",
      "Train average Loss: 1.010, Train Accuracy: 0.54\n",
      "Val average Loss: 0.986, Val Accuracy: 0.57\n",
      "Epoch 30/100\n",
      "Train average Loss: 1.010, Train Accuracy: 0.54\n",
      "Val average Loss: 0.986, Val Accuracy: 0.57\n",
      "Epoch 31/100\n",
      "Train average Loss: 1.009, Train Accuracy: 0.54\n",
      "Val average Loss: 0.986, Val Accuracy: 0.57\n",
      "Epoch 32/100\n",
      "Train average Loss: 1.009, Train Accuracy: 0.54\n",
      "Val average Loss: 0.986, Val Accuracy: 0.57\n",
      "Epoch 33/100\n",
      "Train average Loss: 1.009, Train Accuracy: 0.54\n",
      "Val average Loss: 0.986, Val Accuracy: 0.57\n",
      "Epoch 34/100\n",
      "Train average Loss: 1.010, Train Accuracy: 0.54\n",
      "Val average Loss: 0.986, Val Accuracy: 0.57\n",
      "Epoch 35/100\n",
      "Train average Loss: 1.008, Train Accuracy: 0.54\n",
      "Val average Loss: 0.986, Val Accuracy: 0.57\n",
      "Epoch 36/100\n",
      "Train average Loss: 1.009, Train Accuracy: 0.54\n",
      "Val average Loss: 0.986, Val Accuracy: 0.57\n",
      "Epoch 37/100\n",
      "Train average Loss: 1.009, Train Accuracy: 0.54\n",
      "Val average Loss: 0.986, Val Accuracy: 0.57\n",
      "Epoch 38/100\n",
      "Train average Loss: 1.010, Train Accuracy: 0.54\n",
      "Val average Loss: 0.986, Val Accuracy: 0.57\n",
      "Epoch 39/100\n",
      "Train average Loss: 1.010, Train Accuracy: 0.54\n",
      "Val average Loss: 0.986, Val Accuracy: 0.57\n",
      "Epoch 40/100\n",
      "Train average Loss: 1.010, Train Accuracy: 0.54\n",
      "Val average Loss: 0.986, Val Accuracy: 0.57\n",
      "Epoch 41/100\n",
      "Train average Loss: 1.009, Train Accuracy: 0.54\n",
      "Val average Loss: 0.986, Val Accuracy: 0.57\n",
      "Epoch 42/100\n",
      "Train average Loss: 1.009, Train Accuracy: 0.54\n",
      "Val average Loss: 0.986, Val Accuracy: 0.57\n",
      "Epoch 43/100\n",
      "Train average Loss: 1.009, Train Accuracy: 0.54\n",
      "Val average Loss: 0.986, Val Accuracy: 0.57\n",
      "Epoch 44/100\n",
      "Train average Loss: 1.009, Train Accuracy: 0.54\n",
      "Val average Loss: 0.986, Val Accuracy: 0.57\n",
      "Epoch 45/100\n",
      "Train average Loss: 1.010, Train Accuracy: 0.54\n",
      "Val average Loss: 0.986, Val Accuracy: 0.57\n",
      "Epoch 46/100\n",
      "Train average Loss: 1.009, Train Accuracy: 0.54\n",
      "Val average Loss: 0.986, Val Accuracy: 0.57\n",
      "Epoch 47/100\n",
      "Train average Loss: 1.009, Train Accuracy: 0.54\n",
      "Val average Loss: 0.986, Val Accuracy: 0.57\n",
      "Epoch 48/100\n",
      "Train average Loss: 1.010, Train Accuracy: 0.54\n",
      "Val average Loss: 0.986, Val Accuracy: 0.57\n",
      "Epoch 49/100\n",
      "Train average Loss: 1.010, Train Accuracy: 0.54\n",
      "Val average Loss: 0.986, Val Accuracy: 0.57\n",
      "Epoch 50/100\n",
      "Train average Loss: 1.009, Train Accuracy: 0.54\n",
      "Val average Loss: 0.986, Val Accuracy: 0.57\n",
      "Epoch 51/100\n",
      "Train average Loss: 1.010, Train Accuracy: 0.54\n",
      "Val average Loss: 0.986, Val Accuracy: 0.57\n",
      "Epoch 52/100\n",
      "Train average Loss: 1.009, Train Accuracy: 0.54\n",
      "Val average Loss: 0.986, Val Accuracy: 0.57\n",
      "Epoch 53/100\n",
      "Train average Loss: 1.009, Train Accuracy: 0.54\n",
      "Val average Loss: 0.986, Val Accuracy: 0.57\n",
      "Epoch 54/100\n",
      "Train average Loss: 1.010, Train Accuracy: 0.54\n",
      "Val average Loss: 0.986, Val Accuracy: 0.57\n",
      "Epoch 55/100\n",
      "Train average Loss: 1.009, Train Accuracy: 0.54\n",
      "Val average Loss: 0.986, Val Accuracy: 0.57\n",
      "Epoch 56/100\n",
      "Train average Loss: 1.009, Train Accuracy: 0.54\n",
      "Val average Loss: 0.986, Val Accuracy: 0.57\n",
      "Epoch 57/100\n",
      "Train average Loss: 1.009, Train Accuracy: 0.54\n",
      "Val average Loss: 0.986, Val Accuracy: 0.57\n",
      "Epoch 58/100\n",
      "Train average Loss: 1.009, Train Accuracy: 0.54\n",
      "Val average Loss: 0.986, Val Accuracy: 0.57\n",
      "Epoch 59/100\n",
      "Train average Loss: 1.009, Train Accuracy: 0.54\n",
      "Val average Loss: 0.986, Val Accuracy: 0.57\n",
      "Epoch 60/100\n",
      "Train average Loss: 1.009, Train Accuracy: 0.54\n",
      "Val average Loss: 0.986, Val Accuracy: 0.57\n",
      "Epoch 61/100\n",
      "Train average Loss: 1.008, Train Accuracy: 0.54\n",
      "Val average Loss: 0.986, Val Accuracy: 0.57\n",
      "Epoch 62/100\n",
      "Train average Loss: 1.009, Train Accuracy: 0.54\n",
      "Val average Loss: 0.986, Val Accuracy: 0.57\n",
      "Epoch 63/100\n",
      "Train average Loss: 1.010, Train Accuracy: 0.54\n",
      "Val average Loss: 0.986, Val Accuracy: 0.57\n",
      "Epoch 64/100\n",
      "Train average Loss: 1.010, Train Accuracy: 0.54\n",
      "Val average Loss: 0.986, Val Accuracy: 0.57\n",
      "Epoch 65/100\n",
      "Train average Loss: 1.008, Train Accuracy: 0.54\n",
      "Val average Loss: 0.986, Val Accuracy: 0.57\n",
      "Epoch 66/100\n",
      "Train average Loss: 1.010, Train Accuracy: 0.54\n",
      "Val average Loss: 0.986, Val Accuracy: 0.57\n",
      "Epoch 67/100\n",
      "Train average Loss: 1.009, Train Accuracy: 0.54\n",
      "Val average Loss: 0.986, Val Accuracy: 0.57\n",
      "Epoch 68/100\n",
      "Train average Loss: 1.008, Train Accuracy: 0.54\n",
      "Val average Loss: 0.986, Val Accuracy: 0.57\n",
      "Epoch 69/100\n",
      "Train average Loss: 1.009, Train Accuracy: 0.54\n",
      "Val average Loss: 0.986, Val Accuracy: 0.57\n",
      "Epoch 70/100\n",
      "Train average Loss: 1.009, Train Accuracy: 0.54\n",
      "Val average Loss: 0.986, Val Accuracy: 0.57\n",
      "Epoch 71/100\n",
      "Train average Loss: 1.009, Train Accuracy: 0.54\n",
      "Val average Loss: 0.986, Val Accuracy: 0.57\n",
      "Epoch 72/100\n",
      "Train average Loss: 1.009, Train Accuracy: 0.54\n",
      "Val average Loss: 0.986, Val Accuracy: 0.57\n",
      "Epoch 73/100\n",
      "Train average Loss: 1.009, Train Accuracy: 0.54\n",
      "Val average Loss: 0.986, Val Accuracy: 0.57\n",
      "Epoch 74/100\n",
      "Train average Loss: 1.009, Train Accuracy: 0.54\n",
      "Val average Loss: 0.986, Val Accuracy: 0.57\n",
      "Epoch 75/100\n",
      "Train average Loss: 1.009, Train Accuracy: 0.54\n",
      "Val average Loss: 0.986, Val Accuracy: 0.57\n",
      "Epoch 76/100\n",
      "Train average Loss: 1.009, Train Accuracy: 0.54\n",
      "Val average Loss: 0.986, Val Accuracy: 0.57\n",
      "Epoch 77/100\n",
      "Train average Loss: 1.009, Train Accuracy: 0.54\n",
      "Val average Loss: 0.986, Val Accuracy: 0.57\n",
      "Epoch 78/100\n",
      "Train average Loss: 1.008, Train Accuracy: 0.54\n",
      "Val average Loss: 0.986, Val Accuracy: 0.57\n",
      "Epoch 79/100\n",
      "Train average Loss: 1.010, Train Accuracy: 0.54\n",
      "Val average Loss: 0.986, Val Accuracy: 0.57\n",
      "Epoch 80/100\n",
      "Train average Loss: 1.009, Train Accuracy: 0.54\n",
      "Val average Loss: 0.986, Val Accuracy: 0.57\n",
      "Epoch 81/100\n",
      "Train average Loss: 1.009, Train Accuracy: 0.54\n",
      "Val average Loss: 0.986, Val Accuracy: 0.57\n",
      "Epoch 82/100\n",
      "Train average Loss: 1.009, Train Accuracy: 0.54\n",
      "Val average Loss: 0.986, Val Accuracy: 0.57\n",
      "Epoch 83/100\n",
      "Train average Loss: 1.010, Train Accuracy: 0.54\n",
      "Val average Loss: 0.986, Val Accuracy: 0.57\n",
      "Epoch 84/100\n",
      "Train average Loss: 1.010, Train Accuracy: 0.54\n",
      "Val average Loss: 0.986, Val Accuracy: 0.57\n",
      "Epoch 85/100\n",
      "Train average Loss: 1.010, Train Accuracy: 0.54\n",
      "Val average Loss: 0.986, Val Accuracy: 0.57\n",
      "Epoch 86/100\n",
      "Train average Loss: 1.009, Train Accuracy: 0.54\n",
      "Val average Loss: 0.986, Val Accuracy: 0.57\n",
      "Epoch 87/100\n",
      "Train average Loss: 1.009, Train Accuracy: 0.54\n",
      "Val average Loss: 0.986, Val Accuracy: 0.57\n",
      "Epoch 88/100\n",
      "Train average Loss: 1.009, Train Accuracy: 0.54\n",
      "Val average Loss: 0.986, Val Accuracy: 0.57\n",
      "Epoch 89/100\n",
      "Train average Loss: 1.009, Train Accuracy: 0.54\n",
      "Val average Loss: 0.986, Val Accuracy: 0.57\n",
      "Epoch 90/100\n",
      "Train average Loss: 1.010, Train Accuracy: 0.54\n",
      "Val average Loss: 0.986, Val Accuracy: 0.57\n",
      "Epoch 91/100\n",
      "Train average Loss: 1.009, Train Accuracy: 0.54\n",
      "Val average Loss: 0.986, Val Accuracy: 0.57\n",
      "Epoch 92/100\n",
      "Train average Loss: 1.009, Train Accuracy: 0.54\n",
      "Val average Loss: 0.986, Val Accuracy: 0.57\n",
      "Epoch 93/100\n",
      "Train average Loss: 1.009, Train Accuracy: 0.54\n",
      "Val average Loss: 0.986, Val Accuracy: 0.57\n",
      "Epoch 94/100\n",
      "Train average Loss: 1.010, Train Accuracy: 0.54\n",
      "Val average Loss: 0.986, Val Accuracy: 0.57\n",
      "Epoch 95/100\n",
      "Train average Loss: 1.010, Train Accuracy: 0.54\n",
      "Val average Loss: 0.986, Val Accuracy: 0.57\n",
      "Epoch 96/100\n",
      "Train average Loss: 1.010, Train Accuracy: 0.54\n",
      "Val average Loss: 0.986, Val Accuracy: 0.57\n",
      "Epoch 97/100\n",
      "Train average Loss: 1.009, Train Accuracy: 0.54\n",
      "Val average Loss: 0.986, Val Accuracy: 0.57\n",
      "Epoch 98/100\n",
      "Train average Loss: 1.009, Train Accuracy: 0.54\n",
      "Val average Loss: 0.986, Val Accuracy: 0.57\n",
      "Epoch 99/100\n",
      "Train average Loss: 1.009, Train Accuracy: 0.54\n",
      "Val average Loss: 0.986, Val Accuracy: 0.57\n",
      "Epoch 100/100\n",
      "Train average Loss: 1.009, Train Accuracy: 0.54\n",
      "Val average Loss: 0.986, Val Accuracy: 0.57\n"
     ]
    }
   ],
   "source": [
    "# YOUR CODE HERE\n",
    "class TinyModel(nn.Module):\n",
    "    def __init__(self):\n",
    "        super(TinyModel, self).__init__()\n",
    "        self.fc1 = nn.Linear(2,3)\n",
    "\n",
    "    def forward(self,x):\n",
    "        x = F.softmax(self.fc1(x),dim=1)\n",
    "        return x\n",
    "\n",
    "tiny_model = TinyModel()\n",
    "\n",
    "train_model(\n",
    "    model=tiny_model,\n",
    "    optimizer=optim.Adam(tiny_model.parameters(), lr=0.001),\n",
    "    loss_fn=nn.CrossEntropyLoss(),\n",
    "    num_epochs=100,\n",
    "    train_dataloader=loader_train,\n",
    "    val_dataloader=loader_val,\n",
    "    device=\"cpu\"\n",
    ")\n"
   ]
  },
  {
   "cell_type": "code",
   "execution_count": 53,
   "metadata": {
    "deletable": false,
    "editable": false,
    "nbgrader": {
     "cell_type": "code",
     "checksum": "947da7271bc82b1962e4a2f151e38cc7",
     "grade": true,
     "grade_id": "cell-5177de76d9ba3b95",
     "locked": true,
     "points": 0,
     "schema_version": 3,
     "solution": false,
     "task": false
    }
   },
   "outputs": [],
   "source": [
    "assert isinstance(tiny_model, nn.Module), \"tiny_model should be a torch.nn.Module\"\n",
    "test_model_output_shape(tiny_model)"
   ]
  },
  {
   "cell_type": "markdown",
   "metadata": {
    "deletable": false,
    "editable": false,
    "nbgrader": {
     "cell_type": "markdown",
     "checksum": "5210c12d044cbd33369d11ff806d3713",
     "grade": false,
     "grade_id": "cell-08c57975b0623508",
     "locked": true,
     "schema_version": 3,
     "solution": false,
     "task": false
    }
   },
   "source": [
    "Now, draw the decision regions of the network as you did in the previous section. Before running the code, think about what you expect to see. What will the regions look like? How will they differ from the previous ones?"
   ]
  },
  {
   "cell_type": "code",
   "execution_count": 54,
   "metadata": {
    "deletable": false,
    "nbgrader": {
     "cell_type": "code",
     "checksum": "f3a85fa9cff45032547dc23821abf17a",
     "grade": false,
     "grade_id": "cell-54d26c4853bef495",
     "locked": false,
     "schema_version": 3,
     "solution": true,
     "task": false
    }
   },
   "outputs": [
    {
     "data": {
      "image/png": "[encoded data removed]",
      "text/plain": [
       "<Figure size 640x480 with 1 Axes>"
      ]
     },
     "metadata": {},
     "output_type": "display_data"
    }
   ],
   "source": [
    "# YOUR CODE HERE\n",
    "plot_decision_region(tiny_model,x_train, y_train, x_val, y_val)"
   ]
  },
  {
   "cell_type": "markdown",
   "metadata": {
    "deletable": false,
    "editable": false,
    "nbgrader": {
     "cell_type": "markdown",
     "checksum": "f7dd25b5a822f76d673abd2c19d04214",
     "grade": false,
     "grade_id": "cell-60ac824096c93c40",
     "locked": true,
     "schema_version": 3,
     "solution": false,
     "task": false
    }
   },
   "source": [
    "Are the decision regions any different? Why/why not? What does this tell you about the model capacity and generalization?"
   ]
  },
  {
   "cell_type": "markdown",
   "metadata": {
    "deletable": false,
    "nbgrader": {
     "cell_type": "markdown",
     "checksum": "3fab04c63006230a270e8d4cb6de097c",
     "grade": true,
     "grade_id": "cell-366b5ee2a98cf990",
     "locked": false,
     "points": 0,
     "schema_version": 3,
     "solution": true,
     "task": false
    }
   },
   "source": [
    "**Your answer:** Yes now the decisions region are different, especially the decision region for Tauros has changed to to cover a lot larger area. But I also notice the the accuracy of tiny_model is worse for model so it is expected that tiny_model will not predicted the decision region as good as model. This tell me that a larger neural network has a higher accuracy than a smaller neural network. This is inline with lecture 4 where a step to fix high bias was to create a larger neural network"
   ]
  },
  {
   "cell_type": "markdown",
   "metadata": {
    "deletable": false,
    "editable": false,
    "nbgrader": {
     "cell_type": "markdown",
     "checksum": "6e3581287819f1a7727aeed0aae5e3e8",
     "grade": false,
     "grade_id": "cell-9b64a4381757316b",
     "locked": true,
     "schema_version": 3,
     "solution": false,
     "task": false
    }
   },
   "source": [
    "Next, create a neural network `large_model` with many layers and/or hidden units. Try to maximize the training accuracy (0.7-0.8). Getting these models to converge might be a bit tricky, so you might have to adjust the learning rate, the optimizer, etc. Also, might be easier to have a wide model (large number of hidden units, say 1024 per layer) than a deep model (more than 4 layers).\n",
    "\n",
    "Feel free to experiment, but if you get stuck, our model is a MLP with an input layer, 4 hidden layers with 1024 units each, and an output layer. We used the ReLU activation function between each layer and a softmax for the output layer. We used the Adam optimizer with a learning rate of 0.003 and a batch size of 512. We trained for at least a few hundred epochs. Also, normalizing the input can be helpful (zero mean and unit variance)."
   ]
  },
  {
   "cell_type": "code",
   "execution_count": 48,
   "metadata": {
    "deletable": false,
    "nbgrader": {
     "cell_type": "code",
     "checksum": "9f70d4de2747cd6ef9d0d501495dcb1a",
     "grade": false,
     "grade_id": "cell-9abb82db6e8413d1",
     "locked": false,
     "schema_version": 3,
     "solution": true,
     "task": false
    }
   },
   "outputs": [
    {
     "name": "stdout",
     "output_type": "stream",
     "text": [
      "Epoch 1/200\n",
      "Train average Loss: 1.077, Train Accuracy: 0.48\n",
      "Val average Loss: 1.004, Val Accuracy: 0.59\n",
      "Epoch 2/200\n",
      "Train average Loss: 0.971, Train Accuracy: 0.63\n",
      "Val average Loss: 0.953, Val Accuracy: 0.57\n",
      "Epoch 3/200\n",
      "Train average Loss: 0.927, Train Accuracy: 0.61\n",
      "Val average Loss: 0.925, Val Accuracy: 0.60\n",
      "Epoch 4/200\n",
      "Train average Loss: 0.906, Train Accuracy: 0.63\n",
      "Val average Loss: 0.904, Val Accuracy: 0.67\n",
      "Epoch 5/200\n",
      "Train average Loss: 0.866, Train Accuracy: 0.68\n",
      "Val average Loss: 0.884, Val Accuracy: 0.67\n",
      "Epoch 6/200\n",
      "Train average Loss: 0.886, Train Accuracy: 0.66\n",
      "Val average Loss: 0.882, Val Accuracy: 0.67\n",
      "Epoch 7/200\n",
      "Train average Loss: 0.881, Train Accuracy: 0.66\n",
      "Val average Loss: 0.873, Val Accuracy: 0.69\n",
      "Epoch 8/200\n",
      "Train average Loss: 0.876, Train Accuracy: 0.67\n",
      "Val average Loss: 0.863, Val Accuracy: 0.69\n",
      "Epoch 9/200\n",
      "Train average Loss: 0.854, Train Accuracy: 0.71\n",
      "Val average Loss: 0.860, Val Accuracy: 0.69\n",
      "Epoch 10/200\n",
      "Train average Loss: 0.853, Train Accuracy: 0.70\n",
      "Val average Loss: 0.859, Val Accuracy: 0.69\n",
      "Epoch 11/200\n",
      "Train average Loss: 0.861, Train Accuracy: 0.69\n",
      "Val average Loss: 0.858, Val Accuracy: 0.69\n",
      "Epoch 12/200\n",
      "Train average Loss: 0.857, Train Accuracy: 0.70\n",
      "Val average Loss: 0.861, Val Accuracy: 0.69\n",
      "Epoch 13/200\n",
      "Train average Loss: 0.861, Train Accuracy: 0.69\n",
      "Val average Loss: 0.858, Val Accuracy: 0.69\n",
      "Epoch 14/200\n",
      "Train average Loss: 0.837, Train Accuracy: 0.71\n",
      "Val average Loss: 0.859, Val Accuracy: 0.69\n",
      "Epoch 15/200\n",
      "Train average Loss: 0.852, Train Accuracy: 0.70\n",
      "Val average Loss: 0.858, Val Accuracy: 0.69\n",
      "Epoch 16/200\n",
      "Train average Loss: 0.854, Train Accuracy: 0.70\n",
      "Val average Loss: 0.859, Val Accuracy: 0.69\n",
      "Epoch 17/200\n",
      "Train average Loss: 0.840, Train Accuracy: 0.71\n",
      "Val average Loss: 0.859, Val Accuracy: 0.69\n",
      "Epoch 18/200\n",
      "Train average Loss: 0.848, Train Accuracy: 0.70\n",
      "Val average Loss: 0.858, Val Accuracy: 0.69\n",
      "Epoch 19/200\n",
      "Train average Loss: 0.858, Train Accuracy: 0.69\n",
      "Val average Loss: 0.859, Val Accuracy: 0.69\n",
      "Epoch 20/200\n",
      "Train average Loss: 0.870, Train Accuracy: 0.68\n",
      "Val average Loss: 0.858, Val Accuracy: 0.69\n",
      "Epoch 21/200\n",
      "Train average Loss: 0.853, Train Accuracy: 0.70\n",
      "Val average Loss: 0.857, Val Accuracy: 0.69\n",
      "Epoch 22/200\n",
      "Train average Loss: 0.864, Train Accuracy: 0.69\n",
      "Val average Loss: 0.858, Val Accuracy: 0.69\n",
      "Epoch 23/200\n",
      "Train average Loss: 0.867, Train Accuracy: 0.68\n",
      "Val average Loss: 0.859, Val Accuracy: 0.69\n",
      "Epoch 24/200\n",
      "Train average Loss: 0.865, Train Accuracy: 0.68\n",
      "Val average Loss: 0.858, Val Accuracy: 0.69\n",
      "Epoch 25/200\n",
      "Train average Loss: 0.845, Train Accuracy: 0.71\n",
      "Val average Loss: 0.859, Val Accuracy: 0.69\n",
      "Epoch 26/200\n",
      "Train average Loss: 0.838, Train Accuracy: 0.71\n",
      "Val average Loss: 0.859, Val Accuracy: 0.69\n",
      "Epoch 27/200\n",
      "Train average Loss: 0.862, Train Accuracy: 0.69\n",
      "Val average Loss: 0.859, Val Accuracy: 0.69\n",
      "Epoch 28/200\n",
      "Train average Loss: 0.837, Train Accuracy: 0.71\n",
      "Val average Loss: 0.859, Val Accuracy: 0.69\n",
      "Epoch 29/200\n",
      "Train average Loss: 0.889, Train Accuracy: 0.66\n",
      "Val average Loss: 0.858, Val Accuracy: 0.69\n",
      "Epoch 30/200\n",
      "Train average Loss: 0.867, Train Accuracy: 0.68\n",
      "Val average Loss: 0.859, Val Accuracy: 0.69\n",
      "Epoch 31/200\n",
      "Train average Loss: 0.840, Train Accuracy: 0.71\n",
      "Val average Loss: 0.861, Val Accuracy: 0.69\n",
      "Epoch 32/200\n",
      "Train average Loss: 0.871, Train Accuracy: 0.68\n",
      "Val average Loss: 0.858, Val Accuracy: 0.69\n",
      "Epoch 33/200\n",
      "Train average Loss: 0.850, Train Accuracy: 0.70\n",
      "Val average Loss: 0.858, Val Accuracy: 0.69\n",
      "Epoch 34/200\n",
      "Train average Loss: 0.862, Train Accuracy: 0.69\n",
      "Val average Loss: 0.858, Val Accuracy: 0.69\n",
      "Epoch 35/200\n",
      "Train average Loss: 0.864, Train Accuracy: 0.69\n",
      "Val average Loss: 0.858, Val Accuracy: 0.69\n",
      "Epoch 36/200\n",
      "Train average Loss: 0.849, Train Accuracy: 0.70\n",
      "Val average Loss: 0.858, Val Accuracy: 0.69\n",
      "Epoch 37/200\n",
      "Train average Loss: 0.849, Train Accuracy: 0.70\n",
      "Val average Loss: 0.858, Val Accuracy: 0.69\n",
      "Epoch 38/200\n",
      "Train average Loss: 0.871, Train Accuracy: 0.68\n",
      "Val average Loss: 0.858, Val Accuracy: 0.69\n",
      "Epoch 39/200\n",
      "Train average Loss: 0.854, Train Accuracy: 0.70\n",
      "Val average Loss: 0.858, Val Accuracy: 0.69\n",
      "Epoch 40/200\n",
      "Train average Loss: 0.854, Train Accuracy: 0.70\n",
      "Val average Loss: 0.858, Val Accuracy: 0.69\n",
      "Epoch 41/200\n",
      "Train average Loss: 0.852, Train Accuracy: 0.70\n",
      "Val average Loss: 0.858, Val Accuracy: 0.69\n",
      "Epoch 42/200\n",
      "Train average Loss: 0.839, Train Accuracy: 0.71\n",
      "Val average Loss: 0.858, Val Accuracy: 0.69\n",
      "Epoch 43/200\n",
      "Train average Loss: 0.853, Train Accuracy: 0.70\n",
      "Val average Loss: 0.858, Val Accuracy: 0.69\n",
      "Epoch 44/200\n",
      "Train average Loss: 0.842, Train Accuracy: 0.71\n",
      "Val average Loss: 0.859, Val Accuracy: 0.69\n",
      "Epoch 45/200\n",
      "Train average Loss: 0.867, Train Accuracy: 0.68\n",
      "Val average Loss: 0.858, Val Accuracy: 0.69\n",
      "Epoch 46/200\n",
      "Train average Loss: 0.853, Train Accuracy: 0.70\n",
      "Val average Loss: 0.859, Val Accuracy: 0.69\n",
      "Epoch 47/200\n",
      "Train average Loss: 0.852, Train Accuracy: 0.70\n",
      "Val average Loss: 0.856, Val Accuracy: 0.69\n",
      "Epoch 48/200\n",
      "Train average Loss: 0.853, Train Accuracy: 0.70\n",
      "Val average Loss: 0.857, Val Accuracy: 0.69\n",
      "Epoch 49/200\n",
      "Train average Loss: 0.846, Train Accuracy: 0.71\n",
      "Val average Loss: 0.858, Val Accuracy: 0.69\n",
      "Epoch 50/200\n",
      "Train average Loss: 0.860, Train Accuracy: 0.69\n",
      "Val average Loss: 0.877, Val Accuracy: 0.69\n",
      "Epoch 51/200\n",
      "Train average Loss: 0.861, Train Accuracy: 0.69\n",
      "Val average Loss: 0.863, Val Accuracy: 0.69\n",
      "Epoch 52/200\n",
      "Train average Loss: 0.890, Train Accuracy: 0.66\n",
      "Val average Loss: 0.858, Val Accuracy: 0.69\n",
      "Epoch 53/200\n",
      "Train average Loss: 0.861, Train Accuracy: 0.69\n",
      "Val average Loss: 0.858, Val Accuracy: 0.69\n",
      "Epoch 54/200\n",
      "Train average Loss: 0.846, Train Accuracy: 0.70\n",
      "Val average Loss: 0.859, Val Accuracy: 0.69\n",
      "Epoch 55/200\n",
      "Train average Loss: 0.850, Train Accuracy: 0.70\n",
      "Val average Loss: 0.858, Val Accuracy: 0.69\n",
      "Epoch 56/200\n",
      "Train average Loss: 0.850, Train Accuracy: 0.70\n",
      "Val average Loss: 0.858, Val Accuracy: 0.69\n",
      "Epoch 57/200\n",
      "Train average Loss: 0.832, Train Accuracy: 0.72\n",
      "Val average Loss: 0.859, Val Accuracy: 0.69\n",
      "Epoch 58/200\n",
      "Train average Loss: 0.861, Train Accuracy: 0.69\n",
      "Val average Loss: 0.858, Val Accuracy: 0.69\n",
      "Epoch 59/200\n",
      "Train average Loss: 0.868, Train Accuracy: 0.68\n",
      "Val average Loss: 0.860, Val Accuracy: 0.69\n",
      "Epoch 60/200\n",
      "Train average Loss: 0.857, Train Accuracy: 0.69\n",
      "Val average Loss: 0.857, Val Accuracy: 0.69\n",
      "Epoch 61/200\n",
      "Train average Loss: 0.858, Train Accuracy: 0.69\n",
      "Val average Loss: 0.860, Val Accuracy: 0.69\n",
      "Epoch 62/200\n",
      "Train average Loss: 0.859, Train Accuracy: 0.69\n",
      "Val average Loss: 0.858, Val Accuracy: 0.69\n",
      "Epoch 63/200\n",
      "Train average Loss: 0.860, Train Accuracy: 0.69\n",
      "Val average Loss: 0.859, Val Accuracy: 0.69\n",
      "Epoch 64/200\n",
      "Train average Loss: 0.855, Train Accuracy: 0.70\n",
      "Val average Loss: 0.858, Val Accuracy: 0.69\n",
      "Epoch 65/200\n",
      "Train average Loss: 0.854, Train Accuracy: 0.70\n",
      "Val average Loss: 0.857, Val Accuracy: 0.69\n",
      "Epoch 66/200\n",
      "Train average Loss: 0.839, Train Accuracy: 0.71\n",
      "Val average Loss: 0.858, Val Accuracy: 0.69\n",
      "Epoch 67/200\n",
      "Train average Loss: 0.863, Train Accuracy: 0.69\n",
      "Val average Loss: 0.858, Val Accuracy: 0.69\n",
      "Epoch 68/200\n",
      "Train average Loss: 0.851, Train Accuracy: 0.70\n",
      "Val average Loss: 0.858, Val Accuracy: 0.69\n",
      "Epoch 69/200\n",
      "Train average Loss: 0.843, Train Accuracy: 0.71\n",
      "Val average Loss: 0.858, Val Accuracy: 0.69\n",
      "Epoch 70/200\n",
      "Train average Loss: 0.856, Train Accuracy: 0.69\n",
      "Val average Loss: 0.858, Val Accuracy: 0.69\n",
      "Epoch 71/200\n",
      "Train average Loss: 0.841, Train Accuracy: 0.71\n",
      "Val average Loss: 0.858, Val Accuracy: 0.69\n",
      "Epoch 72/200\n",
      "Train average Loss: 0.849, Train Accuracy: 0.70\n",
      "Val average Loss: 0.858, Val Accuracy: 0.69\n",
      "Epoch 73/200\n",
      "Train average Loss: 0.843, Train Accuracy: 0.71\n",
      "Val average Loss: 0.858, Val Accuracy: 0.69\n",
      "Epoch 74/200\n",
      "Train average Loss: 0.856, Train Accuracy: 0.70\n",
      "Val average Loss: 0.860, Val Accuracy: 0.69\n",
      "Epoch 75/200\n",
      "Train average Loss: 0.858, Train Accuracy: 0.69\n",
      "Val average Loss: 0.858, Val Accuracy: 0.69\n",
      "Epoch 76/200\n",
      "Train average Loss: 0.840, Train Accuracy: 0.71\n",
      "Val average Loss: 0.858, Val Accuracy: 0.69\n",
      "Epoch 77/200\n",
      "Train average Loss: 0.857, Train Accuracy: 0.69\n",
      "Val average Loss: 0.858, Val Accuracy: 0.69\n",
      "Epoch 78/200\n",
      "Train average Loss: 0.859, Train Accuracy: 0.69\n",
      "Val average Loss: 0.858, Val Accuracy: 0.69\n",
      "Epoch 79/200\n",
      "Train average Loss: 0.839, Train Accuracy: 0.71\n",
      "Val average Loss: 0.858, Val Accuracy: 0.69\n",
      "Epoch 80/200\n",
      "Train average Loss: 0.859, Train Accuracy: 0.69\n",
      "Val average Loss: 0.858, Val Accuracy: 0.69\n",
      "Epoch 81/200\n",
      "Train average Loss: 0.843, Train Accuracy: 0.71\n",
      "Val average Loss: 0.860, Val Accuracy: 0.69\n",
      "Epoch 82/200\n",
      "Train average Loss: 0.859, Train Accuracy: 0.69\n",
      "Val average Loss: 0.859, Val Accuracy: 0.69\n",
      "Epoch 83/200\n",
      "Train average Loss: 0.851, Train Accuracy: 0.70\n",
      "Val average Loss: 0.857, Val Accuracy: 0.69\n",
      "Epoch 84/200\n",
      "Train average Loss: 0.843, Train Accuracy: 0.71\n",
      "Val average Loss: 0.858, Val Accuracy: 0.69\n",
      "Epoch 85/200\n",
      "Train average Loss: 0.847, Train Accuracy: 0.70\n",
      "Val average Loss: 0.858, Val Accuracy: 0.69\n",
      "Epoch 86/200\n",
      "Train average Loss: 0.860, Train Accuracy: 0.69\n",
      "Val average Loss: 0.858, Val Accuracy: 0.69\n",
      "Epoch 87/200\n",
      "Train average Loss: 0.855, Train Accuracy: 0.70\n",
      "Val average Loss: 0.858, Val Accuracy: 0.69\n",
      "Epoch 88/200\n",
      "Train average Loss: 0.845, Train Accuracy: 0.71\n",
      "Val average Loss: 0.857, Val Accuracy: 0.69\n",
      "Epoch 89/200\n",
      "Train average Loss: 0.858, Train Accuracy: 0.69\n",
      "Val average Loss: 0.859, Val Accuracy: 0.69\n",
      "Epoch 90/200\n",
      "Train average Loss: 0.839, Train Accuracy: 0.71\n",
      "Val average Loss: 0.858, Val Accuracy: 0.69\n",
      "Epoch 91/200\n",
      "Train average Loss: 0.869, Train Accuracy: 0.68\n",
      "Val average Loss: 0.858, Val Accuracy: 0.69\n",
      "Epoch 92/200\n",
      "Train average Loss: 0.876, Train Accuracy: 0.68\n",
      "Val average Loss: 0.860, Val Accuracy: 0.69\n",
      "Epoch 93/200\n",
      "Train average Loss: 0.854, Train Accuracy: 0.70\n",
      "Val average Loss: 0.858, Val Accuracy: 0.69\n",
      "Epoch 94/200\n",
      "Train average Loss: 0.852, Train Accuracy: 0.70\n",
      "Val average Loss: 0.858, Val Accuracy: 0.69\n",
      "Epoch 95/200\n",
      "Train average Loss: 0.847, Train Accuracy: 0.70\n",
      "Val average Loss: 0.857, Val Accuracy: 0.69\n",
      "Epoch 96/200\n",
      "Train average Loss: 0.845, Train Accuracy: 0.71\n",
      "Val average Loss: 0.858, Val Accuracy: 0.69\n",
      "Epoch 97/200\n",
      "Train average Loss: 0.863, Train Accuracy: 0.69\n",
      "Val average Loss: 0.858, Val Accuracy: 0.69\n",
      "Epoch 98/200\n",
      "Train average Loss: 0.867, Train Accuracy: 0.68\n",
      "Val average Loss: 0.860, Val Accuracy: 0.69\n",
      "Epoch 99/200\n",
      "Train average Loss: 0.865, Train Accuracy: 0.69\n",
      "Val average Loss: 0.858, Val Accuracy: 0.69\n",
      "Epoch 100/200\n",
      "Train average Loss: 0.850, Train Accuracy: 0.70\n",
      "Val average Loss: 0.858, Val Accuracy: 0.69\n",
      "Epoch 101/200\n",
      "Train average Loss: 0.847, Train Accuracy: 0.70\n",
      "Val average Loss: 0.858, Val Accuracy: 0.69\n",
      "Epoch 102/200\n",
      "Train average Loss: 0.872, Train Accuracy: 0.68\n",
      "Val average Loss: 0.858, Val Accuracy: 0.69\n",
      "Epoch 103/200\n",
      "Train average Loss: 0.868, Train Accuracy: 0.68\n",
      "Val average Loss: 0.858, Val Accuracy: 0.69\n",
      "Epoch 104/200\n",
      "Train average Loss: 0.862, Train Accuracy: 0.69\n",
      "Val average Loss: 0.857, Val Accuracy: 0.69\n",
      "Epoch 105/200\n",
      "Train average Loss: 0.826, Train Accuracy: 0.73\n",
      "Val average Loss: 0.857, Val Accuracy: 0.69\n",
      "Epoch 106/200\n",
      "Train average Loss: 0.847, Train Accuracy: 0.70\n",
      "Val average Loss: 0.858, Val Accuracy: 0.69\n",
      "Epoch 107/200\n",
      "Train average Loss: 0.845, Train Accuracy: 0.71\n",
      "Val average Loss: 0.858, Val Accuracy: 0.69\n",
      "Epoch 108/200\n",
      "Train average Loss: 0.862, Train Accuracy: 0.69\n",
      "Val average Loss: 0.858, Val Accuracy: 0.69\n",
      "Epoch 109/200\n",
      "Train average Loss: 0.847, Train Accuracy: 0.70\n",
      "Val average Loss: 0.859, Val Accuracy: 0.69\n",
      "Epoch 110/200\n",
      "Train average Loss: 0.834, Train Accuracy: 0.72\n",
      "Val average Loss: 0.857, Val Accuracy: 0.69\n",
      "Epoch 111/200\n",
      "Train average Loss: 0.841, Train Accuracy: 0.71\n",
      "Val average Loss: 0.858, Val Accuracy: 0.69\n",
      "Epoch 112/200\n",
      "Train average Loss: 0.840, Train Accuracy: 0.71\n",
      "Val average Loss: 0.857, Val Accuracy: 0.69\n",
      "Epoch 113/200\n",
      "Train average Loss: 0.845, Train Accuracy: 0.71\n",
      "Val average Loss: 0.861, Val Accuracy: 0.69\n",
      "Epoch 114/200\n",
      "Train average Loss: 0.868, Train Accuracy: 0.68\n",
      "Val average Loss: 0.857, Val Accuracy: 0.69\n",
      "Epoch 115/200\n",
      "Train average Loss: 0.846, Train Accuracy: 0.70\n",
      "Val average Loss: 0.855, Val Accuracy: 0.70\n",
      "Epoch 116/200\n",
      "Train average Loss: 0.851, Train Accuracy: 0.70\n",
      "Val average Loss: 0.855, Val Accuracy: 0.70\n",
      "Epoch 117/200\n",
      "Train average Loss: 0.854, Train Accuracy: 0.70\n",
      "Val average Loss: 0.856, Val Accuracy: 0.69\n",
      "Epoch 118/200\n",
      "Train average Loss: 0.861, Train Accuracy: 0.69\n",
      "Val average Loss: 0.855, Val Accuracy: 0.70\n",
      "Epoch 119/200\n",
      "Train average Loss: 0.850, Train Accuracy: 0.70\n",
      "Val average Loss: 0.855, Val Accuracy: 0.70\n",
      "Epoch 120/200\n",
      "Train average Loss: 0.858, Train Accuracy: 0.69\n",
      "Val average Loss: 0.855, Val Accuracy: 0.70\n",
      "Epoch 121/200\n",
      "Train average Loss: 0.855, Train Accuracy: 0.70\n",
      "Val average Loss: 0.855, Val Accuracy: 0.70\n",
      "Epoch 122/200\n",
      "Train average Loss: 0.851, Train Accuracy: 0.70\n",
      "Val average Loss: 0.855, Val Accuracy: 0.70\n",
      "Epoch 123/200\n",
      "Train average Loss: 0.840, Train Accuracy: 0.71\n",
      "Val average Loss: 0.855, Val Accuracy: 0.70\n",
      "Epoch 124/200\n",
      "Train average Loss: 0.857, Train Accuracy: 0.69\n",
      "Val average Loss: 0.855, Val Accuracy: 0.70\n",
      "Epoch 125/200\n",
      "Train average Loss: 0.861, Train Accuracy: 0.69\n",
      "Val average Loss: 0.855, Val Accuracy: 0.70\n",
      "Epoch 126/200\n",
      "Train average Loss: 0.861, Train Accuracy: 0.69\n",
      "Val average Loss: 0.855, Val Accuracy: 0.70\n",
      "Epoch 127/200\n",
      "Train average Loss: 0.860, Train Accuracy: 0.69\n",
      "Val average Loss: 0.855, Val Accuracy: 0.70\n",
      "Epoch 128/200\n",
      "Train average Loss: 0.862, Train Accuracy: 0.69\n",
      "Val average Loss: 0.928, Val Accuracy: 0.58\n",
      "Epoch 129/200\n",
      "Train average Loss: 0.885, Train Accuracy: 0.66\n",
      "Val average Loss: 0.868, Val Accuracy: 0.68\n",
      "Epoch 130/200\n",
      "Train average Loss: 0.861, Train Accuracy: 0.69\n",
      "Val average Loss: 0.859, Val Accuracy: 0.69\n",
      "Epoch 131/200\n",
      "Train average Loss: 0.858, Train Accuracy: 0.69\n",
      "Val average Loss: 0.858, Val Accuracy: 0.69\n",
      "Epoch 132/200\n",
      "Train average Loss: 0.844, Train Accuracy: 0.71\n",
      "Val average Loss: 0.857, Val Accuracy: 0.69\n",
      "Epoch 133/200\n",
      "Train average Loss: 0.869, Train Accuracy: 0.68\n",
      "Val average Loss: 0.858, Val Accuracy: 0.69\n",
      "Epoch 134/200\n",
      "Train average Loss: 0.859, Train Accuracy: 0.69\n",
      "Val average Loss: 0.858, Val Accuracy: 0.69\n",
      "Epoch 135/200\n",
      "Train average Loss: 0.842, Train Accuracy: 0.71\n",
      "Val average Loss: 0.858, Val Accuracy: 0.69\n",
      "Epoch 136/200\n",
      "Train average Loss: 0.856, Train Accuracy: 0.70\n",
      "Val average Loss: 0.858, Val Accuracy: 0.69\n",
      "Epoch 137/200\n",
      "Train average Loss: 0.848, Train Accuracy: 0.70\n",
      "Val average Loss: 0.857, Val Accuracy: 0.69\n",
      "Epoch 138/200\n",
      "Train average Loss: 0.849, Train Accuracy: 0.70\n",
      "Val average Loss: 0.857, Val Accuracy: 0.69\n",
      "Epoch 139/200\n",
      "Train average Loss: 0.850, Train Accuracy: 0.70\n",
      "Val average Loss: 0.859, Val Accuracy: 0.69\n",
      "Epoch 140/200\n",
      "Train average Loss: 0.845, Train Accuracy: 0.71\n",
      "Val average Loss: 0.863, Val Accuracy: 0.69\n",
      "Epoch 141/200\n",
      "Train average Loss: 0.865, Train Accuracy: 0.69\n",
      "Val average Loss: 0.858, Val Accuracy: 0.69\n",
      "Epoch 142/200\n",
      "Train average Loss: 0.870, Train Accuracy: 0.68\n",
      "Val average Loss: 0.857, Val Accuracy: 0.69\n",
      "Epoch 143/200\n",
      "Train average Loss: 0.863, Train Accuracy: 0.69\n",
      "Val average Loss: 0.868, Val Accuracy: 0.68\n",
      "Epoch 144/200\n",
      "Train average Loss: 0.870, Train Accuracy: 0.67\n",
      "Val average Loss: 0.864, Val Accuracy: 0.69\n",
      "Epoch 145/200\n",
      "Train average Loss: 0.870, Train Accuracy: 0.68\n",
      "Val average Loss: 0.938, Val Accuracy: 0.61\n",
      "Epoch 146/200\n",
      "Train average Loss: 0.941, Train Accuracy: 0.60\n",
      "Val average Loss: 0.937, Val Accuracy: 0.61\n",
      "Epoch 147/200\n",
      "Train average Loss: 0.863, Train Accuracy: 0.69\n",
      "Val average Loss: 0.867, Val Accuracy: 0.68\n",
      "Epoch 148/200\n",
      "Train average Loss: 0.906, Train Accuracy: 0.65\n",
      "Val average Loss: 0.882, Val Accuracy: 0.67\n",
      "Epoch 149/200\n",
      "Train average Loss: 0.905, Train Accuracy: 0.65\n",
      "Val average Loss: 0.879, Val Accuracy: 0.67\n",
      "Epoch 150/200\n",
      "Train average Loss: 0.879, Train Accuracy: 0.67\n",
      "Val average Loss: 0.865, Val Accuracy: 0.69\n",
      "Epoch 151/200\n",
      "Train average Loss: 0.849, Train Accuracy: 0.70\n",
      "Val average Loss: 0.863, Val Accuracy: 0.69\n",
      "Epoch 152/200\n",
      "Train average Loss: 0.888, Train Accuracy: 0.66\n",
      "Val average Loss: 0.858, Val Accuracy: 0.69\n",
      "Epoch 153/200\n",
      "Train average Loss: 0.850, Train Accuracy: 0.70\n",
      "Val average Loss: 0.858, Val Accuracy: 0.69\n",
      "Epoch 154/200\n",
      "Train average Loss: 0.852, Train Accuracy: 0.70\n",
      "Val average Loss: 0.860, Val Accuracy: 0.69\n",
      "Epoch 155/200\n",
      "Train average Loss: 0.863, Train Accuracy: 0.69\n",
      "Val average Loss: 0.866, Val Accuracy: 0.68\n",
      "Epoch 156/200\n",
      "Train average Loss: 0.876, Train Accuracy: 0.68\n",
      "Val average Loss: 0.864, Val Accuracy: 0.69\n",
      "Epoch 157/200\n",
      "Train average Loss: 0.851, Train Accuracy: 0.70\n",
      "Val average Loss: 0.859, Val Accuracy: 0.69\n",
      "Epoch 158/200\n",
      "Train average Loss: 0.849, Train Accuracy: 0.70\n",
      "Val average Loss: 0.858, Val Accuracy: 0.69\n",
      "Epoch 159/200\n",
      "Train average Loss: 0.866, Train Accuracy: 0.68\n",
      "Val average Loss: 0.857, Val Accuracy: 0.69\n",
      "Epoch 160/200\n",
      "Train average Loss: 0.855, Train Accuracy: 0.70\n",
      "Val average Loss: 0.857, Val Accuracy: 0.69\n",
      "Epoch 161/200\n",
      "Train average Loss: 0.859, Train Accuracy: 0.69\n",
      "Val average Loss: 0.857, Val Accuracy: 0.69\n",
      "Epoch 162/200\n",
      "Train average Loss: 0.868, Train Accuracy: 0.68\n",
      "Val average Loss: 0.857, Val Accuracy: 0.69\n",
      "Epoch 163/200\n",
      "Train average Loss: 0.861, Train Accuracy: 0.69\n",
      "Val average Loss: 0.857, Val Accuracy: 0.69\n",
      "Epoch 164/200\n",
      "Train average Loss: 0.850, Train Accuracy: 0.70\n",
      "Val average Loss: 0.856, Val Accuracy: 0.70\n",
      "Epoch 165/200\n",
      "Train average Loss: 0.845, Train Accuracy: 0.71\n",
      "Val average Loss: 0.858, Val Accuracy: 0.69\n",
      "Epoch 166/200\n",
      "Train average Loss: 0.843, Train Accuracy: 0.71\n",
      "Val average Loss: 0.857, Val Accuracy: 0.69\n",
      "Epoch 167/200\n",
      "Train average Loss: 0.845, Train Accuracy: 0.71\n",
      "Val average Loss: 0.857, Val Accuracy: 0.69\n",
      "Epoch 168/200\n",
      "Train average Loss: 0.860, Train Accuracy: 0.69\n",
      "Val average Loss: 0.857, Val Accuracy: 0.69\n",
      "Epoch 169/200\n",
      "Train average Loss: 0.878, Train Accuracy: 0.67\n",
      "Val average Loss: 0.861, Val Accuracy: 0.69\n",
      "Epoch 170/200\n",
      "Train average Loss: 0.872, Train Accuracy: 0.68\n",
      "Val average Loss: 0.863, Val Accuracy: 0.69\n",
      "Epoch 171/200\n",
      "Train average Loss: 0.887, Train Accuracy: 0.66\n",
      "Val average Loss: 0.859, Val Accuracy: 0.69\n",
      "Epoch 172/200\n",
      "Train average Loss: 0.827, Train Accuracy: 0.72\n",
      "Val average Loss: 0.858, Val Accuracy: 0.69\n",
      "Epoch 173/200\n",
      "Train average Loss: 0.848, Train Accuracy: 0.70\n",
      "Val average Loss: 0.857, Val Accuracy: 0.69\n",
      "Epoch 174/200\n",
      "Train average Loss: 0.858, Train Accuracy: 0.69\n",
      "Val average Loss: 0.857, Val Accuracy: 0.69\n",
      "Epoch 175/200\n",
      "Train average Loss: 0.873, Train Accuracy: 0.68\n",
      "Val average Loss: 0.858, Val Accuracy: 0.69\n",
      "Epoch 176/200\n",
      "Train average Loss: 0.853, Train Accuracy: 0.70\n",
      "Val average Loss: 0.857, Val Accuracy: 0.69\n",
      "Epoch 177/200\n",
      "Train average Loss: 0.860, Train Accuracy: 0.69\n",
      "Val average Loss: 0.857, Val Accuracy: 0.69\n",
      "Epoch 178/200\n",
      "Train average Loss: 0.866, Train Accuracy: 0.69\n",
      "Val average Loss: 0.857, Val Accuracy: 0.69\n",
      "Epoch 179/200\n",
      "Train average Loss: 0.859, Train Accuracy: 0.69\n",
      "Val average Loss: 0.858, Val Accuracy: 0.69\n",
      "Epoch 180/200\n",
      "Train average Loss: 0.862, Train Accuracy: 0.69\n",
      "Val average Loss: 0.857, Val Accuracy: 0.69\n",
      "Epoch 181/200\n",
      "Train average Loss: 0.846, Train Accuracy: 0.71\n",
      "Val average Loss: 0.857, Val Accuracy: 0.69\n",
      "Epoch 182/200\n",
      "Train average Loss: 0.855, Train Accuracy: 0.70\n",
      "Val average Loss: 0.857, Val Accuracy: 0.69\n",
      "Epoch 183/200\n",
      "Train average Loss: 0.847, Train Accuracy: 0.70\n",
      "Val average Loss: 0.857, Val Accuracy: 0.69\n",
      "Epoch 184/200\n",
      "Train average Loss: 0.850, Train Accuracy: 0.70\n",
      "Val average Loss: 0.857, Val Accuracy: 0.69\n",
      "Epoch 185/200\n",
      "Train average Loss: 0.847, Train Accuracy: 0.70\n",
      "Val average Loss: 0.857, Val Accuracy: 0.69\n",
      "Epoch 186/200\n",
      "Train average Loss: 0.862, Train Accuracy: 0.69\n",
      "Val average Loss: 0.857, Val Accuracy: 0.69\n",
      "Epoch 187/200\n",
      "Train average Loss: 0.849, Train Accuracy: 0.70\n",
      "Val average Loss: 0.858, Val Accuracy: 0.69\n",
      "Epoch 188/200\n",
      "Train average Loss: 0.862, Train Accuracy: 0.69\n",
      "Val average Loss: 0.858, Val Accuracy: 0.69\n",
      "Epoch 189/200\n",
      "Train average Loss: 0.860, Train Accuracy: 0.69\n",
      "Val average Loss: 0.857, Val Accuracy: 0.69\n",
      "Epoch 190/200\n",
      "Train average Loss: 0.868, Train Accuracy: 0.68\n",
      "Val average Loss: 0.857, Val Accuracy: 0.69\n",
      "Epoch 191/200\n",
      "Train average Loss: 0.841, Train Accuracy: 0.71\n",
      "Val average Loss: 0.856, Val Accuracy: 0.70\n",
      "Epoch 192/200\n",
      "Train average Loss: 0.856, Train Accuracy: 0.70\n",
      "Val average Loss: 0.857, Val Accuracy: 0.69\n",
      "Epoch 193/200\n",
      "Train average Loss: 0.855, Train Accuracy: 0.70\n",
      "Val average Loss: 0.857, Val Accuracy: 0.69\n",
      "Epoch 194/200\n",
      "Train average Loss: 0.837, Train Accuracy: 0.71\n",
      "Val average Loss: 0.857, Val Accuracy: 0.69\n",
      "Epoch 195/200\n",
      "Train average Loss: 0.847, Train Accuracy: 0.70\n",
      "Val average Loss: 0.857, Val Accuracy: 0.69\n",
      "Epoch 196/200\n",
      "Train average Loss: 0.841, Train Accuracy: 0.71\n",
      "Val average Loss: 0.857, Val Accuracy: 0.69\n",
      "Epoch 197/200\n",
      "Train average Loss: 0.850, Train Accuracy: 0.70\n",
      "Val average Loss: 0.857, Val Accuracy: 0.69\n",
      "Epoch 198/200\n",
      "Train average Loss: 0.876, Train Accuracy: 0.67\n",
      "Val average Loss: 0.857, Val Accuracy: 0.69\n",
      "Epoch 199/200\n",
      "Train average Loss: 0.854, Train Accuracy: 0.70\n",
      "Val average Loss: 0.857, Val Accuracy: 0.69\n",
      "Epoch 200/200\n",
      "Train average Loss: 0.839, Train Accuracy: 0.71\n",
      "Val average Loss: 0.857, Val Accuracy: 0.69\n"
     ]
    }
   ],
   "source": [
    "# YOUR CODE \n",
    "mean_train = np.mean(x_train, axis=0)\n",
    "std_train = np.std(x_train, axis=0)\n",
    "\n",
    "x_train_norm = (x_train - mean_train) / std_train\n",
    "x_val_norm = (x_val - mean_train) / std_train\n",
    "x_test_norm = (x_test - mean_train) / std_train\n",
    "\n",
    "dataset_train_norm = PokemonDataset(x_train_norm, y_train)\n",
    "dataset_val_norm= PokemonDataset(x_val_norm, y_val)\n",
    "dataset_test_norm = PokemonDataset(x_test_norm, y_test)\n",
    "\n",
    "loader_train_large = DataLoader(dataset_train_norm, batch_size=512, shuffle=True)\n",
    "loader_val_large = DataLoader(dataset_val_norm , batch_size=512, shuffle=False)\n",
    "loader_test_large = DataLoader(dataset_test_norm, batch_size=512, shuffle=False)\n",
    "\n",
    "\n",
    "class LargeModel(nn.Module):\n",
    "    def __init__(self):\n",
    "        super(LargeModel, self).__init__()\n",
    "        self.fc1 = nn.Linear(2, 256)\n",
    "        self.fc2 = nn.Linear(256,256)\n",
    "        self.fc3 = nn.Linear(256,256)\n",
    "        self.fc4 = nn.Linear(256,256)\n",
    "        self.fc5 = nn.Linear(256, 3)\n",
    "\n",
    "    def forward(self, x):\n",
    "        x = F.relu(self.fc1(x))  \n",
    "        x = F.relu(self.fc2(x)) \n",
    "        x = F.relu(self.fc3(x))\n",
    "        x = F.relu(self.fc4(x))\n",
    "        x = F.softmax(self.fc5(x),dim=1)\n",
    "        return x\n",
    "\n",
    "large_model = LargeModel()\n",
    "\n",
    "train_model(\n",
    "    model=large_model,\n",
    "    optimizer=optim.Adam(large_model.parameters(), lr=0.003),\n",
    "    loss_fn=nn.CrossEntropyLoss(),\n",
    "    num_epochs=200,\n",
    "    train_dataloader=loader_train_large,\n",
    "    val_dataloader=loader_val_large,\n",
    "    device=\"cpu\"\n",
    ")"
   ]
  },
  {
   "cell_type": "code",
   "execution_count": 49,
   "metadata": {
    "deletable": false,
    "editable": false,
    "nbgrader": {
     "cell_type": "code",
     "checksum": "380a2b65c2bb0730aa6cb147e7c4e74f",
     "grade": true,
     "grade_id": "cell-098f92715968886f",
     "locked": true,
     "points": 1,
     "schema_version": 3,
     "solution": false,
     "task": false
    }
   },
   "outputs": [],
   "source": [
    "assert isinstance(large_model, nn.Module), \"large_model should be a torch.nn.Module\"\n",
    "test_model_output_shape(large_model)"
   ]
  },
  {
   "cell_type": "markdown",
   "metadata": {
    "deletable": false,
    "editable": false,
    "nbgrader": {
     "cell_type": "markdown",
     "checksum": "f52e36900e80e083dbc6ba73f0d000d5",
     "grade": false,
     "grade_id": "cell-ea77af681fd56aaf",
     "locked": true,
     "schema_version": 3,
     "solution": false,
     "task": false
    }
   },
   "source": [
    "Again, draw the decision regions of the network. What do you expect to see now? How will the regions differ from the previous ones?"
   ]
  },
  {
   "cell_type": "code",
   "execution_count": 50,
   "metadata": {
    "deletable": false,
    "nbgrader": {
     "cell_type": "code",
     "checksum": "88522dc56161b5b0ec1e47709327f81e",
     "grade": false,
     "grade_id": "cell-2386af80723e8770",
     "locked": false,
     "schema_version": 3,
     "solution": true,
     "task": false
    }
   },
   "outputs": [
    {
     "data": {
      "image/png": "[encoded data removed]",
      "text/plain": [
       "<Figure size 640x480 with 1 Axes>"
      ]
     },
     "metadata": {},
     "output_type": "display_data"
    }
   ],
   "source": [
    "# YOUR CODE HERE\n",
    "plot_decision_region(large_model,x_train_norm, y_train, x_val_norm, y_val)"
   ]
  },
  {
   "cell_type": "markdown",
   "metadata": {
    "deletable": false,
    "editable": false,
    "nbgrader": {
     "cell_type": "markdown",
     "checksum": "9ef3d89592ae3e4b31d52cf243fb0d22",
     "grade": false,
     "grade_id": "cell-7ad8cc34d293f12f",
     "locked": true,
     "schema_version": 3,
     "solution": false,
     "task": false
    }
   },
   "source": [
    "How do the decision regions differ between the tiny, large and the network you trained? Can you explain why this happens? Relate your answer to the concepts you learned in the first lectures."
   ]
  },
  {
   "cell_type": "markdown",
   "metadata": {
    "deletable": false,
    "nbgrader": {
     "cell_type": "markdown",
     "checksum": "e61e4bd20e11dece795ed80558fa0c6f",
     "grade": true,
     "grade_id": "cell-b2b3d4743f149248",
     "locked": false,
     "points": 0,
     "schema_version": 3,
     "solution": true,
     "task": false
    }
   },
   "source": [
    "**Your answer:** Now the decisions regions are more fitted to the pokemones classes than in the tiny_model. This is expected since we now have a much higher accuracy of the large_model. What I learned from lecture 4 was that a larger network usally improves accuracy. I have also normalized all the data. "
   ]
  },
  {
   "cell_type": "markdown",
   "metadata": {
    "deletable": false,
    "editable": false,
    "nbgrader": {
     "cell_type": "markdown",
     "checksum": "08f25d921ab7040f778a202f5a69b1a7",
     "grade": false,
     "grade_id": "cell-effc356fff18a4b5",
     "locked": true,
     "schema_version": 3,
     "solution": false
    }
   },
   "source": [
    "## 5. Evaluation"
   ]
  },
  {
   "cell_type": "markdown",
   "metadata": {
    "deletable": false,
    "editable": false,
    "nbgrader": {
     "cell_type": "markdown",
     "checksum": "1b8c71783af4d4c94ae59eb356856591",
     "grade": false,
     "grade_id": "cell-b2bbee2adf94b7d3",
     "locked": true,
     "schema_version": 3,
     "solution": false
    }
   },
   "source": [
    "Back to your original model. Once you achieved at least 60% accuracy in the validation set with your main model, we are done with its training. Now we'll evaluate the performance of your classifier on the test set."
   ]
  },
  {
   "cell_type": "markdown",
   "metadata": {
    "deletable": false,
    "editable": false,
    "nbgrader": {
     "cell_type": "markdown",
     "checksum": "79420c8cb4af750ed05be42a2c4d528b",
     "grade": false,
     "grade_id": "cell-3f4ab762e2890554",
     "locked": true,
     "schema_version": 3,
     "solution": false
    }
   },
   "source": [
    "Compute the accuracy on the test set."
   ]
  },
  {
   "cell_type": "code",
   "execution_count": 51,
   "metadata": {
    "deletable": false,
    "nbgrader": {
     "cell_type": "code",
     "checksum": "a28be10f6e90e487934989e8ef58b193",
     "grade": false,
     "grade_id": "cell-64d1008aafb3e518",
     "locked": false,
     "schema_version": 3,
     "solution": true,
     "task": false
    }
   },
   "outputs": [
    {
     "name": "stdout",
     "output_type": "stream",
     "text": [
      "Test accuracy for main model: 0.686.\n",
      "Test accuracy large model: 0.736.\n"
     ]
    }
   ],
   "source": [
    "main_model_test_accuracy = 0\n",
    "# YOUR CODE HERE\n",
    "def test_model(\n",
    "    model: nn.Module,\n",
    "    loss_fn: Union[Callable, nn.Module],\n",
    "    test_dataloader: torch.utils.data.DataLoader,\n",
    "    device: Union[str, torch.device],\n",
    ") -> [float, float]:\n",
    "    \n",
    "    model.to(device)\n",
    "    model.eval()\n",
    "    test_losses = []\n",
    "    n_correct_test = 0\n",
    "    with torch.no_grad():\n",
    "        for b_x,b_y in test_dataloader:\n",
    "            b_x,b_y = b_x.to(device), b_y.to(device)\n",
    "            \n",
    "            pred = model(b_x)\n",
    "            loss = loss_fn(pred,b_y)\n",
    "            test_losses.append(loss.item())\n",
    "\n",
    "            n_correct_test += (pred.argmax(dim=1) == b_y).sum().item()\n",
    "            \n",
    "        test_accuracy = n_correct_test / len(test_dataloader.dataset)\n",
    "        test_avg_loss = sum(test_losses) / len(test_losses)\n",
    "\n",
    "    return [test_avg_loss,test_accuracy]\n",
    "\n",
    "\n",
    "test_avg_loss,test_accuracy = test_model(\n",
    "    model=model,\n",
    "    loss_fn=nn.CrossEntropyLoss(),\n",
    "    test_dataloader=loader_test,\n",
    "    device=\"cpu\"\n",
    ")\n",
    "\n",
    "main_model_test_accuracy = test_accuracy\n",
    "print(f\"Test accuracy for main model: {main_model_test_accuracy:.3f}.\")\n",
    "\n",
    "_,test_accuracy_large = test_model(\n",
    "    model=large_model,\n",
    "    loss_fn=nn.CrossEntropyLoss(),\n",
    "    test_dataloader=loader_test_large,\n",
    "    device=\"cpu\"\n",
    ")\n",
    "print(f\"Test accuracy large model: {test_accuracy_large:.3f}.\")"
   ]
  },
  {
   "cell_type": "code",
   "execution_count": 38,
   "metadata": {
    "deletable": false,
    "editable": false,
    "nbgrader": {
     "cell_type": "code",
     "checksum": "3523a57a836d53349b06e311c4085fd5",
     "grade": true,
     "grade_id": "cell-8290e0d3e722c85f",
     "locked": true,
     "points": 1,
     "schema_version": 3,
     "solution": false,
     "task": false
    }
   },
   "outputs": [],
   "source": [
    "assert main_model_test_accuracy > 0.6"
   ]
  },
  {
   "cell_type": "markdown",
   "metadata": {
    "deletable": false,
    "editable": false,
    "nbgrader": {
     "cell_type": "markdown",
     "checksum": "4437b0233832d6897896b322856771a3",
     "grade": false,
     "grade_id": "cell-75bfc44531d04fb0",
     "locked": true,
     "schema_version": 3,
     "solution": false,
     "task": false
    }
   },
   "source": [
    "Most likely, you'll get a different (slightly worse) accuracy than the one you got on the validation set. Why is this? Also, why do we need both a test and validation set?"
   ]
  },
  {
   "cell_type": "markdown",
   "metadata": {
    "deletable": false,
    "nbgrader": {
     "cell_type": "markdown",
     "checksum": "c0737ad696946a7d4383701faa264867",
     "grade": true,
     "grade_id": "cell-249cc96508c4de0b",
     "locked": false,
     "points": 0,
     "schema_version": 3,
     "solution": true,
     "task": false
    }
   },
   "source": [
    "**Your answer:** On this run I acutally got a hight accuracy on the test set than on the validation set but that was usally not the case on my other runs. I have noticed that the accuracy differs a bit between runs. In the case when the validation set got higher accuracy then the test set it tells me that we have somewhat of overfitting on the validation set. I think this is logical since we use the validation set as a proxy to tune the model and test different neural network structures so that the model does not overfit on the training data but when doing this the model can possibly get somewhat overfitted on the validation data I assume.\n",
    "\n",
    "Validation Set: Used for testing different models during training. The model \"sees\" this data during training and may adapt to it I think.\n",
    "\n",
    "Test Set: Used only once for the final test of the model on unseen data. This tests the model's true performance.\n",
    "\n",
    "In conclusion we need both validation and test set in order to tune the model and to test it."
   ]
  },
  {
   "cell_type": "markdown",
   "metadata": {
    "deletable": false,
    "editable": false,
    "nbgrader": {
     "cell_type": "markdown",
     "checksum": "c68e1c93373146e59048b2f847e15e6f",
     "grade": false,
     "grade_id": "cell-8232dd159f8d4887",
     "locked": true,
     "schema_version": 3,
     "solution": false
    }
   },
   "source": [
    "Next, compute the confusion matrix of your predictions on the test set and save it as `conf_mat`."
   ]
  },
  {
   "cell_type": "code",
   "execution_count": 39,
   "metadata": {
    "deletable": false,
    "nbgrader": {
     "cell_type": "code",
     "checksum": "97c533c440746fc0b1f79274a2ceee25",
     "grade": false,
     "grade_id": "cell-9475a5163acc3249",
     "locked": false,
     "schema_version": 3,
     "solution": true,
     "task": false
    }
   },
   "outputs": [
    {
     "name": "stdout",
     "output_type": "stream",
     "text": [
      "[[ 81  25  40]\n",
      " [  9  97  39]\n",
      " [ 18   0 108]]\n"
     ]
    }
   ],
   "source": [
    "# YOUR CODE HERE\n",
    "from sklearn.metrics import confusion_matrix\n",
    "model.eval()\n",
    "all_preds = []\n",
    "all_labels = []\n",
    "with torch.no_grad():\n",
    "    for batch_data, batch_labels in loader_test:\n",
    "        batch_data, batch_labels = batch_data.to(\"cpu\"), batch_labels.to(\"cpu\")\n",
    "        preds = model(batch_data).argmax(dim=1)\n",
    "        # Extend adds all elements of an numpy array to the list as individual items\n",
    "        all_preds.extend(preds.numpy())\n",
    "        all_labels.extend(batch_labels.numpy())\n",
    "\n",
    "conf_mat = confusion_matrix(all_labels, all_preds)\n",
    "\n",
    "print(conf_mat)"
   ]
  },
  {
   "cell_type": "code",
   "execution_count": 40,
   "metadata": {
    "deletable": false,
    "editable": false,
    "nbgrader": {
     "cell_type": "code",
     "checksum": "5546a1442dec7b94a0696ee69a270bc6",
     "grade": true,
     "grade_id": "cell-d016323f6263c643",
     "locked": true,
     "points": 1,
     "schema_version": 3,
     "solution": false,
     "task": false
    }
   },
   "outputs": [],
   "source": [
    "assert isinstance(conf_mat, np.ndarray) or isinstance(\n",
    "    conf_mat, torch.Tensor\n",
    "), \"conf_mat should be a numpy array or torch.Tensor\"\n",
    "assert conf_mat.shape == (3, 3), \"conf_mat should have shape (3, 3), i.e. 3 classes\"\n",
    "assert np.sum(conf_mat) == len(\n",
    "    dataset_test\n",
    "), \"conf_mat should sum up to the number of test samples\""
   ]
  },
  {
   "cell_type": "markdown",
   "metadata": {
    "deletable": false,
    "editable": false,
    "nbgrader": {
     "cell_type": "markdown",
     "checksum": "742f3a87c97efede0dc19953c1db108b",
     "grade": false,
     "grade_id": "cell-a5e9c635fcf0e14d",
     "locked": true,
     "schema_version": 3,
     "solution": false
    }
   },
   "source": [
    "What can you conclude from the computed accuracy and confusion matrix?"
   ]
  },
  {
   "cell_type": "markdown",
   "metadata": {
    "deletable": false,
    "nbgrader": {
     "cell_type": "markdown",
     "checksum": "59b0c3fb373653839818423f7129f074",
     "grade": true,
     "grade_id": "cell-b93435335accba07",
     "locked": false,
     "points": 0,
     "schema_version": 3,
     "solution": true
    }
   },
   "source": [
    "**Your answer:** \n",
    "By looking at the confusion matrix, 100% accuracy would mean that we only have diagonal with non-zero values and the rest is zero.\n",
    "In our case the model accuracy is not 100% but rather 69% so it is expected to accuratly predict the corrected pokemon 69% of the time.\n",
    "By looking at the confusion matrix we can see that that is the case, the model does not always predict correctly.\n",
    "\n",
    "Lets calculate the accuracy from the confusion matrix:\n",
    "accuracy = (81+97+108)/(81+9+18+25+97+0+40+39+108) = 0.686\n",
    "\n",
    "Which is close to 69%, so from the confusion matrix we can calulate the model accuracy."
   ]
  },
  {
   "cell_type": "markdown",
   "metadata": {
    "deletable": false,
    "editable": false,
    "nbgrader": {
     "cell_type": "markdown",
     "checksum": "99a1266a62880be4cf1f724ed704ddb2",
     "grade": false,
     "grade_id": "cell-b731aebed710ae07",
     "locked": true,
     "schema_version": 3,
     "solution": false
    }
   },
   "source": [
    "## 6. Exploration"
   ]
  },
  {
   "cell_type": "markdown",
   "metadata": {
    "deletable": false,
    "editable": false,
    "nbgrader": {
     "cell_type": "markdown",
     "checksum": "ca3f2bc4e6ee91e121425e12e58b589d",
     "grade": false,
     "grade_id": "cell-79904bd828487a07",
     "locked": true,
     "schema_version": 3,
     "solution": false
    }
   },
   "source": [
    "You have now trained and evaluated a neural network for this particular classification task. Can you provide a brief explanation as to how you could use it to decide where to travel, if you're interested in capturing the aforementioned Pokemons?"
   ]
  },
  {
   "cell_type": "markdown",
   "metadata": {
    "deletable": false,
    "nbgrader": {
     "cell_type": "markdown",
     "checksum": "a8aeac76ab83248b3e84126f1200e50f",
     "grade": true,
     "grade_id": "cell-79ac9ff2b09a41b5",
     "locked": false,
     "points": 0,
     "schema_version": 3,
     "solution": true
    }
   },
   "source": [
    "**Your answer:** For finding Tauros I would look at around latitude 40 and longitude -75, this looks like nort america. For finding Seels I would look at latitude 50 and longitude 10, this loosk like europe. Digletts appear a little all over the world so it is likely that I will find Digletts as I search for the other pokemons."
   ]
  },
  {
   "cell_type": "markdown",
   "metadata": {
    "deletable": false,
    "editable": false,
    "nbgrader": {
     "cell_type": "markdown",
     "checksum": "90283187bfd4f2f6aaf11df18a8e88ba",
     "grade": false,
     "grade_id": "cell-8041a4537430ba53",
     "locked": true,
     "schema_version": 3,
     "solution": false
    }
   },
   "source": [
    "Is (are) there any other feature(s) from the original dataset (e.g. hour of the day, pressure, wind speed, population density, etc.) which you think would be valuable to add as an input feature to your classifier to improve its performance? "
   ]
  },
  {
   "cell_type": "markdown",
   "metadata": {
    "deletable": false,
    "nbgrader": {
     "cell_type": "markdown",
     "checksum": "92bfb21c07460ec7bf06f56c3acee803",
     "grade": true,
     "grade_id": "cell-c2def6009a95f2a6",
     "locked": false,
     "points": 0,
     "schema_version": 3,
     "solution": true
    }
   },
   "source": [
    "**Your answer:** I think hour of day can be valuable knowledge in my quest to find these different pokemons."
   ]
  },
  {
   "cell_type": "markdown",
   "metadata": {
    "deletable": false,
    "editable": false,
    "nbgrader": {
     "cell_type": "markdown",
     "checksum": "4e0eb26832febb3a136740004988db6b",
     "grade": false,
     "grade_id": "cell-e9f21e8b0fe33751",
     "locked": true,
     "schema_version": 3,
     "solution": false
    }
   },
   "source": [
    "To investigate your hypothesis, plot a histogram of the selected feature(s) for each one of the pokemons we're interested in. For example, if you think pressure and population density are valuable for prediction, plot 6 histograms. 3 of them will be the pressure histograms for each class ('Diglett', 'Seel' and 'Tauros'), and the other 3 will be the population density for each class."
   ]
  },
  {
   "cell_type": "code",
   "execution_count": 41,
   "metadata": {
    "deletable": false,
    "nbgrader": {
     "cell_type": "code",
     "checksum": "6701fb6bd1284791b9c065777eaaebae",
     "grade": true,
     "grade_id": "cell-b18deaa33c46ec92",
     "locked": false,
     "points": 0,
     "schema_version": 3,
     "solution": true
    }
   },
   "outputs": [
    {
     "name": "stderr",
     "output_type": "stream",
     "text": [
      "C:\\Users\\willi\\AppData\\Local\\Temp\\ipykernel_6728\\2174692419.py:13: SettingWithCopyWarning: \n",
      "A value is trying to be set on a copy of a slice from a DataFrame.\n",
      "Try using .loc[row_indexer,col_indexer] = value instead\n",
      "\n",
      "See the caveats in the documentation: https://pandas.pydata.org/pandas-docs/stable/user_guide/indexing.html#returning-a-view-versus-a-copy\n",
      "  filtered_bar_df[\"name\"] = filtered_bar_df[\"class\"].apply(lambda x: name_dict[x])\n"
     ]
    },
    {
     "data": {
      "image/png": "[encoded data removed]",
      "text/plain": [
       "<Figure size 1200x1800 with 3 Axes>"
      ]
     },
     "metadata": {},
     "output_type": "display_data"
    }
   ],
   "source": [
    "# YOUR CODE HERE\n",
    "\n",
    "colors_map = {\n",
    "    'Diglett': 'brown',\n",
    "    'Seel' : 'blue',\n",
    "    'Tauros' : 'orange'    \n",
    "}\n",
    "name_dict = {128: 'Tauros', 50: 'Diglett', 86: 'Seel'}\n",
    "cols = ['appearedTimeOfDay', 'class']\n",
    "bar_df = df_original[cols]\n",
    "classes = [128, 50, 86]\n",
    "filtered_bar_df = bar_df[bar_df['class'].isin(classes)]\n",
    "filtered_bar_df[\"name\"] = filtered_bar_df[\"class\"].apply(lambda x: name_dict[x])\n",
    "\n",
    "fig, axes = plt.subplots(3, 1, figsize=(12, 18))\n",
    "for i, (class_id, name) in enumerate(name_dict.items()):\n",
    "    pokemon_df = filtered_bar_df[filtered_bar_df['name'] == name]\n",
    "    appearance_counts = pokemon_df.groupby('appearedTimeOfDay').size()\n",
    "    appearance_counts.plot(kind='bar', ax=axes[i], color=colors_map[name])\n",
    "    axes[i].set_title(f'Number of {name} Appearances by Time of Day')\n",
    "    axes[i].set_ylabel('Count of Appearances')\n",
    "    axes[i].set_xlabel('Time of Day')\n",
    "    \n",
    "plt.tight_layout()\n",
    "plt.show()\n",
    "\n",
    "\n"
   ]
  },
  {
   "cell_type": "markdown",
   "metadata": {
    "deletable": false,
    "editable": false,
    "nbgrader": {
     "cell_type": "markdown",
     "checksum": "6845805e5d221d5a320d0630b3fa0257",
     "grade": false,
     "grade_id": "cell-f51c8bdfaf2e03f4",
     "locked": true,
     "schema_version": 3,
     "solution": false
    }
   },
   "source": [
    "What does/do this/these histogram(s) show you? Could it be beneficial to add this/these new feature(s) as input? Explain why/why not."
   ]
  },
  {
   "cell_type": "markdown",
   "metadata": {
    "deletable": false,
    "nbgrader": {
     "cell_type": "markdown",
     "checksum": "c4810811a9300a653185a38c62a0f73c",
     "grade": true,
     "grade_id": "cell-f9522e4fa9c010be",
     "locked": false,
     "points": 0,
     "schema_version": 3,
     "solution": true
    }
   },
   "source": [
    "**Your answer:** This tells me that all of the pokemones are easiest to capture during night time, especially Digletts and Tauros. Seel are also easiest to capture during the night but they do appear more often during the other times of the day compared to Digletts and Tauros.\n",
    "\n",
    "I think this could be beneficial to add this as input beacuse it will most likely increase the accuracy of the model since it is clear that time of day is important in order to maximize your chances of catch these pokemons."
   ]
  },
  {
   "cell_type": "markdown",
   "metadata": {
    "deletable": false,
    "editable": false,
    "nbgrader": {
     "cell_type": "markdown",
     "checksum": "dbf51d6ca2c3eed999d1e41aa1cec7de",
     "grade": false,
     "grade_id": "cell-284bf5af1750b1b5",
     "locked": true,
     "schema_version": 3,
     "solution": false,
     "task": false
    }
   },
   "source": [
    "The purpose was this assignment was mostly to make you design a network for classification, using this Pokemon dataset as use case. However, if you want to find those three particular Pokemons, most likely using a network for classification is not the best approach. An alternative would be to perform localization by using regression instead. **Can you state some pros and cons of approach this as a regression problem instead of a classification problem?** (We do not expect very detailed answers, you will pass the assignment as long as you make a reasonable attempt at explaining the pros and cons.)"
   ]
  },
  {
   "cell_type": "markdown",
   "metadata": {
    "deletable": false,
    "nbgrader": {
     "cell_type": "markdown",
     "checksum": "dd2cd90f071d43e463aea1a3f0852c49",
     "grade": true,
     "grade_id": "cell-bd241242621ae646",
     "locked": false,
     "points": 0,
     "schema_version": 3,
     "solution": true,
     "task": false
    }
   },
   "source": [
    "**Your answer:** \n",
    "\n",
    "Pros:\n",
    "- Regression can predict the exact coordinates where the Pokemon appear, which is useful for locating specific Pokemon.\n",
    "- Not limited by a fixed number of categories like in classification.\n",
    "\n",
    "Cons:\n",
    "- Requires designing a network that predicts continuous coordinates, more complex than a classification network.\n",
    "\n",
    "- Risk of overfitting due to the large data set\n"
   ]
  },
  {
   "cell_type": "markdown",
   "metadata": {
    "deletable": false,
    "editable": false,
    "nbgrader": {
     "cell_type": "markdown",
     "checksum": "c457c6ffe7696ea8b13215805bb2fa2c",
     "grade": false,
     "grade_id": "cell-fccdd48334c7c70c",
     "locked": true,
     "schema_version": 3,
     "solution": false
    }
   },
   "source": [
    "## 7. (optional)"
   ]
  },
  {
   "cell_type": "markdown",
   "metadata": {
    "deletable": false,
    "editable": false,
    "nbgrader": {
     "cell_type": "markdown",
     "checksum": "efe34b502ca4d51a53e7b32992411f97",
     "grade": false,
     "grade_id": "cell-3e8a75d10f4fb404",
     "locked": true,
     "schema_version": 3,
     "solution": false
    }
   },
   "source": [
    "Assuming you found useful new features in the last part of this assignment, train a new classifier that uses these featues as well. Did the accuracy on the validation set improve? What's the highest accuracy you can achieve?"
   ]
  },
  {
   "cell_type": "code",
   "execution_count": 42,
   "metadata": {
    "deletable": false,
    "nbgrader": {
     "cell_type": "code",
     "checksum": "d483a1678e8725ea9ba41ce15bb78a64",
     "grade": true,
     "grade_id": "cell-c4a9ddfda9cd7a08",
     "locked": false,
     "points": 0,
     "schema_version": 3,
     "solution": true
    }
   },
   "outputs": [],
   "source": [
    "# YOUR CODE HERE"
   ]
  }
 ],
 "metadata": {
  "kernelspec": {
   "display_name": "Python 3 (ipykernel)",
   "language": "python",
   "name": "python3"
  },
  "language_info": {
   "codemirror_mode": {
    "name": "ipython",
    "version": 3
   },
   "file_extension": ".py",
   "mimetype": "text/x-python",
   "name": "python",
   "nbconvert_exporter": "python",
   "pygments_lexer": "ipython3",
   "version": "3.11.10"
  },
  "vscode": {
   "interpreter": {
    "hash": "39c912f2fd3fdf7d106cc51aff015157ada41dad8144becd8bcb717d81c78182"
   }
  }
 },
 "nbformat": 4,
 "nbformat_minor": 4
}
