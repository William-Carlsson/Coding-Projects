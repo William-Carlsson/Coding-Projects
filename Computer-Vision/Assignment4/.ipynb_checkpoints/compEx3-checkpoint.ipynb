{
 "cells": [
  {
   "cell_type": "code",
   "execution_count": 1,
   "id": "0e880e16-0f3d-4686-a65c-0574fdb013f3",
   "metadata": {},
   "outputs": [],
   "source": [
    "from scipy.io import loadmat\n",
    "import matplotlib.pyplot as plt\n",
    "import cv2\n",
    "import numpy as np\n",
    "import math\n",
    "import random\n",
    "from scipy.linalg import null_space, inv, svd, det"
   ]
  },
  {
   "cell_type": "code",
   "execution_count": 2,
   "id": "9d3599d6-82b6-43f6-8f10-57beffad4bab",
   "metadata": {},
   "outputs": [],
   "source": [
    "def ComputeReprojectionError(P_1, P_2, X_j, x_1j, x_2j):\n",
    "    \n",
    "    r_1 = np.array([\n",
    "        x_1j[0] - (P_1[0, :] @ X_j) / (P_1[2, :] @ X_j),\n",
    "        x_1j[1] - (P_1[1, :] @ X_j) / (P_1[2, :] @ X_j)\n",
    "    ])\n",
    "\n",
    "    r_2 = np.array([\n",
    "        x_2j[0] - (P_2[0, :] @ X_j) / (P_2[2, :] @ X_j),\n",
    "        x_2j[1] - (P_2[1, :] @ X_j) / (P_2[2, :] @ X_j)\n",
    "    ])\n",
    "\n",
    "    rs    = np.hstack((r_1, r_2))\n",
    "    error = np.linalg.norm(r_1)**2 + np.linalg.norm(r_2)**2\n",
    "\n",
    "    return error, rs\n",
    "\n",
    "def LinearizeReprojErr(P_1, P_2, X_j, x_1j, x_2j):\n",
    "    \n",
    "    _, rs = ComputeReprojectionError(P_1, P_2, X_j, x_1j, x_2j)\n",
    "\n",
    "    J_1 = np.zeros((2, 4))\n",
    "    J_2 = np.zeros((2, 4))\n",
    "\n",
    "    J_1[0, :] = (((P_1[0, :] @ X_j) / (P_1[2, :] @ X_j)**2) * P_1[2, :]) - ((1 / (P_1[2, :] @ X_j)) * P_1[0, :])\n",
    "    J_1[1, :] = (((P_1[1, :] @ X_j) / (P_1[2, :] @ X_j)**2) * P_1[2, :]) - ((1 / (P_1[2, :] @ X_j)) * P_1[1, :])\n",
    "\n",
    "    J_2[0, :] = (((P_2[0, :] @ X_j) / (P_2[2, :] @ X_j)**2) * P_2[2, :]) - ((1 / (P_2[2, :] @ X_j)) * P_2[0, :])\n",
    "    J_2[1, :] = (((P_2[1, :] @ X_j) / (P_2[2, :] @ X_j)**2) * P_2[2, :]) - ((1 / (P_2[2, :] @ X_j)) * P_2[1, :])\n",
    "\n",
    "    J = np.vstack((J_1, J_2))\n",
    "\n",
    "    return rs, J\n",
    "\n",
    "def ComputeUpdate(r, J, mu):\n",
    "    \n",
    "    JTJ = J.T @ J\n",
    "    JTr = J.T @ r\n",
    "    delta_X_j = -(np.linalg.inv(JTJ + mu * np.eye(JTJ.shape[0])) @ JTr)\n",
    "    \n",
    "    return delta_X_j\n",
    "\n",
    "def Refine3DPoints(P_1, P_2, X, x_1, x_2, max_iterations=50, initial_mu=0.1):\n",
    "\n",
    "    n = X.shape[0]\n",
    "    m = X.shape[1]\n",
    "    refined_X = np.zeros((n, m))\n",
    "    mu = initial_mu\n",
    "\n",
    "    for j in range(m):\n",
    "        X_j = X[:, j]\n",
    "        x_1j = x_1[:, j]\n",
    "        x_2j = x_2[:, j]\n",
    "\n",
    "        prev_error, _ = ComputeReprojectionError(P_1, P_2, X_j, x_1j, x_2j)\n",
    "\n",
    "        for i in range(max_iterations):\n",
    "            residuals, J = LinearizeReprojErr(P_1, P_2, X_j, x_1j, x_2j)\n",
    "\n",
    "            delta_X_j = ComputeUpdate(residuals, J, mu)\n",
    "\n",
    "            updated_X_j = X_j + delta_X_j\n",
    "\n",
    "            updated_error, _ = ComputeReprojectionError(P_1, P_2, updated_X_j, x_1j, x_2j)\n",
    "\n",
    "            if updated_error < prev_error:\n",
    "                X_j = updated_X_j\n",
    "                prev_error = updated_error\n",
    "                mu /= 10\n",
    "            else:\n",
    "                mu *= 10\n",
    "                \n",
    "            mu = max(min(mu, 1e10), 1e-10)\n",
    "\n",
    "        refined_X[:, j] = X_j\n",
    "\n",
    "    return refined_X\n",
    "\n",
    "\n",
    "def ComputeAllReprojectionErrors(P_1, P_2, X, x_1, x_2):\n",
    "    errors = []\n",
    "    for j in range(X.shape[1]):\n",
    "        X_j = X[:, j]\n",
    "        x_1j = x_1[:, j]\n",
    "        x_2j = x_2[:, j]\n",
    "        error, _ = ComputeReprojectionError(P_1, P_2, X_j, x_1j, x_2j)\n",
    "        errors.append(error)\n",
    "    return errors\n"
   ]
  },
  {
   "cell_type": "code",
   "execution_count": 3,
   "id": "aa635076-8f00-4c52-b4e9-549d9a50b017",
   "metadata": {},
   "outputs": [],
   "source": [
    "data = loadmat('data/compEx3data')\n",
    "P = data[\"P\"][0]\n",
    "P_1 = P[0]\n",
    "P_2 = P[1]\n",
    "\n",
    "X = data[\"X\"]\n",
    "x = data[\"x\"][0]\n",
    "x_1 = x[0]\n",
    "x_2 = x[1]"
   ]
  },
  {
   "cell_type": "code",
   "execution_count": 4,
   "id": "20a20feb-275b-43f6-8935-1e1d2191381b",
   "metadata": {},
   "outputs": [],
   "source": [
    "r_X = Refine3DPoints(P_1, P_2, X, x_1, x_2)"
   ]
  },
  {
   "cell_type": "code",
   "execution_count": 5,
   "id": "9fb886a7-86a0-40cb-85de-03bd3d902e11",
   "metadata": {},
   "outputs": [
    {
     "name": "stdout",
     "output_type": "stream",
     "text": [
      "Total reprojection error before refining the 3D points: 22354.2450\n",
      "Total reprojection error after refining the 3D points: 21566.4200\n",
      "Median reprojection error before refining the 3D points: 11.6599\n",
      "Median reprojection error after refining the 3D points: 11.1979\n"
     ]
    }
   ],
   "source": [
    "error_before_LM, _ = ComputeReprojectionError(P_1, P_2, X, x_1, x_2)\n",
    "error_after_LM, _  = ComputeReprojectionError(P_1, P_2, r_X, x_1, x_2)\n",
    "\n",
    "before = ComputeAllReprojectionErrors(P_1, P_2, X, x_1, x_2)\n",
    "after = ComputeAllReprojectionErrors(P_1, P_2, r_X, x_1, x_2)\n",
    "\n",
    "median_error_before_LM = np.median(before)\n",
    "median_error_after_LM = np.median(after)\n",
    "\n",
    "print(f\"Total reprojection error before refining the 3D points: {error_before_LM:.4f}\")\n",
    "print(f\"Total reprojection error after refining the 3D points: {error_after_LM:.4f}\")\n",
    "print(f\"Median reprojection error before refining the 3D points: {median_error_before_LM:.4f}\")\n",
    "print(f\"Median reprojection error after refining the 3D points: {median_error_after_LM:.4f}\")"
   ]
  },
  {
   "cell_type": "code",
   "execution_count": 6,
   "id": "5bac4515-883a-45dd-a23f-0d3b69b52e29",
   "metadata": {},
   "outputs": [],
   "source": [
    "%matplotlib qt\n",
    "fig = plt.figure()\n",
    "ax = fig.add_subplot(111, projection='3d')\n",
    "ax.scatter(X[0, :], X[1, :], X[2, :], s=0.5, c=\"b\", label=\"Original Points\", edgecolors=\"b\", facecolors=\"b\")\n",
    "ax.scatter(r_X[0, :], r_X[1, :], r_X[2, :], s=10, edgecolors=\"r\", facecolors=\"none\", label=\"Refined Points\", linewidth=0.8)\n",
    "ax.set_title(\"3D Points Before and After Refinement\")\n",
    "ax.set_xlabel(\"X\")\n",
    "ax.set_ylabel(\"Y\")\n",
    "ax.set_zlabel(\"Z\")\n",
    "ax.legend()\n",
    "plt.show()"
   ]
  },
  {
   "cell_type": "code",
   "execution_count": null,
   "id": "5f71fbce-2a21-4fcb-bdf7-155679ea7dd2",
   "metadata": {},
   "outputs": [],
   "source": []
  }
 ],
 "metadata": {
  "kernelspec": {
   "display_name": "Python 3 (ipykernel)",
   "language": "python",
   "name": "python3"
  },
  "language_info": {
   "codemirror_mode": {
    "name": "ipython",
    "version": 3
   },
   "file_extension": ".py",
   "mimetype": "text/x-python",
   "name": "python",
   "nbconvert_exporter": "python",
   "pygments_lexer": "ipython3",
   "version": "3.11.10"
  }
 },
 "nbformat": 4,
 "nbformat_minor": 5
}
